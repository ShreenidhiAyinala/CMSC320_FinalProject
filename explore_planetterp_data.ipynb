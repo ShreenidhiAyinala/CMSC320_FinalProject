{
 "cells": [
  {
   "cell_type": "code",
   "execution_count": 1,
   "id": "0735a9c7-1324-426a-9587-a1c688d0a1f3",
   "metadata": {},
   "outputs": [],
   "source": [
    "import pandas as pd"
   ]
  },
  {
   "cell_type": "code",
   "execution_count": 2,
   "id": "5023509d-45e6-4023-8da2-787e934446a9",
   "metadata": {},
   "outputs": [],
   "source": [
    "course_reviews_data = pd.read_csv(\"2024_02_21_all_reviews\", index_col=0)\n",
    "df = pd.DataFrame(course_reviews_data)"
   ]
  },
  {
   "cell_type": "code",
   "execution_count": 3,
   "id": "0980db9b-a738-4c22-88db-3be3fc54733d",
   "metadata": {},
   "outputs": [
    {
     "data": {
      "text/html": [
       "<div>\n",
       "<style scoped>\n",
       "    .dataframe tbody tr th:only-of-type {\n",
       "        vertical-align: middle;\n",
       "    }\n",
       "\n",
       "    .dataframe tbody tr th {\n",
       "        vertical-align: top;\n",
       "    }\n",
       "\n",
       "    .dataframe thead th {\n",
       "        text-align: right;\n",
       "    }\n",
       "</style>\n",
       "<table border=\"1\" class=\"dataframe\">\n",
       "  <thead>\n",
       "    <tr style=\"text-align: right;\">\n",
       "      <th></th>\n",
       "      <th>course_code</th>\n",
       "      <th>status_code</th>\n",
       "      <th>star_count</th>\n",
       "      <th>prof_name</th>\n",
       "      <th>prof_slug</th>\n",
       "      <th>grade</th>\n",
       "      <th>reviewer_name</th>\n",
       "      <th>date</th>\n",
       "      <th>review_text</th>\n",
       "      <th>review_id</th>\n",
       "    </tr>\n",
       "  </thead>\n",
       "  <tbody>\n",
       "    <tr>\n",
       "      <th>0</th>\n",
       "      <td>NFSC112</td>\n",
       "      <td>200</td>\n",
       "      <td>4</td>\n",
       "      <td>Abani Pradhan</td>\n",
       "      <td>/professor/pradhan</td>\n",
       "      <td>Expecting an A</td>\n",
       "      <td>Anonymous</td>\n",
       "      <td>12/23/2023</td>\n",
       "      <td>Didn't learn anything, but didn't need to. Eas...</td>\n",
       "      <td>review-31256</td>\n",
       "    </tr>\n",
       "    <tr>\n",
       "      <th>1</th>\n",
       "      <td>NFSC112</td>\n",
       "      <td>200</td>\n",
       "      <td>5</td>\n",
       "      <td>Qin Wang</td>\n",
       "      <td>/professor/wang_qin</td>\n",
       "      <td>Expecting an A</td>\n",
       "      <td>Anonymous</td>\n",
       "      <td>12/18/2023</td>\n",
       "      <td>Easy class. The lectures are asynchronous but ...</td>\n",
       "      <td>review-30485</td>\n",
       "    </tr>\n",
       "    <tr>\n",
       "      <th>2</th>\n",
       "      <td>NFSC112</td>\n",
       "      <td>200</td>\n",
       "      <td>5</td>\n",
       "      <td>Xiaoxue Jia</td>\n",
       "      <td>/professor/jia_xiaoxue</td>\n",
       "      <td>Expecting an A</td>\n",
       "      <td>Anonymous</td>\n",
       "      <td>12/13/2023</td>\n",
       "      <td>She is amazing with ADS and helpful with answe...</td>\n",
       "      <td>review-29852</td>\n",
       "    </tr>\n",
       "    <tr>\n",
       "      <th>3</th>\n",
       "      <td>NFSC112</td>\n",
       "      <td>200</td>\n",
       "      <td>2</td>\n",
       "      <td>Abani Pradhan</td>\n",
       "      <td>/professor/pradhan</td>\n",
       "      <td>Expecting a B-</td>\n",
       "      <td>Anonymous</td>\n",
       "      <td>12/06/2023</td>\n",
       "      <td>Easy class as long as you actually watch the l...</td>\n",
       "      <td>review-28855</td>\n",
       "    </tr>\n",
       "    <tr>\n",
       "      <th>4</th>\n",
       "      <td>NFSC112</td>\n",
       "      <td>200</td>\n",
       "      <td>5</td>\n",
       "      <td>Qin Wang</td>\n",
       "      <td>/professor/wang_qin</td>\n",
       "      <td>Expecting an A</td>\n",
       "      <td>Anonymous</td>\n",
       "      <td>11/26/2023</td>\n",
       "      <td>she is a good lecturer, nfsc 112, is \"chill,\" ...</td>\n",
       "      <td>review-28192</td>\n",
       "    </tr>\n",
       "  </tbody>\n",
       "</table>\n",
       "</div>"
      ],
      "text/plain": [
       "  course_code  status_code  star_count      prof_name               prof_slug  \\\n",
       "0     NFSC112          200           4  Abani Pradhan      /professor/pradhan   \n",
       "1     NFSC112          200           5       Qin Wang     /professor/wang_qin   \n",
       "2     NFSC112          200           5    Xiaoxue Jia  /professor/jia_xiaoxue   \n",
       "3     NFSC112          200           2  Abani Pradhan      /professor/pradhan   \n",
       "4     NFSC112          200           5       Qin Wang     /professor/wang_qin   \n",
       "\n",
       "            grade reviewer_name        date  \\\n",
       "0  Expecting an A     Anonymous  12/23/2023   \n",
       "1  Expecting an A     Anonymous  12/18/2023   \n",
       "2  Expecting an A     Anonymous  12/13/2023   \n",
       "3  Expecting a B-     Anonymous  12/06/2023   \n",
       "4  Expecting an A     Anonymous  11/26/2023   \n",
       "\n",
       "                                         review_text     review_id  \n",
       "0  Didn't learn anything, but didn't need to. Eas...  review-31256  \n",
       "1  Easy class. The lectures are asynchronous but ...  review-30485  \n",
       "2  She is amazing with ADS and helpful with answe...  review-29852  \n",
       "3  Easy class as long as you actually watch the l...  review-28855  \n",
       "4  she is a good lecturer, nfsc 112, is \"chill,\" ...  review-28192  "
      ]
     },
     "execution_count": 3,
     "metadata": {},
     "output_type": "execute_result"
    }
   ],
   "source": [
    "df.head()"
   ]
  },
  {
   "cell_type": "code",
   "execution_count": 4,
   "id": "7f2eaf07-2815-4400-add8-c1f13e259234",
   "metadata": {},
   "outputs": [
    {
     "data": {
      "text/plain": [
       "array([4, 5, 2, 3, 1])"
      ]
     },
     "execution_count": 4,
     "metadata": {},
     "output_type": "execute_result"
    }
   ],
   "source": [
    "df.star_count.unique()"
   ]
  },
  {
   "cell_type": "code",
   "execution_count": 5,
   "id": "bb332078-d2d3-4c11-92e4-6801d9f1986e",
   "metadata": {},
   "outputs": [
    {
     "data": {
      "text/plain": [
       "array(['Expecting an A', 'Expecting a B-', 'Expecting an A+',\n",
       "       'Expecting a B+', 'Expecting an A-', 'Expecting a B', nan,\n",
       "       'Expecting a C', 'Expecting a b', 'Expecting a C+',\n",
       "       'Expecting an F', 'Expecting a D', 'Expecting a W',\n",
       "       'Expecting a P', 'Expecting a a', 'Expecting a B?',\n",
       "       'Expecting a c?', 'Expecting a c-', 'Expecting a C-',\n",
       "       'Expecting a D+', 'Expecting a 65', 'Expecting a b+',\n",
       "       'Expecting a c', 'Expecting an XF', 'Expecting a ?',\n",
       "       'Expecting a D-', 'Expecting a A?', 'Expecting a AA',\n",
       "       'Expecting a -A', 'Expecting a s', 'Expecting a b-',\n",
       "       'Expecting a C?', 'Expecting a d', 'Expecting a I',\n",
       "       'Expecting a ??', 'Expecting a a-', 'Expecting a -',\n",
       "       'Expecting a 74', 'Expecting a BC', 'Expecting a CD',\n",
       "       'Expecting a F+', 'Expecting a CB', 'Expecting a 85',\n",
       "       'Expecting a 95', 'Expecting a AU'], dtype=object)"
      ]
     },
     "execution_count": 5,
     "metadata": {},
     "output_type": "execute_result"
    }
   ],
   "source": [
    "df.grade.unique()"
   ]
  },
  {
   "cell_type": "code",
   "execution_count": 7,
   "id": "773a0aae",
   "metadata": {},
   "outputs": [
    {
     "data": {
      "text/plain": [
       "course_code         0\n",
       "status_code         0\n",
       "star_count          0\n",
       "prof_name           0\n",
       "prof_slug           0\n",
       "grade            4135\n",
       "reviewer_name       0\n",
       "date                0\n",
       "review_text         5\n",
       "review_id           0\n",
       "dtype: int64"
      ]
     },
     "execution_count": 7,
     "metadata": {},
     "output_type": "execute_result"
    }
   ],
   "source": [
    "df.isnull().sum()"
   ]
  },
  {
   "cell_type": "code",
   "execution_count": 14,
   "id": "1d4b693c",
   "metadata": {},
   "outputs": [
    {
     "data": {
      "text/plain": [
       "19"
      ]
     },
     "execution_count": 14,
     "metadata": {},
     "output_type": "execute_result"
    }
   ],
   "source": [
    "df.duplicated().sum()"
   ]
  },
  {
   "cell_type": "markdown",
   "id": "4ce056d2",
   "metadata": {},
   "source": [
    "things to do\n",
    "\n",
    "need to combine similiar expecting grades\n",
    "\n",
    "handle null values\n",
    "\n",
    "handle duplicates"
   ]
  },
  {
   "cell_type": "code",
   "execution_count": null,
   "id": "4b42c2ef",
   "metadata": {},
   "outputs": [],
   "source": []
  }
 ],
 "metadata": {
  "kernelspec": {
   "display_name": "Python 3 (ipykernel)",
   "language": "python",
   "name": "python3"
  },
  "language_info": {
   "codemirror_mode": {
    "name": "ipython",
    "version": 3
   },
   "file_extension": ".py",
   "mimetype": "text/x-python",
   "name": "python",
   "nbconvert_exporter": "python",
   "pygments_lexer": "ipython3",
   "version": "3.12.0"
  }
 },
 "nbformat": 4,
 "nbformat_minor": 5
}
