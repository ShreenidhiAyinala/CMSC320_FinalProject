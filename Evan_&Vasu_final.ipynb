{
  "cells": [
    {
      "cell_type": "markdown",
      "id": "39dad5ff-7b97-4414-927e-b58bfbe2f8db",
      "metadata": {
        "id": "39dad5ff-7b97-4414-927e-b58bfbe2f8db"
      },
      "source": [
        "# CMSC 320 Final Project – Checkpoint 2 (Exploratory Data Analysis)\n",
        "\n",
        "### Information from Checkpoint 1:\n",
        "\n",
        "#### Group Members:\n",
        " * Shreenidhi Ayinala\n",
        " * Vasu Mittal\n",
        " * Evan Solomon\n",
        "\n",
        "##### Group Github Repo:\n",
        "https://github.com/ShreenidhiAyinala/CMSC320_FinalProject\n",
        "\n",
        "We will be exploring the Planetterp Reviews Data. This data is a collection of numerical ratings\n",
        "and unstructured text regarding students’ experiences in courses at UMD, College Park.\n",
        "Source domain: https://planetterp.com/\n",
        "\n",
        "The reviews pages are not a part of the public API, so we scraped the data programmatically\n",
        "from the reviews pages for all the courses on the site.\n",
        "An example of a reviews page for the course CMSC420 is available at:\n",
        "https://planetterp.com/course/CMSC420/reviews\n",
        "\n",
        "##### Features of the data:\n",
        "Each record is of a review left by a student, and it contains the following information/features:\n",
        "- Date that the review was made\n",
        "- Course Department and Number (e.g. CMSC320)\n",
        "- Star rating out of 5 stars (i.e. a ‘top’ rating would be 5 stars, and the lowest rating is 1\n",
        "star)\n",
        "- Professor name\n",
        "- Grade that the student received or is expecting to receive\n",
        "- Review text – unstructured text that the reviewer can use to supplement their review\n",
        "\n",
        "##### Size of the Data:\n",
        "There are approximately 23,000 records that we collected. To the best of our knowledge, this\n",
        "represents the totality of all the reviews at Planetterp.com"
      ]
    },
    {
      "cell_type": "markdown",
      "id": "72649041-e663-4c43-9caa-74d0fa9b9ebe",
      "metadata": {
        "id": "72649041-e663-4c43-9caa-74d0fa9b9ebe"
      },
      "source": [
        "# Exploratory Data Analysis:\n",
        "\n",
        "## Questions about the data that we explore:\n",
        "1. Is there a difference in the distribution of the ratings students give courses, between the groups of students who expect to receive an A, and those who expect to recieve a lower grade?\n",
        "2. Is there a significant difference in mean GPA across different levels of CS courses and different years?\n",
        "3. Is there a ... Vasu/Shreenidhi, please fill in..."
      ]
    },
    {
      "cell_type": "code",
      "execution_count": 50,
      "id": "0735a9c7-1324-426a-9587-a1c688d0a1f3",
      "metadata": {
        "id": "0735a9c7-1324-426a-9587-a1c688d0a1f3"
      },
      "outputs": [],
      "source": [
        "# import packages\n",
        "import pandas as pd\n",
        "import numpy as np\n",
        "from scipy import stats\n",
        "import matplotlib.pyplot as plt\n",
        "import re\n",
        "import statsmodels.api as sm\n",
        "from statsmodels.formula.api import ols"
      ]
    },
    {
      "cell_type": "code",
      "execution_count": 51,
      "id": "5023509d-45e6-4023-8da2-787e934446a9",
      "metadata": {
        "id": "5023509d-45e6-4023-8da2-787e934446a9"
      },
      "outputs": [],
      "source": [
        "course_reviews_data = pd.read_csv(\"2024_02_21_all_reviews\", index_col=0)\n",
        "df = pd.DataFrame(course_reviews_data)"
      ]
    },
    {
      "cell_type": "markdown",
      "id": "27f746ff-8a95-4e66-8105-fff05fd09c51",
      "metadata": {
        "id": "27f746ff-8a95-4e66-8105-fff05fd09c51"
      },
      "source": [
        "#### Peek at the data"
      ]
    },
    {
      "cell_type": "code",
      "execution_count": 52,
      "id": "0980db9b-a738-4c22-88db-3be3fc54733d",
      "metadata": {
        "scrolled": true,
        "colab": {
          "base_uri": "https://localhost:8080/",
          "height": 521
        },
        "id": "0980db9b-a738-4c22-88db-3be3fc54733d",
        "outputId": "8ef96f0d-7905-453e-ada5-bf1ca05d10ff"
      },
      "outputs": [
        {
          "output_type": "execute_result",
          "data": {
            "text/plain": [
              "  course_code  status_code  star_count      prof_name               prof_slug  \\\n",
              "0     NFSC112          200           4  Abani Pradhan      /professor/pradhan   \n",
              "1     NFSC112          200           5       Qin Wang     /professor/wang_qin   \n",
              "2     NFSC112          200           5    Xiaoxue Jia  /professor/jia_xiaoxue   \n",
              "3     NFSC112          200           2  Abani Pradhan      /professor/pradhan   \n",
              "4     NFSC112          200           5       Qin Wang     /professor/wang_qin   \n",
              "\n",
              "            grade reviewer_name        date  \\\n",
              "0  Expecting an A     Anonymous  12/23/2023   \n",
              "1  Expecting an A     Anonymous  12/18/2023   \n",
              "2  Expecting an A     Anonymous  12/13/2023   \n",
              "3  Expecting a B-     Anonymous  12/06/2023   \n",
              "4  Expecting an A     Anonymous  11/26/2023   \n",
              "\n",
              "                                         review_text     review_id  \n",
              "0  Didn't learn anything, but didn't need to. Eas...  review-31256  \n",
              "1  Easy class. The lectures are asynchronous but ...  review-30485  \n",
              "2  She is amazing with ADS and helpful with answe...  review-29852  \n",
              "3  Easy class as long as you actually watch the l...  review-28855  \n",
              "4  she is a good lecturer, nfsc 112, is \"chill,\" ...  review-28192  "
            ],
            "text/html": [
              "\n",
              "  <div id=\"df-37df36f3-1efb-473c-b533-5c0dcc524dc7\" class=\"colab-df-container\">\n",
              "    <div>\n",
              "<style scoped>\n",
              "    .dataframe tbody tr th:only-of-type {\n",
              "        vertical-align: middle;\n",
              "    }\n",
              "\n",
              "    .dataframe tbody tr th {\n",
              "        vertical-align: top;\n",
              "    }\n",
              "\n",
              "    .dataframe thead th {\n",
              "        text-align: right;\n",
              "    }\n",
              "</style>\n",
              "<table border=\"1\" class=\"dataframe\">\n",
              "  <thead>\n",
              "    <tr style=\"text-align: right;\">\n",
              "      <th></th>\n",
              "      <th>course_code</th>\n",
              "      <th>status_code</th>\n",
              "      <th>star_count</th>\n",
              "      <th>prof_name</th>\n",
              "      <th>prof_slug</th>\n",
              "      <th>grade</th>\n",
              "      <th>reviewer_name</th>\n",
              "      <th>date</th>\n",
              "      <th>review_text</th>\n",
              "      <th>review_id</th>\n",
              "    </tr>\n",
              "  </thead>\n",
              "  <tbody>\n",
              "    <tr>\n",
              "      <th>0</th>\n",
              "      <td>NFSC112</td>\n",
              "      <td>200</td>\n",
              "      <td>4</td>\n",
              "      <td>Abani Pradhan</td>\n",
              "      <td>/professor/pradhan</td>\n",
              "      <td>Expecting an A</td>\n",
              "      <td>Anonymous</td>\n",
              "      <td>12/23/2023</td>\n",
              "      <td>Didn't learn anything, but didn't need to. Eas...</td>\n",
              "      <td>review-31256</td>\n",
              "    </tr>\n",
              "    <tr>\n",
              "      <th>1</th>\n",
              "      <td>NFSC112</td>\n",
              "      <td>200</td>\n",
              "      <td>5</td>\n",
              "      <td>Qin Wang</td>\n",
              "      <td>/professor/wang_qin</td>\n",
              "      <td>Expecting an A</td>\n",
              "      <td>Anonymous</td>\n",
              "      <td>12/18/2023</td>\n",
              "      <td>Easy class. The lectures are asynchronous but ...</td>\n",
              "      <td>review-30485</td>\n",
              "    </tr>\n",
              "    <tr>\n",
              "      <th>2</th>\n",
              "      <td>NFSC112</td>\n",
              "      <td>200</td>\n",
              "      <td>5</td>\n",
              "      <td>Xiaoxue Jia</td>\n",
              "      <td>/professor/jia_xiaoxue</td>\n",
              "      <td>Expecting an A</td>\n",
              "      <td>Anonymous</td>\n",
              "      <td>12/13/2023</td>\n",
              "      <td>She is amazing with ADS and helpful with answe...</td>\n",
              "      <td>review-29852</td>\n",
              "    </tr>\n",
              "    <tr>\n",
              "      <th>3</th>\n",
              "      <td>NFSC112</td>\n",
              "      <td>200</td>\n",
              "      <td>2</td>\n",
              "      <td>Abani Pradhan</td>\n",
              "      <td>/professor/pradhan</td>\n",
              "      <td>Expecting a B-</td>\n",
              "      <td>Anonymous</td>\n",
              "      <td>12/06/2023</td>\n",
              "      <td>Easy class as long as you actually watch the l...</td>\n",
              "      <td>review-28855</td>\n",
              "    </tr>\n",
              "    <tr>\n",
              "      <th>4</th>\n",
              "      <td>NFSC112</td>\n",
              "      <td>200</td>\n",
              "      <td>5</td>\n",
              "      <td>Qin Wang</td>\n",
              "      <td>/professor/wang_qin</td>\n",
              "      <td>Expecting an A</td>\n",
              "      <td>Anonymous</td>\n",
              "      <td>11/26/2023</td>\n",
              "      <td>she is a good lecturer, nfsc 112, is \"chill,\" ...</td>\n",
              "      <td>review-28192</td>\n",
              "    </tr>\n",
              "  </tbody>\n",
              "</table>\n",
              "</div>\n",
              "    <div class=\"colab-df-buttons\">\n",
              "\n",
              "  <div class=\"colab-df-container\">\n",
              "    <button class=\"colab-df-convert\" onclick=\"convertToInteractive('df-37df36f3-1efb-473c-b533-5c0dcc524dc7')\"\n",
              "            title=\"Convert this dataframe to an interactive table.\"\n",
              "            style=\"display:none;\">\n",
              "\n",
              "  <svg xmlns=\"http://www.w3.org/2000/svg\" height=\"24px\" viewBox=\"0 -960 960 960\">\n",
              "    <path d=\"M120-120v-720h720v720H120Zm60-500h600v-160H180v160Zm220 220h160v-160H400v160Zm0 220h160v-160H400v160ZM180-400h160v-160H180v160Zm440 0h160v-160H620v160ZM180-180h160v-160H180v160Zm440 0h160v-160H620v160Z\"/>\n",
              "  </svg>\n",
              "    </button>\n",
              "\n",
              "  <style>\n",
              "    .colab-df-container {\n",
              "      display:flex;\n",
              "      gap: 12px;\n",
              "    }\n",
              "\n",
              "    .colab-df-convert {\n",
              "      background-color: #E8F0FE;\n",
              "      border: none;\n",
              "      border-radius: 50%;\n",
              "      cursor: pointer;\n",
              "      display: none;\n",
              "      fill: #1967D2;\n",
              "      height: 32px;\n",
              "      padding: 0 0 0 0;\n",
              "      width: 32px;\n",
              "    }\n",
              "\n",
              "    .colab-df-convert:hover {\n",
              "      background-color: #E2EBFA;\n",
              "      box-shadow: 0px 1px 2px rgba(60, 64, 67, 0.3), 0px 1px 3px 1px rgba(60, 64, 67, 0.15);\n",
              "      fill: #174EA6;\n",
              "    }\n",
              "\n",
              "    .colab-df-buttons div {\n",
              "      margin-bottom: 4px;\n",
              "    }\n",
              "\n",
              "    [theme=dark] .colab-df-convert {\n",
              "      background-color: #3B4455;\n",
              "      fill: #D2E3FC;\n",
              "    }\n",
              "\n",
              "    [theme=dark] .colab-df-convert:hover {\n",
              "      background-color: #434B5C;\n",
              "      box-shadow: 0px 1px 3px 1px rgba(0, 0, 0, 0.15);\n",
              "      filter: drop-shadow(0px 1px 2px rgba(0, 0, 0, 0.3));\n",
              "      fill: #FFFFFF;\n",
              "    }\n",
              "  </style>\n",
              "\n",
              "    <script>\n",
              "      const buttonEl =\n",
              "        document.querySelector('#df-37df36f3-1efb-473c-b533-5c0dcc524dc7 button.colab-df-convert');\n",
              "      buttonEl.style.display =\n",
              "        google.colab.kernel.accessAllowed ? 'block' : 'none';\n",
              "\n",
              "      async function convertToInteractive(key) {\n",
              "        const element = document.querySelector('#df-37df36f3-1efb-473c-b533-5c0dcc524dc7');\n",
              "        const dataTable =\n",
              "          await google.colab.kernel.invokeFunction('convertToInteractive',\n",
              "                                                    [key], {});\n",
              "        if (!dataTable) return;\n",
              "\n",
              "        const docLinkHtml = 'Like what you see? Visit the ' +\n",
              "          '<a target=\"_blank\" href=https://colab.research.google.com/notebooks/data_table.ipynb>data table notebook</a>'\n",
              "          + ' to learn more about interactive tables.';\n",
              "        element.innerHTML = '';\n",
              "        dataTable['output_type'] = 'display_data';\n",
              "        await google.colab.output.renderOutput(dataTable, element);\n",
              "        const docLink = document.createElement('div');\n",
              "        docLink.innerHTML = docLinkHtml;\n",
              "        element.appendChild(docLink);\n",
              "      }\n",
              "    </script>\n",
              "  </div>\n",
              "\n",
              "\n",
              "<div id=\"df-703e22b7-ce40-4b83-a51a-0fb733783119\">\n",
              "  <button class=\"colab-df-quickchart\" onclick=\"quickchart('df-703e22b7-ce40-4b83-a51a-0fb733783119')\"\n",
              "            title=\"Suggest charts\"\n",
              "            style=\"display:none;\">\n",
              "\n",
              "<svg xmlns=\"http://www.w3.org/2000/svg\" height=\"24px\"viewBox=\"0 0 24 24\"\n",
              "     width=\"24px\">\n",
              "    <g>\n",
              "        <path d=\"M19 3H5c-1.1 0-2 .9-2 2v14c0 1.1.9 2 2 2h14c1.1 0 2-.9 2-2V5c0-1.1-.9-2-2-2zM9 17H7v-7h2v7zm4 0h-2V7h2v10zm4 0h-2v-4h2v4z\"/>\n",
              "    </g>\n",
              "</svg>\n",
              "  </button>\n",
              "\n",
              "<style>\n",
              "  .colab-df-quickchart {\n",
              "      --bg-color: #E8F0FE;\n",
              "      --fill-color: #1967D2;\n",
              "      --hover-bg-color: #E2EBFA;\n",
              "      --hover-fill-color: #174EA6;\n",
              "      --disabled-fill-color: #AAA;\n",
              "      --disabled-bg-color: #DDD;\n",
              "  }\n",
              "\n",
              "  [theme=dark] .colab-df-quickchart {\n",
              "      --bg-color: #3B4455;\n",
              "      --fill-color: #D2E3FC;\n",
              "      --hover-bg-color: #434B5C;\n",
              "      --hover-fill-color: #FFFFFF;\n",
              "      --disabled-bg-color: #3B4455;\n",
              "      --disabled-fill-color: #666;\n",
              "  }\n",
              "\n",
              "  .colab-df-quickchart {\n",
              "    background-color: var(--bg-color);\n",
              "    border: none;\n",
              "    border-radius: 50%;\n",
              "    cursor: pointer;\n",
              "    display: none;\n",
              "    fill: var(--fill-color);\n",
              "    height: 32px;\n",
              "    padding: 0;\n",
              "    width: 32px;\n",
              "  }\n",
              "\n",
              "  .colab-df-quickchart:hover {\n",
              "    background-color: var(--hover-bg-color);\n",
              "    box-shadow: 0 1px 2px rgba(60, 64, 67, 0.3), 0 1px 3px 1px rgba(60, 64, 67, 0.15);\n",
              "    fill: var(--button-hover-fill-color);\n",
              "  }\n",
              "\n",
              "  .colab-df-quickchart-complete:disabled,\n",
              "  .colab-df-quickchart-complete:disabled:hover {\n",
              "    background-color: var(--disabled-bg-color);\n",
              "    fill: var(--disabled-fill-color);\n",
              "    box-shadow: none;\n",
              "  }\n",
              "\n",
              "  .colab-df-spinner {\n",
              "    border: 2px solid var(--fill-color);\n",
              "    border-color: transparent;\n",
              "    border-bottom-color: var(--fill-color);\n",
              "    animation:\n",
              "      spin 1s steps(1) infinite;\n",
              "  }\n",
              "\n",
              "  @keyframes spin {\n",
              "    0% {\n",
              "      border-color: transparent;\n",
              "      border-bottom-color: var(--fill-color);\n",
              "      border-left-color: var(--fill-color);\n",
              "    }\n",
              "    20% {\n",
              "      border-color: transparent;\n",
              "      border-left-color: var(--fill-color);\n",
              "      border-top-color: var(--fill-color);\n",
              "    }\n",
              "    30% {\n",
              "      border-color: transparent;\n",
              "      border-left-color: var(--fill-color);\n",
              "      border-top-color: var(--fill-color);\n",
              "      border-right-color: var(--fill-color);\n",
              "    }\n",
              "    40% {\n",
              "      border-color: transparent;\n",
              "      border-right-color: var(--fill-color);\n",
              "      border-top-color: var(--fill-color);\n",
              "    }\n",
              "    60% {\n",
              "      border-color: transparent;\n",
              "      border-right-color: var(--fill-color);\n",
              "    }\n",
              "    80% {\n",
              "      border-color: transparent;\n",
              "      border-right-color: var(--fill-color);\n",
              "      border-bottom-color: var(--fill-color);\n",
              "    }\n",
              "    90% {\n",
              "      border-color: transparent;\n",
              "      border-bottom-color: var(--fill-color);\n",
              "    }\n",
              "  }\n",
              "</style>\n",
              "\n",
              "  <script>\n",
              "    async function quickchart(key) {\n",
              "      const quickchartButtonEl =\n",
              "        document.querySelector('#' + key + ' button');\n",
              "      quickchartButtonEl.disabled = true;  // To prevent multiple clicks.\n",
              "      quickchartButtonEl.classList.add('colab-df-spinner');\n",
              "      try {\n",
              "        const charts = await google.colab.kernel.invokeFunction(\n",
              "            'suggestCharts', [key], {});\n",
              "      } catch (error) {\n",
              "        console.error('Error during call to suggestCharts:', error);\n",
              "      }\n",
              "      quickchartButtonEl.classList.remove('colab-df-spinner');\n",
              "      quickchartButtonEl.classList.add('colab-df-quickchart-complete');\n",
              "    }\n",
              "    (() => {\n",
              "      let quickchartButtonEl =\n",
              "        document.querySelector('#df-703e22b7-ce40-4b83-a51a-0fb733783119 button');\n",
              "      quickchartButtonEl.style.display =\n",
              "        google.colab.kernel.accessAllowed ? 'block' : 'none';\n",
              "    })();\n",
              "  </script>\n",
              "</div>\n",
              "\n",
              "    </div>\n",
              "  </div>\n"
            ],
            "application/vnd.google.colaboratory.intrinsic+json": {
              "type": "dataframe",
              "variable_name": "df",
              "summary": "{\n  \"name\": \"df\",\n  \"rows\": 26163,\n  \"fields\": [\n    {\n      \"column\": \"course_code\",\n      \"properties\": {\n        \"dtype\": \"category\",\n        \"num_unique_values\": 2815,\n        \"samples\": [\n          \"ARTT210\",\n          \"BMGT326\",\n          \"ENME361\"\n        ],\n        \"semantic_type\": \"\",\n        \"description\": \"\"\n      }\n    },\n    {\n      \"column\": \"status_code\",\n      \"properties\": {\n        \"dtype\": \"number\",\n        \"std\": 0,\n        \"min\": 200,\n        \"max\": 200,\n        \"num_unique_values\": 1,\n        \"samples\": [\n          200\n        ],\n        \"semantic_type\": \"\",\n        \"description\": \"\"\n      }\n    },\n    {\n      \"column\": \"star_count\",\n      \"properties\": {\n        \"dtype\": \"number\",\n        \"std\": 1,\n        \"min\": 1,\n        \"max\": 5,\n        \"num_unique_values\": 5,\n        \"samples\": [\n          5\n        ],\n        \"semantic_type\": \"\",\n        \"description\": \"\"\n      }\n    },\n    {\n      \"column\": \"prof_name\",\n      \"properties\": {\n        \"dtype\": \"category\",\n        \"num_unique_values\": 3767,\n        \"samples\": [\n          \"Thomas Messersmith\"\n        ],\n        \"semantic_type\": \"\",\n        \"description\": \"\"\n      }\n    },\n    {\n      \"column\": \"prof_slug\",\n      \"properties\": {\n        \"dtype\": \"category\",\n        \"num_unique_values\": 3769,\n        \"samples\": [\n          \"/professor/messersmith\"\n        ],\n        \"semantic_type\": \"\",\n        \"description\": \"\"\n      }\n    },\n    {\n      \"column\": \"grade\",\n      \"properties\": {\n        \"dtype\": \"category\",\n        \"num_unique_values\": 44,\n        \"samples\": [\n          \"Expecting a BC\"\n        ],\n        \"semantic_type\": \"\",\n        \"description\": \"\"\n      }\n    },\n    {\n      \"column\": \"reviewer_name\",\n      \"properties\": {\n        \"dtype\": \"category\",\n        \"num_unique_values\": 1690,\n        \"samples\": [\n          \"boringb\"\n        ],\n        \"semantic_type\": \"\",\n        \"description\": \"\"\n      }\n    },\n    {\n      \"column\": \"date\",\n      \"properties\": {\n        \"dtype\": \"object\",\n        \"num_unique_values\": 3544,\n        \"samples\": [\n          \"05/01/2012\"\n        ],\n        \"semantic_type\": \"\",\n        \"description\": \"\"\n      }\n    },\n    {\n      \"column\": \"review_text\",\n      \"properties\": {\n        \"dtype\": \"string\",\n        \"num_unique_values\": 26069,\n        \"samples\": [\n          \"Professor Mignerey can be nice but also condescending and its so discouraging to get LAUGHED at when you ask a question about a topic that is obviously hard for someone who doesn't have a PhD in Chemistry like her. This happened to multiple people, oh and she was also extremely rude to people who came in to fix simple technological issues that she could not figure out. This class is so heavily dependent on the exams which makes it so stressful, and the final was hard. Although chemistry is gonna be hard with any professor most likely, you are probably better off with a professor that tries to be understanding so take someone else.\"\n        ],\n        \"semantic_type\": \"\",\n        \"description\": \"\"\n      }\n    },\n    {\n      \"column\": \"review_id\",\n      \"properties\": {\n        \"dtype\": \"string\",\n        \"num_unique_values\": 26144,\n        \"samples\": [\n          \"review-15037\"\n        ],\n        \"semantic_type\": \"\",\n        \"description\": \"\"\n      }\n    }\n  ]\n}"
            }
          },
          "metadata": {},
          "execution_count": 52
        }
      ],
      "source": [
        "df.head()"
      ]
    },
    {
      "cell_type": "markdown",
      "id": "87ce5c64-a1ef-425f-b21e-652d08cd3ab2",
      "metadata": {
        "id": "87ce5c64-a1ef-425f-b21e-652d08cd3ab2"
      },
      "source": [
        "#### Cleaning and Feature Engineering for subsequent analysis"
      ]
    },
    {
      "cell_type": "code",
      "execution_count": 53,
      "id": "adcd3483-45bb-4610-a823-b77bd06b31eb",
      "metadata": {
        "id": "adcd3483-45bb-4610-a823-b77bd06b31eb"
      },
      "outputs": [],
      "source": [
        "# extract dept and course_num using a regular expression\n",
        "df[['dept', 'course_num']] = df['course_code'].str.extract('([A-Z]{4})([0-9]+[A-Z]*)', expand=True)\n",
        "\n",
        "# rename grade => expected_grade\n",
        "df = df.rename(columns={\"grade\": \"expected_grade\"})\n",
        "\n",
        "# convert date => datetime, and add month, year cols\n",
        "df['date'] = pd.to_datetime(df['date'])\n",
        "df['month'] = df.date.dt.to_period('M')\n",
        "\n",
        "def date_to_year_finder(date):\n",
        "  return date.year\n",
        "\n",
        "new_year_df = df['date'].apply(date_to_year_finder)\n",
        "df['year'] = new_year_df\n",
        "\n",
        "# drop status_code, prof_slug, review_id, and course_code\n",
        "df = df.loc[:, ~df.columns.isin(['status_code', 'prof_slug','review_id'])]\n",
        "\n",
        "# convert star_count to numeric\n",
        "df['star_count'] = pd.to_numeric(df['star_count'])\n",
        "\n",
        "# dropping duplicates\n",
        "df.drop_duplicates(inplace=True)"
      ]
    },
    {
      "cell_type": "code",
      "execution_count": 54,
      "id": "08bfc5b6-e0ef-4671-bfc9-d2f29193665b",
      "metadata": {
        "id": "08bfc5b6-e0ef-4671-bfc9-d2f29193665b"
      },
      "outputs": [],
      "source": [
        "# clean up expected grades\n",
        "# map letter grades to numeric\n",
        "df['expected_grade'] = df['expected_grade'].str.extract('(Expecting a[n]? )([A-z0-9\\-?+]{1,2})', expand=True)[1]\n",
        "df.expected_grade = df.expected_grade.str.upper()\n",
        "\n",
        "grade_mapper = {\n",
        "    \"A+\":4.0,\n",
        "    \"A\":4.0,\n",
        "    \"AA\":4.0,\n",
        "    \"A?\":4.0,\n",
        "    \"A-\":3.7,\n",
        "    \"-A\":3.7,\n",
        "    \"B+\":3.3,\n",
        "    \"B\":3.0,\n",
        "    \"B?\":3.0,\n",
        "    \"B-\":2.7,\n",
        "    \"BC\":2.5,\n",
        "    \"CB\":2.5,\n",
        "    \"C+\":2.3,\n",
        "    \"C\":2.0,\n",
        "    \"C?\":2.0,\n",
        "    \"C-\":1.7,\n",
        "    \"CD\":1.5,\n",
        "    \"D+\":1.3,\n",
        "    \"D\":1.0,\n",
        "    \"D-\":0.7,\n",
        "    \"F\":0,\n",
        "    \"F+\":0,\n",
        "    \"XF\":0,\n",
        "    \"P\":None,\n",
        "    \"S\":None,\n",
        "    \"I\":None,\n",
        "    \"-\":None,\n",
        "    \"AU\":None,\n",
        "    \"??\":None,\n",
        "    \"?\":None,\n",
        "    \"W\":None\n",
        "}\n",
        "\n",
        "def map_grades_to_gpa(letter_grade):\n",
        "    if pd.isna(letter_grade) or letter_grade == np.nan :\n",
        "        return None\n",
        "    else:\n",
        "        if letter_grade.isnumeric():\n",
        "            return None\n",
        "        elif ( letter_grade in grade_mapper.keys()):\n",
        "            return grade_mapper[letter_grade]\n",
        "        else:\n",
        "            print(\"Not in mapper: \" +letter_grade)\n",
        "            return None\n",
        "\n",
        "df['gpa_grade'] = df['expected_grade'].apply(map_grades_to_gpa)\n"
      ]
    },
    {
      "cell_type": "code",
      "source": [
        "# adding a new term feature to our dataframe for analysis\n",
        "\n",
        "term_mapper = {\n",
        "    2: \"Spring\",\n",
        "    3: \"Spring\",\n",
        "    4: \"Spring\",\n",
        "    6: \"Summer\",\n",
        "    7: \"Summer\",\n",
        "    9: \"Fall\",\n",
        "    10: \"Fall\",\n",
        "    11: \"Fall\",\n",
        "}\n",
        "\n",
        "def date_to_term_finder(date):\n",
        "    month = date.month\n",
        "    day = date.day\n",
        "    if (month == 5 and day <= 20) or (month == 1 and day > 20):\n",
        "        term = \"Spring\"\n",
        "    elif (month == 5 and day > 20) or (month == 8 and day <= 20):\n",
        "        term = \"Summer\"\n",
        "    elif (month == 8 and day > 20) or (month == 12 and day <= 20):\n",
        "        term = \"Fall\"\n",
        "    elif month == 12 and day > 20 or (month == 1 and day <= 20):\n",
        "        term = \"Winter\"\n",
        "    else:\n",
        "        term = term_mapper.get(month, \"Unknown\")\n",
        "    return term\n",
        "\n",
        "new_terms_df = df['date'].apply(date_to_term_finder)\n",
        "df['term'] = new_terms_df"
      ],
      "metadata": {
        "id": "WiB5a5LE8BNM"
      },
      "id": "WiB5a5LE8BNM",
      "execution_count": 55,
      "outputs": []
    },
    {
      "cell_type": "code",
      "source": [
        "# adding a new level feature to our dataframe to determine the level of\n",
        "# our course for the purpose of the analysis\n",
        "\n",
        "def course_level_finder(course_code):\n",
        "    course_level_pattern = r'([0-9]{3})[A-Z]?'\n",
        "    course_regex = re.compile(course_level_pattern)\n",
        "    course_level_match = course_regex.search(course_code)\n",
        "    if course_level_match:\n",
        "        course_level = int(course_level_match.group(1))\n",
        "        if course_level >= 100 and course_level < 200:\n",
        "            return 100\n",
        "        elif course_level >= 200 and course_level < 300:\n",
        "            return 200\n",
        "        elif course_level >= 300 and course_level < 400:\n",
        "            return 300\n",
        "        elif course_level >= 400 and course_level < 500:\n",
        "            return 400\n",
        "        elif course_level >= 500 and course_level < 600:\n",
        "            return 500\n",
        "        elif course_level >= 600 and course_level < 700:\n",
        "            return 600\n",
        "        elif course_level >= 700 and course_level < 800:\n",
        "            return 700\n",
        "        else:\n",
        "            return 800\n",
        "df_cmsc = df.copy()\n",
        "df_cmsc.loc[:, 'level'] = df['course_num'].apply(course_level_finder)\n",
        "df = df_cmsc"
      ],
      "metadata": {
        "id": "DaVEs8Qh8Qkb"
      },
      "id": "DaVEs8Qh8Qkb",
      "execution_count": 56,
      "outputs": []
    },
    {
      "cell_type": "code",
      "source": [
        "#introducting a new gpa_category feature for analysis purpose\n",
        "# 1) 0.0 - 2.5 : 1\n",
        "# 2) 2.6 - 3.5 : 2\n",
        "# 3) 3.6 - 4.0 : 3\n",
        "\n",
        "def gpa_grade_to_category(gpa_grade):\n",
        "  if gpa_grade >= 0.0 and gpa_grade <= 2.5:\n",
        "    return 1\n",
        "  elif gpa_grade > 2.5 and gpa_grade <= 3.5:\n",
        "    return 2\n",
        "  else:\n",
        "    return 3\n",
        "\n",
        "updated_df_cmsc = df.copy()\n",
        "updated_df_cmsc.loc[:,'gpa_category'] = df['gpa_grade'].apply(gpa_grade_to_category)\n",
        "df = updated_df_cmsc"
      ],
      "metadata": {
        "id": "jv1tXzwZ80Jr"
      },
      "id": "jv1tXzwZ80Jr",
      "execution_count": 57,
      "outputs": []
    },
    {
      "cell_type": "markdown",
      "id": "7524b364-12f9-41da-b1dd-30ebbf9ce898",
      "metadata": {
        "id": "7524b364-12f9-41da-b1dd-30ebbf9ce898"
      },
      "source": [
        "#### Peek after cleaning / feature engineering"
      ]
    },
    {
      "cell_type": "code",
      "execution_count": 58,
      "id": "ecc512c5-ac4d-460a-aac5-6fedcaa303a8",
      "metadata": {
        "colab": {
          "base_uri": "https://localhost:8080/",
          "height": 521
        },
        "id": "ecc512c5-ac4d-460a-aac5-6fedcaa303a8",
        "outputId": "bef16272-6205-45d0-c2e4-230ac7282c72"
      },
      "outputs": [
        {
          "output_type": "execute_result",
          "data": {
            "text/plain": [
              "  course_code  star_count      prof_name expected_grade reviewer_name  \\\n",
              "0     NFSC112           4  Abani Pradhan              A     Anonymous   \n",
              "1     NFSC112           5       Qin Wang              A     Anonymous   \n",
              "2     NFSC112           5    Xiaoxue Jia              A     Anonymous   \n",
              "3     NFSC112           2  Abani Pradhan             B-     Anonymous   \n",
              "4     NFSC112           5       Qin Wang              A     Anonymous   \n",
              "\n",
              "        date                                        review_text  dept  \\\n",
              "0 2023-12-23  Didn't learn anything, but didn't need to. Eas...  NFSC   \n",
              "1 2023-12-18  Easy class. The lectures are asynchronous but ...  NFSC   \n",
              "2 2023-12-13  She is amazing with ADS and helpful with answe...  NFSC   \n",
              "3 2023-12-06  Easy class as long as you actually watch the l...  NFSC   \n",
              "4 2023-11-26  she is a good lecturer, nfsc 112, is \"chill,\" ...  NFSC   \n",
              "\n",
              "  course_num    month  year  gpa_grade    term  level  gpa_category  \n",
              "0        112  2023-12  2023        4.0  Winter    100             3  \n",
              "1        112  2023-12  2023        4.0    Fall    100             3  \n",
              "2        112  2023-12  2023        4.0    Fall    100             3  \n",
              "3        112  2023-12  2023        2.7    Fall    100             2  \n",
              "4        112  2023-11  2023        4.0    Fall    100             3  "
            ],
            "text/html": [
              "\n",
              "  <div id=\"df-facf3adb-31cf-4fe1-bc99-265596bf2cfa\" class=\"colab-df-container\">\n",
              "    <div>\n",
              "<style scoped>\n",
              "    .dataframe tbody tr th:only-of-type {\n",
              "        vertical-align: middle;\n",
              "    }\n",
              "\n",
              "    .dataframe tbody tr th {\n",
              "        vertical-align: top;\n",
              "    }\n",
              "\n",
              "    .dataframe thead th {\n",
              "        text-align: right;\n",
              "    }\n",
              "</style>\n",
              "<table border=\"1\" class=\"dataframe\">\n",
              "  <thead>\n",
              "    <tr style=\"text-align: right;\">\n",
              "      <th></th>\n",
              "      <th>course_code</th>\n",
              "      <th>star_count</th>\n",
              "      <th>prof_name</th>\n",
              "      <th>expected_grade</th>\n",
              "      <th>reviewer_name</th>\n",
              "      <th>date</th>\n",
              "      <th>review_text</th>\n",
              "      <th>dept</th>\n",
              "      <th>course_num</th>\n",
              "      <th>month</th>\n",
              "      <th>year</th>\n",
              "      <th>gpa_grade</th>\n",
              "      <th>term</th>\n",
              "      <th>level</th>\n",
              "      <th>gpa_category</th>\n",
              "    </tr>\n",
              "  </thead>\n",
              "  <tbody>\n",
              "    <tr>\n",
              "      <th>0</th>\n",
              "      <td>NFSC112</td>\n",
              "      <td>4</td>\n",
              "      <td>Abani Pradhan</td>\n",
              "      <td>A</td>\n",
              "      <td>Anonymous</td>\n",
              "      <td>2023-12-23</td>\n",
              "      <td>Didn't learn anything, but didn't need to. Eas...</td>\n",
              "      <td>NFSC</td>\n",
              "      <td>112</td>\n",
              "      <td>2023-12</td>\n",
              "      <td>2023</td>\n",
              "      <td>4.0</td>\n",
              "      <td>Winter</td>\n",
              "      <td>100</td>\n",
              "      <td>3</td>\n",
              "    </tr>\n",
              "    <tr>\n",
              "      <th>1</th>\n",
              "      <td>NFSC112</td>\n",
              "      <td>5</td>\n",
              "      <td>Qin Wang</td>\n",
              "      <td>A</td>\n",
              "      <td>Anonymous</td>\n",
              "      <td>2023-12-18</td>\n",
              "      <td>Easy class. The lectures are asynchronous but ...</td>\n",
              "      <td>NFSC</td>\n",
              "      <td>112</td>\n",
              "      <td>2023-12</td>\n",
              "      <td>2023</td>\n",
              "      <td>4.0</td>\n",
              "      <td>Fall</td>\n",
              "      <td>100</td>\n",
              "      <td>3</td>\n",
              "    </tr>\n",
              "    <tr>\n",
              "      <th>2</th>\n",
              "      <td>NFSC112</td>\n",
              "      <td>5</td>\n",
              "      <td>Xiaoxue Jia</td>\n",
              "      <td>A</td>\n",
              "      <td>Anonymous</td>\n",
              "      <td>2023-12-13</td>\n",
              "      <td>She is amazing with ADS and helpful with answe...</td>\n",
              "      <td>NFSC</td>\n",
              "      <td>112</td>\n",
              "      <td>2023-12</td>\n",
              "      <td>2023</td>\n",
              "      <td>4.0</td>\n",
              "      <td>Fall</td>\n",
              "      <td>100</td>\n",
              "      <td>3</td>\n",
              "    </tr>\n",
              "    <tr>\n",
              "      <th>3</th>\n",
              "      <td>NFSC112</td>\n",
              "      <td>2</td>\n",
              "      <td>Abani Pradhan</td>\n",
              "      <td>B-</td>\n",
              "      <td>Anonymous</td>\n",
              "      <td>2023-12-06</td>\n",
              "      <td>Easy class as long as you actually watch the l...</td>\n",
              "      <td>NFSC</td>\n",
              "      <td>112</td>\n",
              "      <td>2023-12</td>\n",
              "      <td>2023</td>\n",
              "      <td>2.7</td>\n",
              "      <td>Fall</td>\n",
              "      <td>100</td>\n",
              "      <td>2</td>\n",
              "    </tr>\n",
              "    <tr>\n",
              "      <th>4</th>\n",
              "      <td>NFSC112</td>\n",
              "      <td>5</td>\n",
              "      <td>Qin Wang</td>\n",
              "      <td>A</td>\n",
              "      <td>Anonymous</td>\n",
              "      <td>2023-11-26</td>\n",
              "      <td>she is a good lecturer, nfsc 112, is \"chill,\" ...</td>\n",
              "      <td>NFSC</td>\n",
              "      <td>112</td>\n",
              "      <td>2023-11</td>\n",
              "      <td>2023</td>\n",
              "      <td>4.0</td>\n",
              "      <td>Fall</td>\n",
              "      <td>100</td>\n",
              "      <td>3</td>\n",
              "    </tr>\n",
              "  </tbody>\n",
              "</table>\n",
              "</div>\n",
              "    <div class=\"colab-df-buttons\">\n",
              "\n",
              "  <div class=\"colab-df-container\">\n",
              "    <button class=\"colab-df-convert\" onclick=\"convertToInteractive('df-facf3adb-31cf-4fe1-bc99-265596bf2cfa')\"\n",
              "            title=\"Convert this dataframe to an interactive table.\"\n",
              "            style=\"display:none;\">\n",
              "\n",
              "  <svg xmlns=\"http://www.w3.org/2000/svg\" height=\"24px\" viewBox=\"0 -960 960 960\">\n",
              "    <path d=\"M120-120v-720h720v720H120Zm60-500h600v-160H180v160Zm220 220h160v-160H400v160Zm0 220h160v-160H400v160ZM180-400h160v-160H180v160Zm440 0h160v-160H620v160ZM180-180h160v-160H180v160Zm440 0h160v-160H620v160Z\"/>\n",
              "  </svg>\n",
              "    </button>\n",
              "\n",
              "  <style>\n",
              "    .colab-df-container {\n",
              "      display:flex;\n",
              "      gap: 12px;\n",
              "    }\n",
              "\n",
              "    .colab-df-convert {\n",
              "      background-color: #E8F0FE;\n",
              "      border: none;\n",
              "      border-radius: 50%;\n",
              "      cursor: pointer;\n",
              "      display: none;\n",
              "      fill: #1967D2;\n",
              "      height: 32px;\n",
              "      padding: 0 0 0 0;\n",
              "      width: 32px;\n",
              "    }\n",
              "\n",
              "    .colab-df-convert:hover {\n",
              "      background-color: #E2EBFA;\n",
              "      box-shadow: 0px 1px 2px rgba(60, 64, 67, 0.3), 0px 1px 3px 1px rgba(60, 64, 67, 0.15);\n",
              "      fill: #174EA6;\n",
              "    }\n",
              "\n",
              "    .colab-df-buttons div {\n",
              "      margin-bottom: 4px;\n",
              "    }\n",
              "\n",
              "    [theme=dark] .colab-df-convert {\n",
              "      background-color: #3B4455;\n",
              "      fill: #D2E3FC;\n",
              "    }\n",
              "\n",
              "    [theme=dark] .colab-df-convert:hover {\n",
              "      background-color: #434B5C;\n",
              "      box-shadow: 0px 1px 3px 1px rgba(0, 0, 0, 0.15);\n",
              "      filter: drop-shadow(0px 1px 2px rgba(0, 0, 0, 0.3));\n",
              "      fill: #FFFFFF;\n",
              "    }\n",
              "  </style>\n",
              "\n",
              "    <script>\n",
              "      const buttonEl =\n",
              "        document.querySelector('#df-facf3adb-31cf-4fe1-bc99-265596bf2cfa button.colab-df-convert');\n",
              "      buttonEl.style.display =\n",
              "        google.colab.kernel.accessAllowed ? 'block' : 'none';\n",
              "\n",
              "      async function convertToInteractive(key) {\n",
              "        const element = document.querySelector('#df-facf3adb-31cf-4fe1-bc99-265596bf2cfa');\n",
              "        const dataTable =\n",
              "          await google.colab.kernel.invokeFunction('convertToInteractive',\n",
              "                                                    [key], {});\n",
              "        if (!dataTable) return;\n",
              "\n",
              "        const docLinkHtml = 'Like what you see? Visit the ' +\n",
              "          '<a target=\"_blank\" href=https://colab.research.google.com/notebooks/data_table.ipynb>data table notebook</a>'\n",
              "          + ' to learn more about interactive tables.';\n",
              "        element.innerHTML = '';\n",
              "        dataTable['output_type'] = 'display_data';\n",
              "        await google.colab.output.renderOutput(dataTable, element);\n",
              "        const docLink = document.createElement('div');\n",
              "        docLink.innerHTML = docLinkHtml;\n",
              "        element.appendChild(docLink);\n",
              "      }\n",
              "    </script>\n",
              "  </div>\n",
              "\n",
              "\n",
              "<div id=\"df-b7e9975d-608d-4bfc-b3b7-5a11606ab1fa\">\n",
              "  <button class=\"colab-df-quickchart\" onclick=\"quickchart('df-b7e9975d-608d-4bfc-b3b7-5a11606ab1fa')\"\n",
              "            title=\"Suggest charts\"\n",
              "            style=\"display:none;\">\n",
              "\n",
              "<svg xmlns=\"http://www.w3.org/2000/svg\" height=\"24px\"viewBox=\"0 0 24 24\"\n",
              "     width=\"24px\">\n",
              "    <g>\n",
              "        <path d=\"M19 3H5c-1.1 0-2 .9-2 2v14c0 1.1.9 2 2 2h14c1.1 0 2-.9 2-2V5c0-1.1-.9-2-2-2zM9 17H7v-7h2v7zm4 0h-2V7h2v10zm4 0h-2v-4h2v4z\"/>\n",
              "    </g>\n",
              "</svg>\n",
              "  </button>\n",
              "\n",
              "<style>\n",
              "  .colab-df-quickchart {\n",
              "      --bg-color: #E8F0FE;\n",
              "      --fill-color: #1967D2;\n",
              "      --hover-bg-color: #E2EBFA;\n",
              "      --hover-fill-color: #174EA6;\n",
              "      --disabled-fill-color: #AAA;\n",
              "      --disabled-bg-color: #DDD;\n",
              "  }\n",
              "\n",
              "  [theme=dark] .colab-df-quickchart {\n",
              "      --bg-color: #3B4455;\n",
              "      --fill-color: #D2E3FC;\n",
              "      --hover-bg-color: #434B5C;\n",
              "      --hover-fill-color: #FFFFFF;\n",
              "      --disabled-bg-color: #3B4455;\n",
              "      --disabled-fill-color: #666;\n",
              "  }\n",
              "\n",
              "  .colab-df-quickchart {\n",
              "    background-color: var(--bg-color);\n",
              "    border: none;\n",
              "    border-radius: 50%;\n",
              "    cursor: pointer;\n",
              "    display: none;\n",
              "    fill: var(--fill-color);\n",
              "    height: 32px;\n",
              "    padding: 0;\n",
              "    width: 32px;\n",
              "  }\n",
              "\n",
              "  .colab-df-quickchart:hover {\n",
              "    background-color: var(--hover-bg-color);\n",
              "    box-shadow: 0 1px 2px rgba(60, 64, 67, 0.3), 0 1px 3px 1px rgba(60, 64, 67, 0.15);\n",
              "    fill: var(--button-hover-fill-color);\n",
              "  }\n",
              "\n",
              "  .colab-df-quickchart-complete:disabled,\n",
              "  .colab-df-quickchart-complete:disabled:hover {\n",
              "    background-color: var(--disabled-bg-color);\n",
              "    fill: var(--disabled-fill-color);\n",
              "    box-shadow: none;\n",
              "  }\n",
              "\n",
              "  .colab-df-spinner {\n",
              "    border: 2px solid var(--fill-color);\n",
              "    border-color: transparent;\n",
              "    border-bottom-color: var(--fill-color);\n",
              "    animation:\n",
              "      spin 1s steps(1) infinite;\n",
              "  }\n",
              "\n",
              "  @keyframes spin {\n",
              "    0% {\n",
              "      border-color: transparent;\n",
              "      border-bottom-color: var(--fill-color);\n",
              "      border-left-color: var(--fill-color);\n",
              "    }\n",
              "    20% {\n",
              "      border-color: transparent;\n",
              "      border-left-color: var(--fill-color);\n",
              "      border-top-color: var(--fill-color);\n",
              "    }\n",
              "    30% {\n",
              "      border-color: transparent;\n",
              "      border-left-color: var(--fill-color);\n",
              "      border-top-color: var(--fill-color);\n",
              "      border-right-color: var(--fill-color);\n",
              "    }\n",
              "    40% {\n",
              "      border-color: transparent;\n",
              "      border-right-color: var(--fill-color);\n",
              "      border-top-color: var(--fill-color);\n",
              "    }\n",
              "    60% {\n",
              "      border-color: transparent;\n",
              "      border-right-color: var(--fill-color);\n",
              "    }\n",
              "    80% {\n",
              "      border-color: transparent;\n",
              "      border-right-color: var(--fill-color);\n",
              "      border-bottom-color: var(--fill-color);\n",
              "    }\n",
              "    90% {\n",
              "      border-color: transparent;\n",
              "      border-bottom-color: var(--fill-color);\n",
              "    }\n",
              "  }\n",
              "</style>\n",
              "\n",
              "  <script>\n",
              "    async function quickchart(key) {\n",
              "      const quickchartButtonEl =\n",
              "        document.querySelector('#' + key + ' button');\n",
              "      quickchartButtonEl.disabled = true;  // To prevent multiple clicks.\n",
              "      quickchartButtonEl.classList.add('colab-df-spinner');\n",
              "      try {\n",
              "        const charts = await google.colab.kernel.invokeFunction(\n",
              "            'suggestCharts', [key], {});\n",
              "      } catch (error) {\n",
              "        console.error('Error during call to suggestCharts:', error);\n",
              "      }\n",
              "      quickchartButtonEl.classList.remove('colab-df-spinner');\n",
              "      quickchartButtonEl.classList.add('colab-df-quickchart-complete');\n",
              "    }\n",
              "    (() => {\n",
              "      let quickchartButtonEl =\n",
              "        document.querySelector('#df-b7e9975d-608d-4bfc-b3b7-5a11606ab1fa button');\n",
              "      quickchartButtonEl.style.display =\n",
              "        google.colab.kernel.accessAllowed ? 'block' : 'none';\n",
              "    })();\n",
              "  </script>\n",
              "</div>\n",
              "\n",
              "    </div>\n",
              "  </div>\n"
            ],
            "application/vnd.google.colaboratory.intrinsic+json": {
              "type": "dataframe",
              "variable_name": "df",
              "summary": "{\n  \"name\": \"df\",\n  \"rows\": 26124,\n  \"fields\": [\n    {\n      \"column\": \"course_code\",\n      \"properties\": {\n        \"dtype\": \"category\",\n        \"num_unique_values\": 2815,\n        \"samples\": [\n          \"ARTT210\",\n          \"BMGT326\",\n          \"ENME361\"\n        ],\n        \"semantic_type\": \"\",\n        \"description\": \"\"\n      }\n    },\n    {\n      \"column\": \"star_count\",\n      \"properties\": {\n        \"dtype\": \"number\",\n        \"std\": 1,\n        \"min\": 1,\n        \"max\": 5,\n        \"num_unique_values\": 5,\n        \"samples\": [\n          5,\n          1,\n          2\n        ],\n        \"semantic_type\": \"\",\n        \"description\": \"\"\n      }\n    },\n    {\n      \"column\": \"prof_name\",\n      \"properties\": {\n        \"dtype\": \"category\",\n        \"num_unique_values\": 3767,\n        \"samples\": [\n          \"Thomas Messersmith\",\n          \"Eric Pacuit\",\n          \"Jimmy McClellan\"\n        ],\n        \"semantic_type\": \"\",\n        \"description\": \"\"\n      }\n    },\n    {\n      \"column\": \"expected_grade\",\n      \"properties\": {\n        \"dtype\": \"category\",\n        \"num_unique_values\": 35,\n        \"samples\": [\n          \"-\",\n          \"C?\",\n          \"I\"\n        ],\n        \"semantic_type\": \"\",\n        \"description\": \"\"\n      }\n    },\n    {\n      \"column\": \"reviewer_name\",\n      \"properties\": {\n        \"dtype\": \"category\",\n        \"num_unique_values\": 1690,\n        \"samples\": [\n          \"boringb\",\n          \"JuliiaFriiedman\",\n          \"TreeHugger90\"\n        ],\n        \"semantic_type\": \"\",\n        \"description\": \"\"\n      }\n    },\n    {\n      \"column\": \"date\",\n      \"properties\": {\n        \"dtype\": \"date\",\n        \"min\": \"2007-10-21 00:00:00\",\n        \"max\": \"2024-02-13 00:00:00\",\n        \"num_unique_values\": 3544,\n        \"samples\": [\n          \"2012-05-01 00:00:00\",\n          \"2020-08-26 00:00:00\",\n          \"2020-11-23 00:00:00\"\n        ],\n        \"semantic_type\": \"\",\n        \"description\": \"\"\n      }\n    },\n    {\n      \"column\": \"review_text\",\n      \"properties\": {\n        \"dtype\": \"string\",\n        \"num_unique_values\": 26069,\n        \"samples\": [\n          \"Professor Mignerey can be nice but also condescending and its so discouraging to get LAUGHED at when you ask a question about a topic that is obviously hard for someone who doesn't have a PhD in Chemistry like her. This happened to multiple people, oh and she was also extremely rude to people who came in to fix simple technological issues that she could not figure out. This class is so heavily dependent on the exams which makes it so stressful, and the final was hard. Although chemistry is gonna be hard with any professor most likely, you are probably better off with a professor that tries to be understanding so take someone else.\",\n          \"Very brief but broad overview of all of the branches of philosophy. It was a pretty good overview and presented in an interesting way - he's a good lecturer. Overall I'd recommend the class. It's maybe a bit more difficult than your average Gen-Ed, but really not that bad if you put a bit of effort in.\",\n          \"Very kind guy and this class is very easy. By far my favorite Johnathan\"\n        ],\n        \"semantic_type\": \"\",\n        \"description\": \"\"\n      }\n    },\n    {\n      \"column\": \"dept\",\n      \"properties\": {\n        \"dtype\": \"category\",\n        \"num_unique_values\": 176,\n        \"samples\": [\n          \"PHIL\",\n          \"BSST\",\n          \"LASC\"\n        ],\n        \"semantic_type\": \"\",\n        \"description\": \"\"\n      }\n    },\n    {\n      \"column\": \"course_num\",\n      \"properties\": {\n        \"dtype\": \"category\",\n        \"num_unique_values\": 1030,\n        \"samples\": [\n          \"201\",\n          \"275\",\n          \"320\"\n        ],\n        \"semantic_type\": \"\",\n        \"description\": \"\"\n      }\n    },\n    {\n      \"column\": \"month\",\n      \"properties\": {\n        \"dtype\": \"period[M]\",\n        \"num_unique_values\": 187,\n        \"samples\": [\n          \"2008-10\",\n          \"2019-01\",\n          \"2022-07\"\n        ],\n        \"semantic_type\": \"\",\n        \"description\": \"\"\n      }\n    },\n    {\n      \"column\": \"year\",\n      \"properties\": {\n        \"dtype\": \"number\",\n        \"std\": 4,\n        \"min\": 2007,\n        \"max\": 2024,\n        \"num_unique_values\": 18,\n        \"samples\": [\n          2023,\n          2022,\n          2018\n        ],\n        \"semantic_type\": \"\",\n        \"description\": \"\"\n      }\n    },\n    {\n      \"column\": \"gpa_grade\",\n      \"properties\": {\n        \"dtype\": \"number\",\n        \"std\": 0.622387158961269,\n        \"min\": 0.0,\n        \"max\": 4.0,\n        \"num_unique_values\": 14,\n        \"samples\": [\n          1.7,\n          0.7,\n          4.0\n        ],\n        \"semantic_type\": \"\",\n        \"description\": \"\"\n      }\n    },\n    {\n      \"column\": \"term\",\n      \"properties\": {\n        \"dtype\": \"category\",\n        \"num_unique_values\": 4,\n        \"samples\": [\n          \"Fall\",\n          \"Summer\",\n          \"Winter\"\n        ],\n        \"semantic_type\": \"\",\n        \"description\": \"\"\n      }\n    },\n    {\n      \"column\": \"level\",\n      \"properties\": {\n        \"dtype\": \"number\",\n        \"std\": 117,\n        \"min\": 100,\n        \"max\": 800,\n        \"num_unique_values\": 7,\n        \"samples\": [\n          100,\n          200,\n          700\n        ],\n        \"semantic_type\": \"\",\n        \"description\": \"\"\n      }\n    },\n    {\n      \"column\": \"gpa_category\",\n      \"properties\": {\n        \"dtype\": \"number\",\n        \"std\": 0,\n        \"min\": 1,\n        \"max\": 3,\n        \"num_unique_values\": 3,\n        \"samples\": [\n          3,\n          2,\n          1\n        ],\n        \"semantic_type\": \"\",\n        \"description\": \"\"\n      }\n    }\n  ]\n}"
            }
          },
          "metadata": {},
          "execution_count": 58
        }
      ],
      "source": [
        "df.head(5)"
      ]
    },
    {
      "cell_type": "markdown",
      "id": "e30f3635-593d-4e6e-8408-3cc5776cf0df",
      "metadata": {
        "id": "e30f3635-593d-4e6e-8408-3cc5776cf0df"
      },
      "source": [
        "## General investigation of basic trends in the dataset:\n",
        "\n",
        "Summary statistics on different features within our new updated dataframe"
      ]
    },
    {
      "cell_type": "code",
      "source": [
        "df['gpa_grade'].describe()"
      ],
      "metadata": {
        "colab": {
          "base_uri": "https://localhost:8080/"
        },
        "id": "qFkiq_Th-Ezw",
        "outputId": "89896fe2-ecd7-4a5d-c864-bbfa5a436e9c"
      },
      "id": "qFkiq_Th-Ezw",
      "execution_count": 59,
      "outputs": [
        {
          "output_type": "execute_result",
          "data": {
            "text/plain": [
              "count    21779.000000\n",
              "mean         3.627347\n",
              "std          0.622387\n",
              "min          0.000000\n",
              "25%          3.300000\n",
              "50%          4.000000\n",
              "75%          4.000000\n",
              "max          4.000000\n",
              "Name: gpa_grade, dtype: float64"
            ]
          },
          "metadata": {},
          "execution_count": 59
        }
      ]
    },
    {
      "cell_type": "code",
      "source": [
        "df['term'].describe()"
      ],
      "metadata": {
        "colab": {
          "base_uri": "https://localhost:8080/"
        },
        "id": "MA5yh1c3-c3u",
        "outputId": "cab34d2a-c1b5-443b-ce25-eeedb33ea5e6"
      },
      "id": "MA5yh1c3-c3u",
      "execution_count": 60,
      "outputs": [
        {
          "output_type": "execute_result",
          "data": {
            "text/plain": [
              "count     26124\n",
              "unique        4\n",
              "top        Fall\n",
              "freq      10520\n",
              "Name: term, dtype: object"
            ]
          },
          "metadata": {},
          "execution_count": 60
        }
      ]
    },
    {
      "cell_type": "code",
      "execution_count": 61,
      "id": "cb046f57-323e-4762-a1ee-0484443eeaeb",
      "metadata": {
        "colab": {
          "base_uri": "https://localhost:8080/",
          "height": 300
        },
        "id": "cb046f57-323e-4762-a1ee-0484443eeaeb",
        "outputId": "ebdd7256-c089-4bb4-c66d-0f40de29710e"
      },
      "outputs": [
        {
          "output_type": "execute_result",
          "data": {
            "text/plain": [
              "         star_count     gpa_grade\n",
              "count  26124.000000  21779.000000\n",
              "mean       3.735263      3.627347\n",
              "std        1.496427      0.622387\n",
              "min        1.000000      0.000000\n",
              "25%        3.000000      3.300000\n",
              "50%        4.000000      4.000000\n",
              "75%        5.000000      4.000000\n",
              "max        5.000000      4.000000"
            ],
            "text/html": [
              "\n",
              "  <div id=\"df-fed6b61b-254c-4dca-bcd0-9b52179593cc\" class=\"colab-df-container\">\n",
              "    <div>\n",
              "<style scoped>\n",
              "    .dataframe tbody tr th:only-of-type {\n",
              "        vertical-align: middle;\n",
              "    }\n",
              "\n",
              "    .dataframe tbody tr th {\n",
              "        vertical-align: top;\n",
              "    }\n",
              "\n",
              "    .dataframe thead th {\n",
              "        text-align: right;\n",
              "    }\n",
              "</style>\n",
              "<table border=\"1\" class=\"dataframe\">\n",
              "  <thead>\n",
              "    <tr style=\"text-align: right;\">\n",
              "      <th></th>\n",
              "      <th>star_count</th>\n",
              "      <th>gpa_grade</th>\n",
              "    </tr>\n",
              "  </thead>\n",
              "  <tbody>\n",
              "    <tr>\n",
              "      <th>count</th>\n",
              "      <td>26124.000000</td>\n",
              "      <td>21779.000000</td>\n",
              "    </tr>\n",
              "    <tr>\n",
              "      <th>mean</th>\n",
              "      <td>3.735263</td>\n",
              "      <td>3.627347</td>\n",
              "    </tr>\n",
              "    <tr>\n",
              "      <th>std</th>\n",
              "      <td>1.496427</td>\n",
              "      <td>0.622387</td>\n",
              "    </tr>\n",
              "    <tr>\n",
              "      <th>min</th>\n",
              "      <td>1.000000</td>\n",
              "      <td>0.000000</td>\n",
              "    </tr>\n",
              "    <tr>\n",
              "      <th>25%</th>\n",
              "      <td>3.000000</td>\n",
              "      <td>3.300000</td>\n",
              "    </tr>\n",
              "    <tr>\n",
              "      <th>50%</th>\n",
              "      <td>4.000000</td>\n",
              "      <td>4.000000</td>\n",
              "    </tr>\n",
              "    <tr>\n",
              "      <th>75%</th>\n",
              "      <td>5.000000</td>\n",
              "      <td>4.000000</td>\n",
              "    </tr>\n",
              "    <tr>\n",
              "      <th>max</th>\n",
              "      <td>5.000000</td>\n",
              "      <td>4.000000</td>\n",
              "    </tr>\n",
              "  </tbody>\n",
              "</table>\n",
              "</div>\n",
              "    <div class=\"colab-df-buttons\">\n",
              "\n",
              "  <div class=\"colab-df-container\">\n",
              "    <button class=\"colab-df-convert\" onclick=\"convertToInteractive('df-fed6b61b-254c-4dca-bcd0-9b52179593cc')\"\n",
              "            title=\"Convert this dataframe to an interactive table.\"\n",
              "            style=\"display:none;\">\n",
              "\n",
              "  <svg xmlns=\"http://www.w3.org/2000/svg\" height=\"24px\" viewBox=\"0 -960 960 960\">\n",
              "    <path d=\"M120-120v-720h720v720H120Zm60-500h600v-160H180v160Zm220 220h160v-160H400v160Zm0 220h160v-160H400v160ZM180-400h160v-160H180v160Zm440 0h160v-160H620v160ZM180-180h160v-160H180v160Zm440 0h160v-160H620v160Z\"/>\n",
              "  </svg>\n",
              "    </button>\n",
              "\n",
              "  <style>\n",
              "    .colab-df-container {\n",
              "      display:flex;\n",
              "      gap: 12px;\n",
              "    }\n",
              "\n",
              "    .colab-df-convert {\n",
              "      background-color: #E8F0FE;\n",
              "      border: none;\n",
              "      border-radius: 50%;\n",
              "      cursor: pointer;\n",
              "      display: none;\n",
              "      fill: #1967D2;\n",
              "      height: 32px;\n",
              "      padding: 0 0 0 0;\n",
              "      width: 32px;\n",
              "    }\n",
              "\n",
              "    .colab-df-convert:hover {\n",
              "      background-color: #E2EBFA;\n",
              "      box-shadow: 0px 1px 2px rgba(60, 64, 67, 0.3), 0px 1px 3px 1px rgba(60, 64, 67, 0.15);\n",
              "      fill: #174EA6;\n",
              "    }\n",
              "\n",
              "    .colab-df-buttons div {\n",
              "      margin-bottom: 4px;\n",
              "    }\n",
              "\n",
              "    [theme=dark] .colab-df-convert {\n",
              "      background-color: #3B4455;\n",
              "      fill: #D2E3FC;\n",
              "    }\n",
              "\n",
              "    [theme=dark] .colab-df-convert:hover {\n",
              "      background-color: #434B5C;\n",
              "      box-shadow: 0px 1px 3px 1px rgba(0, 0, 0, 0.15);\n",
              "      filter: drop-shadow(0px 1px 2px rgba(0, 0, 0, 0.3));\n",
              "      fill: #FFFFFF;\n",
              "    }\n",
              "  </style>\n",
              "\n",
              "    <script>\n",
              "      const buttonEl =\n",
              "        document.querySelector('#df-fed6b61b-254c-4dca-bcd0-9b52179593cc button.colab-df-convert');\n",
              "      buttonEl.style.display =\n",
              "        google.colab.kernel.accessAllowed ? 'block' : 'none';\n",
              "\n",
              "      async function convertToInteractive(key) {\n",
              "        const element = document.querySelector('#df-fed6b61b-254c-4dca-bcd0-9b52179593cc');\n",
              "        const dataTable =\n",
              "          await google.colab.kernel.invokeFunction('convertToInteractive',\n",
              "                                                    [key], {});\n",
              "        if (!dataTable) return;\n",
              "\n",
              "        const docLinkHtml = 'Like what you see? Visit the ' +\n",
              "          '<a target=\"_blank\" href=https://colab.research.google.com/notebooks/data_table.ipynb>data table notebook</a>'\n",
              "          + ' to learn more about interactive tables.';\n",
              "        element.innerHTML = '';\n",
              "        dataTable['output_type'] = 'display_data';\n",
              "        await google.colab.output.renderOutput(dataTable, element);\n",
              "        const docLink = document.createElement('div');\n",
              "        docLink.innerHTML = docLinkHtml;\n",
              "        element.appendChild(docLink);\n",
              "      }\n",
              "    </script>\n",
              "  </div>\n",
              "\n",
              "\n",
              "<div id=\"df-f0bc9402-915e-4f73-8af6-637a7dfad619\">\n",
              "  <button class=\"colab-df-quickchart\" onclick=\"quickchart('df-f0bc9402-915e-4f73-8af6-637a7dfad619')\"\n",
              "            title=\"Suggest charts\"\n",
              "            style=\"display:none;\">\n",
              "\n",
              "<svg xmlns=\"http://www.w3.org/2000/svg\" height=\"24px\"viewBox=\"0 0 24 24\"\n",
              "     width=\"24px\">\n",
              "    <g>\n",
              "        <path d=\"M19 3H5c-1.1 0-2 .9-2 2v14c0 1.1.9 2 2 2h14c1.1 0 2-.9 2-2V5c0-1.1-.9-2-2-2zM9 17H7v-7h2v7zm4 0h-2V7h2v10zm4 0h-2v-4h2v4z\"/>\n",
              "    </g>\n",
              "</svg>\n",
              "  </button>\n",
              "\n",
              "<style>\n",
              "  .colab-df-quickchart {\n",
              "      --bg-color: #E8F0FE;\n",
              "      --fill-color: #1967D2;\n",
              "      --hover-bg-color: #E2EBFA;\n",
              "      --hover-fill-color: #174EA6;\n",
              "      --disabled-fill-color: #AAA;\n",
              "      --disabled-bg-color: #DDD;\n",
              "  }\n",
              "\n",
              "  [theme=dark] .colab-df-quickchart {\n",
              "      --bg-color: #3B4455;\n",
              "      --fill-color: #D2E3FC;\n",
              "      --hover-bg-color: #434B5C;\n",
              "      --hover-fill-color: #FFFFFF;\n",
              "      --disabled-bg-color: #3B4455;\n",
              "      --disabled-fill-color: #666;\n",
              "  }\n",
              "\n",
              "  .colab-df-quickchart {\n",
              "    background-color: var(--bg-color);\n",
              "    border: none;\n",
              "    border-radius: 50%;\n",
              "    cursor: pointer;\n",
              "    display: none;\n",
              "    fill: var(--fill-color);\n",
              "    height: 32px;\n",
              "    padding: 0;\n",
              "    width: 32px;\n",
              "  }\n",
              "\n",
              "  .colab-df-quickchart:hover {\n",
              "    background-color: var(--hover-bg-color);\n",
              "    box-shadow: 0 1px 2px rgba(60, 64, 67, 0.3), 0 1px 3px 1px rgba(60, 64, 67, 0.15);\n",
              "    fill: var(--button-hover-fill-color);\n",
              "  }\n",
              "\n",
              "  .colab-df-quickchart-complete:disabled,\n",
              "  .colab-df-quickchart-complete:disabled:hover {\n",
              "    background-color: var(--disabled-bg-color);\n",
              "    fill: var(--disabled-fill-color);\n",
              "    box-shadow: none;\n",
              "  }\n",
              "\n",
              "  .colab-df-spinner {\n",
              "    border: 2px solid var(--fill-color);\n",
              "    border-color: transparent;\n",
              "    border-bottom-color: var(--fill-color);\n",
              "    animation:\n",
              "      spin 1s steps(1) infinite;\n",
              "  }\n",
              "\n",
              "  @keyframes spin {\n",
              "    0% {\n",
              "      border-color: transparent;\n",
              "      border-bottom-color: var(--fill-color);\n",
              "      border-left-color: var(--fill-color);\n",
              "    }\n",
              "    20% {\n",
              "      border-color: transparent;\n",
              "      border-left-color: var(--fill-color);\n",
              "      border-top-color: var(--fill-color);\n",
              "    }\n",
              "    30% {\n",
              "      border-color: transparent;\n",
              "      border-left-color: var(--fill-color);\n",
              "      border-top-color: var(--fill-color);\n",
              "      border-right-color: var(--fill-color);\n",
              "    }\n",
              "    40% {\n",
              "      border-color: transparent;\n",
              "      border-right-color: var(--fill-color);\n",
              "      border-top-color: var(--fill-color);\n",
              "    }\n",
              "    60% {\n",
              "      border-color: transparent;\n",
              "      border-right-color: var(--fill-color);\n",
              "    }\n",
              "    80% {\n",
              "      border-color: transparent;\n",
              "      border-right-color: var(--fill-color);\n",
              "      border-bottom-color: var(--fill-color);\n",
              "    }\n",
              "    90% {\n",
              "      border-color: transparent;\n",
              "      border-bottom-color: var(--fill-color);\n",
              "    }\n",
              "  }\n",
              "</style>\n",
              "\n",
              "  <script>\n",
              "    async function quickchart(key) {\n",
              "      const quickchartButtonEl =\n",
              "        document.querySelector('#' + key + ' button');\n",
              "      quickchartButtonEl.disabled = true;  // To prevent multiple clicks.\n",
              "      quickchartButtonEl.classList.add('colab-df-spinner');\n",
              "      try {\n",
              "        const charts = await google.colab.kernel.invokeFunction(\n",
              "            'suggestCharts', [key], {});\n",
              "      } catch (error) {\n",
              "        console.error('Error during call to suggestCharts:', error);\n",
              "      }\n",
              "      quickchartButtonEl.classList.remove('colab-df-spinner');\n",
              "      quickchartButtonEl.classList.add('colab-df-quickchart-complete');\n",
              "    }\n",
              "    (() => {\n",
              "      let quickchartButtonEl =\n",
              "        document.querySelector('#df-f0bc9402-915e-4f73-8af6-637a7dfad619 button');\n",
              "      quickchartButtonEl.style.display =\n",
              "        google.colab.kernel.accessAllowed ? 'block' : 'none';\n",
              "    })();\n",
              "  </script>\n",
              "</div>\n",
              "\n",
              "    </div>\n",
              "  </div>\n"
            ],
            "application/vnd.google.colaboratory.intrinsic+json": {
              "type": "dataframe",
              "summary": "{\n  \"name\": \"df[[\\\"star_count\\\", \\\"gpa_grade\\\"]]\",\n  \"rows\": 8,\n  \"fields\": [\n    {\n      \"column\": \"star_count\",\n      \"properties\": {\n        \"dtype\": \"number\",\n        \"std\": 9235.05551505007,\n        \"min\": 1.0,\n        \"max\": 26124.0,\n        \"num_unique_values\": 7,\n        \"samples\": [\n          26124.0,\n          3.735262593783494,\n          4.0\n        ],\n        \"semantic_type\": \"\",\n        \"description\": \"\"\n      }\n    },\n    {\n      \"column\": \"gpa_grade\",\n      \"properties\": {\n        \"dtype\": \"number\",\n        \"std\": 7699.052048499367,\n        \"min\": 0.0,\n        \"max\": 21779.0,\n        \"num_unique_values\": 6,\n        \"samples\": [\n          21779.0,\n          3.627347444786262,\n          4.0\n        ],\n        \"semantic_type\": \"\",\n        \"description\": \"\"\n      }\n    }\n  ]\n}"
            }
          },
          "metadata": {},
          "execution_count": 61
        }
      ],
      "source": [
        "df[[\"star_count\", \"gpa_grade\"]].describe()"
      ]
    },
    {
      "cell_type": "code",
      "execution_count": 62,
      "id": "8f8c623b-7f0c-42bf-b825-8ef236c22f0f",
      "metadata": {
        "colab": {
          "base_uri": "https://localhost:8080/",
          "height": 477
        },
        "id": "8f8c623b-7f0c-42bf-b825-8ef236c22f0f",
        "outputId": "d56c946a-24f5-40af-8413-02f2f5cb04b6"
      },
      "outputs": [
        {
          "output_type": "execute_result",
          "data": {
            "text/plain": [
              "<Axes: title={'center': 'Count of Expected (gpa equivalent) Grades for all Reviews'}>"
            ]
          },
          "metadata": {},
          "execution_count": 62
        },
        {
          "output_type": "display_data",
          "data": {
            "text/plain": [
              "<Figure size 640x480 with 1 Axes>"
            ],
            "image/png": "[encoded data removed]"
          },
          "metadata": {}
        }
      ],
      "source": [
        "df['gpa_grade'].value_counts().sort_index().plot(kind=\"bar\", title=\"Count of Expected (gpa equivalent) Grades for all Reviews\")"
      ]
    },
    {
      "cell_type": "markdown",
      "id": "22c7ebfe-efa0-4186-b879-ff1be577c2eb",
      "metadata": {
        "id": "22c7ebfe-efa0-4186-b879-ff1be577c2eb"
      },
      "source": [
        "We can see in the above chart, that the students who expect that they will receive a good grade, make up the vast majority of all students who leave reviews."
      ]
    },
    {
      "cell_type": "code",
      "execution_count": 63,
      "id": "5517487f-df93-43f3-9cb7-dc9b77979115",
      "metadata": {
        "colab": {
          "base_uri": "https://localhost:8080/",
          "height": 464
        },
        "id": "5517487f-df93-43f3-9cb7-dc9b77979115",
        "outputId": "95d2226e-7655-44be-ea10-e8c8d1483120"
      },
      "outputs": [
        {
          "output_type": "execute_result",
          "data": {
            "text/plain": [
              "<Axes: title={'center': 'Count of Number of Stars Awarded for all Reviews'}>"
            ]
          },
          "metadata": {},
          "execution_count": 63
        },
        {
          "output_type": "display_data",
          "data": {
            "text/plain": [
              "<Figure size 640x480 with 1 Axes>"
            ],
            "image/png": "[encoded data removed]"
          },
          "metadata": {}
        }
      ],
      "source": [
        "df.star_count.value_counts().sort_index().plot(kind=\"bar\", title=\"Count of Number of Stars Awarded for all Reviews\")"
      ]
    },
    {
      "cell_type": "markdown",
      "id": "58aa719b-7c9f-4fdd-a332-b1a39b034501",
      "metadata": {
        "id": "58aa719b-7c9f-4fdd-a332-b1a39b034501"
      },
      "source": [
        "The chart above shows that most of the star ratings that students give to courses fall in the 5 star category, with a more even distribution for 0 to 4 stars."
      ]
    },
    {
      "cell_type": "code",
      "execution_count": 64,
      "id": "a28c9d32-32fc-4151-82f8-551404e7b7ac",
      "metadata": {
        "colab": {
          "base_uri": "https://localhost:8080/",
          "height": 510
        },
        "id": "a28c9d32-32fc-4151-82f8-551404e7b7ac",
        "outputId": "eb380750-205b-4735-a8dc-cfbc2ead2117"
      },
      "outputs": [
        {
          "output_type": "execute_result",
          "data": {
            "text/plain": [
              "<Axes: title={'center': 'Total reviews over time'}, xlabel='year'>"
            ]
          },
          "metadata": {},
          "execution_count": 64
        },
        {
          "output_type": "display_data",
          "data": {
            "text/plain": [
              "<Figure size 640x480 with 1 Axes>"
            ],
            "image/png": "[encoded data removed]"
          },
          "metadata": {}
        }
      ],
      "source": [
        "df.groupby('year').size().plot(kind=\"bar\", title=\"Total reviews over time\")"
      ]
    },
    {
      "cell_type": "markdown",
      "id": "96a2058a-a9a9-43ab-b85c-b86fad0e00a0",
      "metadata": {
        "id": "96a2058a-a9a9-43ab-b85c-b86fad0e00a0"
      },
      "source": [
        "The chart above shows how the annual number of planetterp reviews has continuously, and significantly increased starting in 2021."
      ]
    },
    {
      "cell_type": "code",
      "execution_count": 65,
      "id": "dcc2e5fb-fffa-4fd1-9eaa-e8db655017a3",
      "metadata": {
        "colab": {
          "base_uri": "https://localhost:8080/",
          "height": 420
        },
        "id": "dcc2e5fb-fffa-4fd1-9eaa-e8db655017a3",
        "outputId": "f7a17db0-4204-4d30-c28e-1df4833a072d"
      },
      "outputs": [
        {
          "output_type": "execute_result",
          "data": {
            "text/plain": [
              "<Axes: title={'center': 'Difference in Review Ratings from groupings of Students separated by their expected (GPA converted) grade level.'}>"
            ]
          },
          "metadata": {},
          "execution_count": 65
        },
        {
          "output_type": "display_data",
          "data": {
            "text/plain": [
              "<Figure size 640x480 with 1 Axes>"
            ],
            "image/png": "[encoded data removed]"
          },
          "metadata": {}
        }
      ],
      "source": [
        "ratings_from_grade_earners_lte_1 = pd.Series(df[df[\"gpa_grade\"] <= 1][\"star_count\"].value_counts().sort_index(),name=\"Ratings from students expecting grade 1\")\n",
        "ratings_from_grade_earners_gt_1_lte_2 = pd.Series(df[(df[\"gpa_grade\"] > 1) & (df[\"gpa_grade\"] <= 2)][\"star_count\"].value_counts().sort_index(),name=\"Ratings from students expecting 1 > grade <= 2\")\n",
        "ratings_from_grade_earners_gt_2_lte_3 = pd.Series(df[(df[\"gpa_grade\"] > 2) & (df[\"gpa_grade\"] <= 3)][\"star_count\"].value_counts().sort_index(),name=\"Ratings from students expecting 2 > grade <= 3\")\n",
        "ratings_from_grade_earners_gt_3_lte_4 = pd.Series(df[(df[\"gpa_grade\"] > 3) & (df[\"gpa_grade\"] <= 4)][\"star_count\"].value_counts().sort_index(),name=\"Ratings from students expecting 3 > grade <= 4\")\n",
        "\n",
        "crosstab_four_groups = pd.concat([\n",
        "    ratings_from_grade_earners_lte_1,\n",
        "    ratings_from_grade_earners_gt_1_lte_2,\n",
        "    ratings_from_grade_earners_gt_2_lte_3,\n",
        "    ratings_from_grade_earners_gt_3_lte_4\n",
        "], axis=1)\n",
        "crosstab_four_groups.plot(kind=\"bar\", title=\"Difference in Review Ratings from groupings of Students separated by their expected (GPA converted) grade level.\")"
      ]
    },
    {
      "cell_type": "markdown",
      "source": [
        "For the chart above, we have grouped reviewers into four groups based on their expected (GPA converted) grade. This chart indicates that the students expecting higher grades overwhelmingly are giving courses higher ratings (5 and 4 star ratings).\n"
      ],
      "metadata": {
        "id": "P6JlXWe6_-kL"
      },
      "id": "P6JlXWe6_-kL"
    },
    {
      "cell_type": "markdown",
      "id": "a33f285d-65f9-42e9-a7ca-58b46508d6cd",
      "metadata": {
        "id": "a33f285d-65f9-42e9-a7ca-58b46508d6cd"
      },
      "source": [
        "Out of curiosity, let's see the five most reviewed departments by year"
      ]
    },
    {
      "cell_type": "code",
      "execution_count": 66,
      "id": "183999c0-47dd-4f06-a05b-272ea1faaa52",
      "metadata": {
        "colab": {
          "base_uri": "https://localhost:8080/",
          "height": 505
        },
        "id": "183999c0-47dd-4f06-a05b-272ea1faaa52",
        "outputId": "310113ab-f28e-464a-fd59-d46d1ca11765"
      },
      "outputs": [
        {
          "output_type": "display_data",
          "data": {
            "text/plain": [
              "<Figure size 1200x600 with 1 Axes>"
            ],
            "image/png": "[encoded data removed]"
          },
          "metadata": {}
        }
      ],
      "source": [
        "# 5 most reviewed departments by year\n",
        "num_ratings_per_year_per_dept = df.groupby([\"year\"])[\"dept\"].value_counts()\n",
        "five_most_rated_depts_by_year = num_ratings_per_year_per_dept.groupby(level=0, group_keys=False).nlargest(5)\n",
        "\n",
        "ax = five_most_rated_depts_by_year.reset_index(name=\"count\")\\\n",
        "    .pivot_table(values=\"count\", index=\"year\", columns=\"dept\")\\\n",
        "    .plot(\n",
        "        kind=\"bar\",\n",
        "        figsize=(12, 6),\n",
        "        title=\"5 most reviewed departments by year\",\n",
        "        width=0.6\n",
        "    )\n",
        "\n",
        "ax.title.set_size(20)"
      ]
    },
    {
      "cell_type": "markdown",
      "source": [
        "Seeing the rise in the popularity of the CMSC department we were curious to explore some CS department specific trends within our dataset. To achieve this purpose we are instantiating a new dataframe that will be used in trend depiction as well as for the purpose of analysis"
      ],
      "metadata": {
        "id": "NlavkX3F_OvS"
      },
      "id": "NlavkX3F_OvS"
    },
    {
      "cell_type": "code",
      "source": [
        "df_cmsc = df[df['dept'] == 'CMSC']"
      ],
      "metadata": {
        "id": "tJoqgaZF_xbl"
      },
      "id": "tJoqgaZF_xbl",
      "execution_count": 67,
      "outputs": []
    },
    {
      "cell_type": "code",
      "source": [
        "mean_gpa_by_level = df_cmsc.groupby('level')['gpa_grade'].mean()\n",
        "\n",
        "plt.figure(figsize=(10, 6))\n",
        "mean_gpa_by_level.plot(kind='line', color='crimson')\n",
        "plt.title('Mean GPA by Course Level')\n",
        "plt.xlabel('Course Level')\n",
        "plt.ylabel('Mean GPA')\n",
        "plt.xticks(rotation=0)\n",
        "plt.show()"
      ],
      "metadata": {
        "colab": {
          "base_uri": "https://localhost:8080/",
          "height": 557
        },
        "id": "Z5_CUYsOARYH",
        "outputId": "4d40d220-94d3-453b-9037-bff955405261"
      },
      "id": "Z5_CUYsOARYH",
      "execution_count": 68,
      "outputs": [
        {
          "output_type": "display_data",
          "data": {
            "text/plain": [
              "<Figure size 1000x600 with 1 Axes>"
            ],
            "image/png": "[encoded data removed]"
          },
          "metadata": {}
        }
      ]
    },
    {
      "cell_type": "markdown",
      "source": [
        "It is interesting to see how there are sharp falls and rise in the visualization above. This may be occuring either due to the presence of an outlier or potentially insufficient data records.\n",
        "\n",
        "We can try and determine the reason behind this next!"
      ],
      "metadata": {
        "id": "Y2CHNUTEAjPE"
      },
      "id": "Y2CHNUTEAjPE"
    },
    {
      "cell_type": "code",
      "source": [
        "df_cmsc['level'].value_counts().sort_index(level='level')"
      ],
      "metadata": {
        "colab": {
          "base_uri": "https://localhost:8080/"
        },
        "id": "rqHkqGl8BXl1",
        "outputId": "c2f4a2af-2544-48ec-eb62-a5e2ea693d6e"
      },
      "id": "rqHkqGl8BXl1",
      "execution_count": 69,
      "outputs": [
        {
          "output_type": "execute_result",
          "data": {
            "text/plain": [
              "100    678\n",
              "200    641\n",
              "300    567\n",
              "400    786\n",
              "600      4\n",
              "700     14\n",
              "800      5\n",
              "Name: level, dtype: int64"
            ]
          },
          "metadata": {},
          "execution_count": 69
        }
      ]
    },
    {
      "cell_type": "markdown",
      "source": [
        "Our hunch behind the sharp rise and falls wihtin our line graph was correct! As we can clearly see there's a huge difference in the number of field rows for the 600,700, and 800 level courses in the CMSC department."
      ],
      "metadata": {
        "id": "YeI6A6CkBjHE"
      },
      "id": "YeI6A6CkBjHE"
    },
    {
      "cell_type": "code",
      "source": [
        "pivot_table = df_cmsc.pivot_table(values='gpa_grade', index='level', columns='term', aggfunc='mean')\n",
        "\n",
        "plt.figure(figsize=(12, 6))\n",
        "pivot_table.plot(kind='bar', width=0.8)\n",
        "plt.title('Mean GPA by Course Level and Term')\n",
        "plt.xlabel('Course Level')\n",
        "plt.ylabel('Mean GPA')\n",
        "plt.legend(title='Term', bbox_to_anchor=(1.05, 1), loc='upper left')\n",
        "plt.xticks(rotation=45, ha='right')\n",
        "plt.show()"
      ],
      "metadata": {
        "colab": {
          "base_uri": "https://localhost:8080/",
          "height": 503
        },
        "id": "8mBfgSXlBiuN",
        "outputId": "d1a6a20b-efe9-4c02-d863-489d7334bc21"
      },
      "id": "8mBfgSXlBiuN",
      "execution_count": 70,
      "outputs": [
        {
          "output_type": "display_data",
          "data": {
            "text/plain": [
              "<Figure size 1200x600 with 0 Axes>"
            ]
          },
          "metadata": {}
        },
        {
          "output_type": "display_data",
          "data": {
            "text/plain": [
              "<Figure size 640x480 with 1 Axes>"
            ],
            "image/png": "[encoded data removed]"
          },
          "metadata": {}
        }
      ]
    },
    {
      "cell_type": "markdown",
      "source": [
        "The above chart highlights the GPA trends across different levels of CS courses in every term. It is interesting to see how the levels are surprisingly stable and more or less similar across each term"
      ],
      "metadata": {
        "id": "HWFoGZG_C1rc"
      },
      "id": "HWFoGZG_C1rc"
    },
    {
      "cell_type": "code",
      "execution_count": 71,
      "id": "434abc7a-b1b8-46a3-abf3-42db55e01819",
      "metadata": {
        "colab": {
          "base_uri": "https://localhost:8080/",
          "height": 489
        },
        "id": "434abc7a-b1b8-46a3-abf3-42db55e01819",
        "outputId": "1349bb84-2c70-4c38-a138-43d1aa4aea61"
      },
      "outputs": [
        {
          "output_type": "execute_result",
          "data": {
            "text/plain": [
              "<Axes: title={'center': 'Mean Expected Grade and Rating over time'}, xlabel='year'>"
            ]
          },
          "metadata": {},
          "execution_count": 71
        },
        {
          "output_type": "display_data",
          "data": {
            "text/plain": [
              "<Figure size 640x480 with 1 Axes>"
            ],
            "image/png": "[encoded data removed]"
          },
          "metadata": {}
        }
      ],
      "source": [
        "df_cmsc.groupby('year')[['gpa_grade','star_count']].mean().plot( title=\"Mean Expected Grade and Rating over time\", ylim=[0,5])"
      ]
    },
    {
      "cell_type": "markdown",
      "id": "69e5a412-f51c-45d3-8ebe-4894e4c23b18",
      "metadata": {
        "id": "69e5a412-f51c-45d3-8ebe-4894e4c23b18"
      },
      "source": [
        "The reviewers' expected grades and course ratings appear relatively steady over time."
      ]
    },
    {
      "cell_type": "markdown",
      "id": "ea63bc4b-cccb-444d-9f63-6c54d05bb3d1",
      "metadata": {
        "id": "ea63bc4b-cccb-444d-9f63-6c54d05bb3d1"
      },
      "source": [
        "### Hypothesis Test 1\n",
        "\n",
        "#### Question:\n",
        "Is difference in ratings from higher scoring students and less high scoring students, hinted at in the chart above, also reflected in the results of a chi-squared test?\n",
        "\n",
        "A grade of an A or A- translate to a grade score of >= 3.7, so we will segment reviewers into two groups that fall on either side of the A- threshold."
      ]
    },
    {
      "cell_type": "code",
      "execution_count": 72,
      "id": "511e0f0e-8a49-4959-bcc5-140296769e77",
      "metadata": {
        "colab": {
          "base_uri": "https://localhost:8080/",
          "height": 206
        },
        "id": "511e0f0e-8a49-4959-bcc5-140296769e77",
        "outputId": "809e7e77-60df-4125-b7d8-2cad08ecb08c"
      },
      "outputs": [
        {
          "output_type": "execute_result",
          "data": {
            "text/plain": [
              "   Ratings from Students Expecting As  \\\n",
              "1                                 909   \n",
              "2                                 885   \n",
              "3                                1360   \n",
              "4                                2790   \n",
              "5                                9846   \n",
              "\n",
              "   Ratings from Students Expecting less than As  \n",
              "1                                          1605  \n",
              "2                                           983  \n",
              "3                                           923  \n",
              "4                                          1126  \n",
              "5                                          1352  "
            ],
            "text/html": [
              "\n",
              "  <div id=\"df-4fba4d63-e7a2-4b06-8a1e-01ba0a7a2df5\" class=\"colab-df-container\">\n",
              "    <div>\n",
              "<style scoped>\n",
              "    .dataframe tbody tr th:only-of-type {\n",
              "        vertical-align: middle;\n",
              "    }\n",
              "\n",
              "    .dataframe tbody tr th {\n",
              "        vertical-align: top;\n",
              "    }\n",
              "\n",
              "    .dataframe thead th {\n",
              "        text-align: right;\n",
              "    }\n",
              "</style>\n",
              "<table border=\"1\" class=\"dataframe\">\n",
              "  <thead>\n",
              "    <tr style=\"text-align: right;\">\n",
              "      <th></th>\n",
              "      <th>Ratings from Students Expecting As</th>\n",
              "      <th>Ratings from Students Expecting less than As</th>\n",
              "    </tr>\n",
              "  </thead>\n",
              "  <tbody>\n",
              "    <tr>\n",
              "      <th>1</th>\n",
              "      <td>909</td>\n",
              "      <td>1605</td>\n",
              "    </tr>\n",
              "    <tr>\n",
              "      <th>2</th>\n",
              "      <td>885</td>\n",
              "      <td>983</td>\n",
              "    </tr>\n",
              "    <tr>\n",
              "      <th>3</th>\n",
              "      <td>1360</td>\n",
              "      <td>923</td>\n",
              "    </tr>\n",
              "    <tr>\n",
              "      <th>4</th>\n",
              "      <td>2790</td>\n",
              "      <td>1126</td>\n",
              "    </tr>\n",
              "    <tr>\n",
              "      <th>5</th>\n",
              "      <td>9846</td>\n",
              "      <td>1352</td>\n",
              "    </tr>\n",
              "  </tbody>\n",
              "</table>\n",
              "</div>\n",
              "    <div class=\"colab-df-buttons\">\n",
              "\n",
              "  <div class=\"colab-df-container\">\n",
              "    <button class=\"colab-df-convert\" onclick=\"convertToInteractive('df-4fba4d63-e7a2-4b06-8a1e-01ba0a7a2df5')\"\n",
              "            title=\"Convert this dataframe to an interactive table.\"\n",
              "            style=\"display:none;\">\n",
              "\n",
              "  <svg xmlns=\"http://www.w3.org/2000/svg\" height=\"24px\" viewBox=\"0 -960 960 960\">\n",
              "    <path d=\"M120-120v-720h720v720H120Zm60-500h600v-160H180v160Zm220 220h160v-160H400v160Zm0 220h160v-160H400v160ZM180-400h160v-160H180v160Zm440 0h160v-160H620v160ZM180-180h160v-160H180v160Zm440 0h160v-160H620v160Z\"/>\n",
              "  </svg>\n",
              "    </button>\n",
              "\n",
              "  <style>\n",
              "    .colab-df-container {\n",
              "      display:flex;\n",
              "      gap: 12px;\n",
              "    }\n",
              "\n",
              "    .colab-df-convert {\n",
              "      background-color: #E8F0FE;\n",
              "      border: none;\n",
              "      border-radius: 50%;\n",
              "      cursor: pointer;\n",
              "      display: none;\n",
              "      fill: #1967D2;\n",
              "      height: 32px;\n",
              "      padding: 0 0 0 0;\n",
              "      width: 32px;\n",
              "    }\n",
              "\n",
              "    .colab-df-convert:hover {\n",
              "      background-color: #E2EBFA;\n",
              "      box-shadow: 0px 1px 2px rgba(60, 64, 67, 0.3), 0px 1px 3px 1px rgba(60, 64, 67, 0.15);\n",
              "      fill: #174EA6;\n",
              "    }\n",
              "\n",
              "    .colab-df-buttons div {\n",
              "      margin-bottom: 4px;\n",
              "    }\n",
              "\n",
              "    [theme=dark] .colab-df-convert {\n",
              "      background-color: #3B4455;\n",
              "      fill: #D2E3FC;\n",
              "    }\n",
              "\n",
              "    [theme=dark] .colab-df-convert:hover {\n",
              "      background-color: #434B5C;\n",
              "      box-shadow: 0px 1px 3px 1px rgba(0, 0, 0, 0.15);\n",
              "      filter: drop-shadow(0px 1px 2px rgba(0, 0, 0, 0.3));\n",
              "      fill: #FFFFFF;\n",
              "    }\n",
              "  </style>\n",
              "\n",
              "    <script>\n",
              "      const buttonEl =\n",
              "        document.querySelector('#df-4fba4d63-e7a2-4b06-8a1e-01ba0a7a2df5 button.colab-df-convert');\n",
              "      buttonEl.style.display =\n",
              "        google.colab.kernel.accessAllowed ? 'block' : 'none';\n",
              "\n",
              "      async function convertToInteractive(key) {\n",
              "        const element = document.querySelector('#df-4fba4d63-e7a2-4b06-8a1e-01ba0a7a2df5');\n",
              "        const dataTable =\n",
              "          await google.colab.kernel.invokeFunction('convertToInteractive',\n",
              "                                                    [key], {});\n",
              "        if (!dataTable) return;\n",
              "\n",
              "        const docLinkHtml = 'Like what you see? Visit the ' +\n",
              "          '<a target=\"_blank\" href=https://colab.research.google.com/notebooks/data_table.ipynb>data table notebook</a>'\n",
              "          + ' to learn more about interactive tables.';\n",
              "        element.innerHTML = '';\n",
              "        dataTable['output_type'] = 'display_data';\n",
              "        await google.colab.output.renderOutput(dataTable, element);\n",
              "        const docLink = document.createElement('div');\n",
              "        docLink.innerHTML = docLinkHtml;\n",
              "        element.appendChild(docLink);\n",
              "      }\n",
              "    </script>\n",
              "  </div>\n",
              "\n",
              "\n",
              "<div id=\"df-a103ebea-db44-4d45-b7b3-db997dbc4c72\">\n",
              "  <button class=\"colab-df-quickchart\" onclick=\"quickchart('df-a103ebea-db44-4d45-b7b3-db997dbc4c72')\"\n",
              "            title=\"Suggest charts\"\n",
              "            style=\"display:none;\">\n",
              "\n",
              "<svg xmlns=\"http://www.w3.org/2000/svg\" height=\"24px\"viewBox=\"0 0 24 24\"\n",
              "     width=\"24px\">\n",
              "    <g>\n",
              "        <path d=\"M19 3H5c-1.1 0-2 .9-2 2v14c0 1.1.9 2 2 2h14c1.1 0 2-.9 2-2V5c0-1.1-.9-2-2-2zM9 17H7v-7h2v7zm4 0h-2V7h2v10zm4 0h-2v-4h2v4z\"/>\n",
              "    </g>\n",
              "</svg>\n",
              "  </button>\n",
              "\n",
              "<style>\n",
              "  .colab-df-quickchart {\n",
              "      --bg-color: #E8F0FE;\n",
              "      --fill-color: #1967D2;\n",
              "      --hover-bg-color: #E2EBFA;\n",
              "      --hover-fill-color: #174EA6;\n",
              "      --disabled-fill-color: #AAA;\n",
              "      --disabled-bg-color: #DDD;\n",
              "  }\n",
              "\n",
              "  [theme=dark] .colab-df-quickchart {\n",
              "      --bg-color: #3B4455;\n",
              "      --fill-color: #D2E3FC;\n",
              "      --hover-bg-color: #434B5C;\n",
              "      --hover-fill-color: #FFFFFF;\n",
              "      --disabled-bg-color: #3B4455;\n",
              "      --disabled-fill-color: #666;\n",
              "  }\n",
              "\n",
              "  .colab-df-quickchart {\n",
              "    background-color: var(--bg-color);\n",
              "    border: none;\n",
              "    border-radius: 50%;\n",
              "    cursor: pointer;\n",
              "    display: none;\n",
              "    fill: var(--fill-color);\n",
              "    height: 32px;\n",
              "    padding: 0;\n",
              "    width: 32px;\n",
              "  }\n",
              "\n",
              "  .colab-df-quickchart:hover {\n",
              "    background-color: var(--hover-bg-color);\n",
              "    box-shadow: 0 1px 2px rgba(60, 64, 67, 0.3), 0 1px 3px 1px rgba(60, 64, 67, 0.15);\n",
              "    fill: var(--button-hover-fill-color);\n",
              "  }\n",
              "\n",
              "  .colab-df-quickchart-complete:disabled,\n",
              "  .colab-df-quickchart-complete:disabled:hover {\n",
              "    background-color: var(--disabled-bg-color);\n",
              "    fill: var(--disabled-fill-color);\n",
              "    box-shadow: none;\n",
              "  }\n",
              "\n",
              "  .colab-df-spinner {\n",
              "    border: 2px solid var(--fill-color);\n",
              "    border-color: transparent;\n",
              "    border-bottom-color: var(--fill-color);\n",
              "    animation:\n",
              "      spin 1s steps(1) infinite;\n",
              "  }\n",
              "\n",
              "  @keyframes spin {\n",
              "    0% {\n",
              "      border-color: transparent;\n",
              "      border-bottom-color: var(--fill-color);\n",
              "      border-left-color: var(--fill-color);\n",
              "    }\n",
              "    20% {\n",
              "      border-color: transparent;\n",
              "      border-left-color: var(--fill-color);\n",
              "      border-top-color: var(--fill-color);\n",
              "    }\n",
              "    30% {\n",
              "      border-color: transparent;\n",
              "      border-left-color: var(--fill-color);\n",
              "      border-top-color: var(--fill-color);\n",
              "      border-right-color: var(--fill-color);\n",
              "    }\n",
              "    40% {\n",
              "      border-color: transparent;\n",
              "      border-right-color: var(--fill-color);\n",
              "      border-top-color: var(--fill-color);\n",
              "    }\n",
              "    60% {\n",
              "      border-color: transparent;\n",
              "      border-right-color: var(--fill-color);\n",
              "    }\n",
              "    80% {\n",
              "      border-color: transparent;\n",
              "      border-right-color: var(--fill-color);\n",
              "      border-bottom-color: var(--fill-color);\n",
              "    }\n",
              "    90% {\n",
              "      border-color: transparent;\n",
              "      border-bottom-color: var(--fill-color);\n",
              "    }\n",
              "  }\n",
              "</style>\n",
              "\n",
              "  <script>\n",
              "    async function quickchart(key) {\n",
              "      const quickchartButtonEl =\n",
              "        document.querySelector('#' + key + ' button');\n",
              "      quickchartButtonEl.disabled = true;  // To prevent multiple clicks.\n",
              "      quickchartButtonEl.classList.add('colab-df-spinner');\n",
              "      try {\n",
              "        const charts = await google.colab.kernel.invokeFunction(\n",
              "            'suggestCharts', [key], {});\n",
              "      } catch (error) {\n",
              "        console.error('Error during call to suggestCharts:', error);\n",
              "      }\n",
              "      quickchartButtonEl.classList.remove('colab-df-spinner');\n",
              "      quickchartButtonEl.classList.add('colab-df-quickchart-complete');\n",
              "    }\n",
              "    (() => {\n",
              "      let quickchartButtonEl =\n",
              "        document.querySelector('#df-a103ebea-db44-4d45-b7b3-db997dbc4c72 button');\n",
              "      quickchartButtonEl.style.display =\n",
              "        google.colab.kernel.accessAllowed ? 'block' : 'none';\n",
              "    })();\n",
              "  </script>\n",
              "</div>\n",
              "\n",
              "  <div id=\"id_a8228526-24c9-4a47-9ef7-f2ba0d3f27f9\">\n",
              "    <style>\n",
              "      .colab-df-generate {\n",
              "        background-color: #E8F0FE;\n",
              "        border: none;\n",
              "        border-radius: 50%;\n",
              "        cursor: pointer;\n",
              "        display: none;\n",
              "        fill: #1967D2;\n",
              "        height: 32px;\n",
              "        padding: 0 0 0 0;\n",
              "        width: 32px;\n",
              "      }\n",
              "\n",
              "      .colab-df-generate:hover {\n",
              "        background-color: #E2EBFA;\n",
              "        box-shadow: 0px 1px 2px rgba(60, 64, 67, 0.3), 0px 1px 3px 1px rgba(60, 64, 67, 0.15);\n",
              "        fill: #174EA6;\n",
              "      }\n",
              "\n",
              "      [theme=dark] .colab-df-generate {\n",
              "        background-color: #3B4455;\n",
              "        fill: #D2E3FC;\n",
              "      }\n",
              "\n",
              "      [theme=dark] .colab-df-generate:hover {\n",
              "        background-color: #434B5C;\n",
              "        box-shadow: 0px 1px 3px 1px rgba(0, 0, 0, 0.15);\n",
              "        filter: drop-shadow(0px 1px 2px rgba(0, 0, 0, 0.3));\n",
              "        fill: #FFFFFF;\n",
              "      }\n",
              "    </style>\n",
              "    <button class=\"colab-df-generate\" onclick=\"generateWithVariable('crosstab')\"\n",
              "            title=\"Generate code using this dataframe.\"\n",
              "            style=\"display:none;\">\n",
              "\n",
              "  <svg xmlns=\"http://www.w3.org/2000/svg\" height=\"24px\"viewBox=\"0 0 24 24\"\n",
              "       width=\"24px\">\n",
              "    <path d=\"M7,19H8.4L18.45,9,17,7.55,7,17.6ZM5,21V16.75L18.45,3.32a2,2,0,0,1,2.83,0l1.4,1.43a1.91,1.91,0,0,1,.58,1.4,1.91,1.91,0,0,1-.58,1.4L9.25,21ZM18.45,9,17,7.55Zm-12,3A5.31,5.31,0,0,0,4.9,8.1,5.31,5.31,0,0,0,1,6.5,5.31,5.31,0,0,0,4.9,4.9,5.31,5.31,0,0,0,6.5,1,5.31,5.31,0,0,0,8.1,4.9,5.31,5.31,0,0,0,12,6.5,5.46,5.46,0,0,0,6.5,12Z\"/>\n",
              "  </svg>\n",
              "    </button>\n",
              "    <script>\n",
              "      (() => {\n",
              "      const buttonEl =\n",
              "        document.querySelector('#id_a8228526-24c9-4a47-9ef7-f2ba0d3f27f9 button.colab-df-generate');\n",
              "      buttonEl.style.display =\n",
              "        google.colab.kernel.accessAllowed ? 'block' : 'none';\n",
              "\n",
              "      buttonEl.onclick = () => {\n",
              "        google.colab.notebook.generateWithVariable('crosstab');\n",
              "      }\n",
              "      })();\n",
              "    </script>\n",
              "  </div>\n",
              "\n",
              "    </div>\n",
              "  </div>\n"
            ],
            "application/vnd.google.colaboratory.intrinsic+json": {
              "type": "dataframe",
              "variable_name": "crosstab",
              "summary": "{\n  \"name\": \"crosstab\",\n  \"rows\": 5,\n  \"fields\": [\n    {\n      \"column\": \"Ratings from Students Expecting As\",\n      \"properties\": {\n        \"dtype\": \"number\",\n        \"std\": 3818,\n        \"min\": 885,\n        \"max\": 9846,\n        \"num_unique_values\": 5,\n        \"samples\": [\n          885,\n          9846,\n          1360\n        ],\n        \"semantic_type\": \"\",\n        \"description\": \"\"\n      }\n    },\n    {\n      \"column\": \"Ratings from Students Expecting less than As\",\n      \"properties\": {\n        \"dtype\": \"number\",\n        \"std\": 281,\n        \"min\": 923,\n        \"max\": 1605,\n        \"num_unique_values\": 5,\n        \"samples\": [\n          983,\n          1352,\n          923\n        ],\n        \"semantic_type\": \"\",\n        \"description\": \"\"\n      }\n    }\n  ]\n}"
            }
          },
          "metadata": {},
          "execution_count": 72
        }
      ],
      "source": [
        "greater_than_eq_3pt7 = pd.Series(df[df[\"gpa_grade\"] >= 3.7][\"star_count\"].value_counts().sort_index(),name=\"Ratings from Students Expecting As\")\n",
        "less_than_3pt7 = pd.Series(df[df[\"gpa_grade\"] < 3.7][\"star_count\"].value_counts().sort_index(),name=\"Ratings from Students Expecting less than As\")\n",
        "\n",
        "crosstab = pd.concat([greater_than_eq_3pt7,less_than_3pt7], axis=1)\n",
        "crosstab"
      ]
    },
    {
      "cell_type": "code",
      "execution_count": 73,
      "id": "6cbf3eff-e191-43b0-abb1-c720ea0be1fc",
      "metadata": {
        "colab": {
          "base_uri": "https://localhost:8080/",
          "height": 503
        },
        "id": "6cbf3eff-e191-43b0-abb1-c720ea0be1fc",
        "outputId": "48e52052-f7de-4fdf-db8c-29e00febcb28"
      },
      "outputs": [
        {
          "output_type": "execute_result",
          "data": {
            "text/plain": [
              "<Axes: title={'center': 'Difference in Review Ratings between: \\nStudents expecting an A, and Students Expecting less than an A'}>"
            ]
          },
          "metadata": {},
          "execution_count": 73
        },
        {
          "output_type": "display_data",
          "data": {
            "text/plain": [
              "<Figure size 640x480 with 1 Axes>"
            ],
            "image/png": "[encoded data removed]"
          },
          "metadata": {}
        }
      ],
      "source": [
        "crosstab.plot(kind=\"bar\", title=\"Difference in Review Ratings between: \\nStudents expecting an A, and Students Expecting less than an A\")"
      ]
    },
    {
      "cell_type": "markdown",
      "id": "71f73fdd-53b7-4940-9494-d5be725697fd",
      "metadata": {
        "id": "71f73fdd-53b7-4940-9494-d5be725697fd"
      },
      "source": [
        "The difference in the distribution of star ratings is visually even more stark with just two groups of reviewers.\n",
        "\n",
        "Null and alternative hypotheses:\n",
        "\n",
        "#### H0: the distribution of course ratings (star count) is the same for the groups of:\n",
        "-       students who are expecting an A- or higher\n",
        "-       students who are expecting less than an A-\n",
        "#### HA: the distribution of course ratings (star_count) is different for the two groups.\n",
        "##### Assume alpha of .05"
      ]
    },
    {
      "cell_type": "code",
      "execution_count": 74,
      "id": "9e5c970a-8a95-4b14-88c0-29b0b8d74aef",
      "metadata": {
        "colab": {
          "base_uri": "https://localhost:8080/"
        },
        "id": "9e5c970a-8a95-4b14-88c0-29b0b8d74aef",
        "outputId": "eb21c604-2e08-47ef-b690-396e3d643bca"
      },
      "outputs": [
        {
          "output_type": "execute_result",
          "data": {
            "text/plain": [
              "Chi2ContingencyResult(statistic=3787.9709815243573, pvalue=0.0, dof=4, expected_freq=array([[1822.67597227,  691.32402773],\n",
              "       [1354.31929841,  513.68070159],\n",
              "       [1655.19858579,  627.80141421],\n",
              "       [2839.1404564 , 1076.8595436 ],\n",
              "       [8118.66568713, 3079.33431287]]))"
            ]
          },
          "metadata": {},
          "execution_count": 74
        }
      ],
      "source": [
        "stats.chi2_contingency(crosstab)"
      ]
    },
    {
      "cell_type": "markdown",
      "id": "da343b26-583a-4faf-88df-23e70205bce0",
      "metadata": {
        "id": "da343b26-583a-4faf-88df-23e70205bce0"
      },
      "source": [
        "#### Result:\n",
        "Our p-value from the chi-squared test is near 0 and less than our alpha, therefore, we reject the null hypothesis.\n",
        "The data indicate a statistically significant difference in the rating distributions between the two groups."
      ]
    },
    {
      "cell_type": "markdown",
      "source": [
        "Question\n",
        "\n",
        "Is there a significant difference in mean GPA across different levels of CS courses and different years?\n"
      ],
      "metadata": {
        "id": "gNUcTMA4EAeb"
      },
      "id": "gNUcTMA4EAeb"
    },
    {
      "cell_type": "markdown",
      "source": [
        "Taking into consideration the rise in the popularity of the CMSC department and trends the null and alternative hypothesis were determined to be:\n",
        "\n",
        "1. Null Hypothesis: There is no significant difference in mean GPA across different levels of CS courses and different years.\n",
        "\n",
        "2. Alternative Hypothesis: There is a significant difference in mean GPA across different levels of CS courses and different years.\n",
        "\n",
        "\n",
        "Since there are more than 2 columns involved here it would be best for us to use ANOVA test and the level of significance being assumed for this test analysis is 0.05\n"
      ],
      "metadata": {
        "id": "OwbexpnSEcxJ"
      },
      "id": "OwbexpnSEcxJ"
    },
    {
      "cell_type": "markdown",
      "source": [
        "It is necessary for the calculation of our p-value that the column under consideration has no duplicate values or records with null values within and so for the purpose of the experiment we won't be considering all such row fields."
      ],
      "metadata": {
        "id": "kQTG0SL9FLxL"
      },
      "id": "kQTG0SL9FLxL"
    },
    {
      "cell_type": "code",
      "source": [
        "df_cmsc_copy = df_cmsc.dropna(subset=['gpa_grade'])\n",
        "df_cmsc_copy.drop_duplicates(inplace=True)\n",
        "df_cmsc = df_cmsc_copy\n"
      ],
      "metadata": {
        "id": "1707f6oDEHhe"
      },
      "id": "1707f6oDEHhe",
      "execution_count": 78,
      "outputs": []
    },
    {
      "cell_type": "markdown",
      "source": [
        "Performing ANOVA analysis"
      ],
      "metadata": {
        "id": "QmfhU0Z2GGAS"
      },
      "id": "QmfhU0Z2GGAS"
    },
    {
      "cell_type": "code",
      "source": [
        "new = ols('gpa_category ~ C(level) * C(year)', data=df_cmsc).fit()\n",
        "an =  sm.stats.anova_lm(new, typ=2)\n",
        "an"
      ],
      "metadata": {
        "colab": {
          "base_uri": "https://localhost:8080/",
          "height": 299
        },
        "id": "z-QyclU6GFVS",
        "outputId": "4d378873-0477-42be-9b78-b1b2b26a2db4"
      },
      "id": "z-QyclU6GFVS",
      "execution_count": 76,
      "outputs": [
        {
          "output_type": "stream",
          "name": "stderr",
          "text": [
            "/usr/local/lib/python3.10/dist-packages/statsmodels/base/model.py:1896: ValueWarning: covariance of constraints does not have full rank. The number of constraints is 6, but rank is 5\n",
            "  warnings.warn('covariance of constraints does not have full '\n",
            "/usr/local/lib/python3.10/dist-packages/statsmodels/base/model.py:1896: ValueWarning: covariance of constraints does not have full rank. The number of constraints is 17, but rank is 14\n",
            "  warnings.warn('covariance of constraints does not have full '\n",
            "/usr/local/lib/python3.10/dist-packages/statsmodels/base/model.py:1896: ValueWarning: covariance of constraints does not have full rank. The number of constraints is 102, but rank is 58\n",
            "  warnings.warn('covariance of constraints does not have full '\n"
          ]
        },
        {
          "output_type": "execute_result",
          "data": {
            "text/plain": [
              "                      sum_sq      df         F    PR(>F)\n",
              "C(level)            2.332231     6.0  0.915392  0.469880\n",
              "C(year)             7.991857    17.0  1.107097  0.345729\n",
              "C(level):C(year)   58.066912   102.0  1.340650  0.045516\n",
              "Residual          890.029718  2096.0       NaN       NaN"
            ],
            "text/html": [
              "\n",
              "  <div id=\"df-9a6405be-e69c-4bf0-9e20-91a0c041764c\" class=\"colab-df-container\">\n",
              "    <div>\n",
              "<style scoped>\n",
              "    .dataframe tbody tr th:only-of-type {\n",
              "        vertical-align: middle;\n",
              "    }\n",
              "\n",
              "    .dataframe tbody tr th {\n",
              "        vertical-align: top;\n",
              "    }\n",
              "\n",
              "    .dataframe thead th {\n",
              "        text-align: right;\n",
              "    }\n",
              "</style>\n",
              "<table border=\"1\" class=\"dataframe\">\n",
              "  <thead>\n",
              "    <tr style=\"text-align: right;\">\n",
              "      <th></th>\n",
              "      <th>sum_sq</th>\n",
              "      <th>df</th>\n",
              "      <th>F</th>\n",
              "      <th>PR(&gt;F)</th>\n",
              "    </tr>\n",
              "  </thead>\n",
              "  <tbody>\n",
              "    <tr>\n",
              "      <th>C(level)</th>\n",
              "      <td>2.332231</td>\n",
              "      <td>6.0</td>\n",
              "      <td>0.915392</td>\n",
              "      <td>0.469880</td>\n",
              "    </tr>\n",
              "    <tr>\n",
              "      <th>C(year)</th>\n",
              "      <td>7.991857</td>\n",
              "      <td>17.0</td>\n",
              "      <td>1.107097</td>\n",
              "      <td>0.345729</td>\n",
              "    </tr>\n",
              "    <tr>\n",
              "      <th>C(level):C(year)</th>\n",
              "      <td>58.066912</td>\n",
              "      <td>102.0</td>\n",
              "      <td>1.340650</td>\n",
              "      <td>0.045516</td>\n",
              "    </tr>\n",
              "    <tr>\n",
              "      <th>Residual</th>\n",
              "      <td>890.029718</td>\n",
              "      <td>2096.0</td>\n",
              "      <td>NaN</td>\n",
              "      <td>NaN</td>\n",
              "    </tr>\n",
              "  </tbody>\n",
              "</table>\n",
              "</div>\n",
              "    <div class=\"colab-df-buttons\">\n",
              "\n",
              "  <div class=\"colab-df-container\">\n",
              "    <button class=\"colab-df-convert\" onclick=\"convertToInteractive('df-9a6405be-e69c-4bf0-9e20-91a0c041764c')\"\n",
              "            title=\"Convert this dataframe to an interactive table.\"\n",
              "            style=\"display:none;\">\n",
              "\n",
              "  <svg xmlns=\"http://www.w3.org/2000/svg\" height=\"24px\" viewBox=\"0 -960 960 960\">\n",
              "    <path d=\"M120-120v-720h720v720H120Zm60-500h600v-160H180v160Zm220 220h160v-160H400v160Zm0 220h160v-160H400v160ZM180-400h160v-160H180v160Zm440 0h160v-160H620v160ZM180-180h160v-160H180v160Zm440 0h160v-160H620v160Z\"/>\n",
              "  </svg>\n",
              "    </button>\n",
              "\n",
              "  <style>\n",
              "    .colab-df-container {\n",
              "      display:flex;\n",
              "      gap: 12px;\n",
              "    }\n",
              "\n",
              "    .colab-df-convert {\n",
              "      background-color: #E8F0FE;\n",
              "      border: none;\n",
              "      border-radius: 50%;\n",
              "      cursor: pointer;\n",
              "      display: none;\n",
              "      fill: #1967D2;\n",
              "      height: 32px;\n",
              "      padding: 0 0 0 0;\n",
              "      width: 32px;\n",
              "    }\n",
              "\n",
              "    .colab-df-convert:hover {\n",
              "      background-color: #E2EBFA;\n",
              "      box-shadow: 0px 1px 2px rgba(60, 64, 67, 0.3), 0px 1px 3px 1px rgba(60, 64, 67, 0.15);\n",
              "      fill: #174EA6;\n",
              "    }\n",
              "\n",
              "    .colab-df-buttons div {\n",
              "      margin-bottom: 4px;\n",
              "    }\n",
              "\n",
              "    [theme=dark] .colab-df-convert {\n",
              "      background-color: #3B4455;\n",
              "      fill: #D2E3FC;\n",
              "    }\n",
              "\n",
              "    [theme=dark] .colab-df-convert:hover {\n",
              "      background-color: #434B5C;\n",
              "      box-shadow: 0px 1px 3px 1px rgba(0, 0, 0, 0.15);\n",
              "      filter: drop-shadow(0px 1px 2px rgba(0, 0, 0, 0.3));\n",
              "      fill: #FFFFFF;\n",
              "    }\n",
              "  </style>\n",
              "\n",
              "    <script>\n",
              "      const buttonEl =\n",
              "        document.querySelector('#df-9a6405be-e69c-4bf0-9e20-91a0c041764c button.colab-df-convert');\n",
              "      buttonEl.style.display =\n",
              "        google.colab.kernel.accessAllowed ? 'block' : 'none';\n",
              "\n",
              "      async function convertToInteractive(key) {\n",
              "        const element = document.querySelector('#df-9a6405be-e69c-4bf0-9e20-91a0c041764c');\n",
              "        const dataTable =\n",
              "          await google.colab.kernel.invokeFunction('convertToInteractive',\n",
              "                                                    [key], {});\n",
              "        if (!dataTable) return;\n",
              "\n",
              "        const docLinkHtml = 'Like what you see? Visit the ' +\n",
              "          '<a target=\"_blank\" href=https://colab.research.google.com/notebooks/data_table.ipynb>data table notebook</a>'\n",
              "          + ' to learn more about interactive tables.';\n",
              "        element.innerHTML = '';\n",
              "        dataTable['output_type'] = 'display_data';\n",
              "        await google.colab.output.renderOutput(dataTable, element);\n",
              "        const docLink = document.createElement('div');\n",
              "        docLink.innerHTML = docLinkHtml;\n",
              "        element.appendChild(docLink);\n",
              "      }\n",
              "    </script>\n",
              "  </div>\n",
              "\n",
              "\n",
              "<div id=\"df-3884b584-ce8d-419f-ba05-158c911ae166\">\n",
              "  <button class=\"colab-df-quickchart\" onclick=\"quickchart('df-3884b584-ce8d-419f-ba05-158c911ae166')\"\n",
              "            title=\"Suggest charts\"\n",
              "            style=\"display:none;\">\n",
              "\n",
              "<svg xmlns=\"http://www.w3.org/2000/svg\" height=\"24px\"viewBox=\"0 0 24 24\"\n",
              "     width=\"24px\">\n",
              "    <g>\n",
              "        <path d=\"M19 3H5c-1.1 0-2 .9-2 2v14c0 1.1.9 2 2 2h14c1.1 0 2-.9 2-2V5c0-1.1-.9-2-2-2zM9 17H7v-7h2v7zm4 0h-2V7h2v10zm4 0h-2v-4h2v4z\"/>\n",
              "    </g>\n",
              "</svg>\n",
              "  </button>\n",
              "\n",
              "<style>\n",
              "  .colab-df-quickchart {\n",
              "      --bg-color: #E8F0FE;\n",
              "      --fill-color: #1967D2;\n",
              "      --hover-bg-color: #E2EBFA;\n",
              "      --hover-fill-color: #174EA6;\n",
              "      --disabled-fill-color: #AAA;\n",
              "      --disabled-bg-color: #DDD;\n",
              "  }\n",
              "\n",
              "  [theme=dark] .colab-df-quickchart {\n",
              "      --bg-color: #3B4455;\n",
              "      --fill-color: #D2E3FC;\n",
              "      --hover-bg-color: #434B5C;\n",
              "      --hover-fill-color: #FFFFFF;\n",
              "      --disabled-bg-color: #3B4455;\n",
              "      --disabled-fill-color: #666;\n",
              "  }\n",
              "\n",
              "  .colab-df-quickchart {\n",
              "    background-color: var(--bg-color);\n",
              "    border: none;\n",
              "    border-radius: 50%;\n",
              "    cursor: pointer;\n",
              "    display: none;\n",
              "    fill: var(--fill-color);\n",
              "    height: 32px;\n",
              "    padding: 0;\n",
              "    width: 32px;\n",
              "  }\n",
              "\n",
              "  .colab-df-quickchart:hover {\n",
              "    background-color: var(--hover-bg-color);\n",
              "    box-shadow: 0 1px 2px rgba(60, 64, 67, 0.3), 0 1px 3px 1px rgba(60, 64, 67, 0.15);\n",
              "    fill: var(--button-hover-fill-color);\n",
              "  }\n",
              "\n",
              "  .colab-df-quickchart-complete:disabled,\n",
              "  .colab-df-quickchart-complete:disabled:hover {\n",
              "    background-color: var(--disabled-bg-color);\n",
              "    fill: var(--disabled-fill-color);\n",
              "    box-shadow: none;\n",
              "  }\n",
              "\n",
              "  .colab-df-spinner {\n",
              "    border: 2px solid var(--fill-color);\n",
              "    border-color: transparent;\n",
              "    border-bottom-color: var(--fill-color);\n",
              "    animation:\n",
              "      spin 1s steps(1) infinite;\n",
              "  }\n",
              "\n",
              "  @keyframes spin {\n",
              "    0% {\n",
              "      border-color: transparent;\n",
              "      border-bottom-color: var(--fill-color);\n",
              "      border-left-color: var(--fill-color);\n",
              "    }\n",
              "    20% {\n",
              "      border-color: transparent;\n",
              "      border-left-color: var(--fill-color);\n",
              "      border-top-color: var(--fill-color);\n",
              "    }\n",
              "    30% {\n",
              "      border-color: transparent;\n",
              "      border-left-color: var(--fill-color);\n",
              "      border-top-color: var(--fill-color);\n",
              "      border-right-color: var(--fill-color);\n",
              "    }\n",
              "    40% {\n",
              "      border-color: transparent;\n",
              "      border-right-color: var(--fill-color);\n",
              "      border-top-color: var(--fill-color);\n",
              "    }\n",
              "    60% {\n",
              "      border-color: transparent;\n",
              "      border-right-color: var(--fill-color);\n",
              "    }\n",
              "    80% {\n",
              "      border-color: transparent;\n",
              "      border-right-color: var(--fill-color);\n",
              "      border-bottom-color: var(--fill-color);\n",
              "    }\n",
              "    90% {\n",
              "      border-color: transparent;\n",
              "      border-bottom-color: var(--fill-color);\n",
              "    }\n",
              "  }\n",
              "</style>\n",
              "\n",
              "  <script>\n",
              "    async function quickchart(key) {\n",
              "      const quickchartButtonEl =\n",
              "        document.querySelector('#' + key + ' button');\n",
              "      quickchartButtonEl.disabled = true;  // To prevent multiple clicks.\n",
              "      quickchartButtonEl.classList.add('colab-df-spinner');\n",
              "      try {\n",
              "        const charts = await google.colab.kernel.invokeFunction(\n",
              "            'suggestCharts', [key], {});\n",
              "      } catch (error) {\n",
              "        console.error('Error during call to suggestCharts:', error);\n",
              "      }\n",
              "      quickchartButtonEl.classList.remove('colab-df-spinner');\n",
              "      quickchartButtonEl.classList.add('colab-df-quickchart-complete');\n",
              "    }\n",
              "    (() => {\n",
              "      let quickchartButtonEl =\n",
              "        document.querySelector('#df-3884b584-ce8d-419f-ba05-158c911ae166 button');\n",
              "      quickchartButtonEl.style.display =\n",
              "        google.colab.kernel.accessAllowed ? 'block' : 'none';\n",
              "    })();\n",
              "  </script>\n",
              "</div>\n",
              "\n",
              "  <div id=\"id_82c35b8f-f88f-4aeb-91e8-557f6f2e0c07\">\n",
              "    <style>\n",
              "      .colab-df-generate {\n",
              "        background-color: #E8F0FE;\n",
              "        border: none;\n",
              "        border-radius: 50%;\n",
              "        cursor: pointer;\n",
              "        display: none;\n",
              "        fill: #1967D2;\n",
              "        height: 32px;\n",
              "        padding: 0 0 0 0;\n",
              "        width: 32px;\n",
              "      }\n",
              "\n",
              "      .colab-df-generate:hover {\n",
              "        background-color: #E2EBFA;\n",
              "        box-shadow: 0px 1px 2px rgba(60, 64, 67, 0.3), 0px 1px 3px 1px rgba(60, 64, 67, 0.15);\n",
              "        fill: #174EA6;\n",
              "      }\n",
              "\n",
              "      [theme=dark] .colab-df-generate {\n",
              "        background-color: #3B4455;\n",
              "        fill: #D2E3FC;\n",
              "      }\n",
              "\n",
              "      [theme=dark] .colab-df-generate:hover {\n",
              "        background-color: #434B5C;\n",
              "        box-shadow: 0px 1px 3px 1px rgba(0, 0, 0, 0.15);\n",
              "        filter: drop-shadow(0px 1px 2px rgba(0, 0, 0, 0.3));\n",
              "        fill: #FFFFFF;\n",
              "      }\n",
              "    </style>\n",
              "    <button class=\"colab-df-generate\" onclick=\"generateWithVariable('an')\"\n",
              "            title=\"Generate code using this dataframe.\"\n",
              "            style=\"display:none;\">\n",
              "\n",
              "  <svg xmlns=\"http://www.w3.org/2000/svg\" height=\"24px\"viewBox=\"0 0 24 24\"\n",
              "       width=\"24px\">\n",
              "    <path d=\"M7,19H8.4L18.45,9,17,7.55,7,17.6ZM5,21V16.75L18.45,3.32a2,2,0,0,1,2.83,0l1.4,1.43a1.91,1.91,0,0,1,.58,1.4,1.91,1.91,0,0,1-.58,1.4L9.25,21ZM18.45,9,17,7.55Zm-12,3A5.31,5.31,0,0,0,4.9,8.1,5.31,5.31,0,0,0,1,6.5,5.31,5.31,0,0,0,4.9,4.9,5.31,5.31,0,0,0,6.5,1,5.31,5.31,0,0,0,8.1,4.9,5.31,5.31,0,0,0,12,6.5,5.46,5.46,0,0,0,6.5,12Z\"/>\n",
              "  </svg>\n",
              "    </button>\n",
              "    <script>\n",
              "      (() => {\n",
              "      const buttonEl =\n",
              "        document.querySelector('#id_82c35b8f-f88f-4aeb-91e8-557f6f2e0c07 button.colab-df-generate');\n",
              "      buttonEl.style.display =\n",
              "        google.colab.kernel.accessAllowed ? 'block' : 'none';\n",
              "\n",
              "      buttonEl.onclick = () => {\n",
              "        google.colab.notebook.generateWithVariable('an');\n",
              "      }\n",
              "      })();\n",
              "    </script>\n",
              "  </div>\n",
              "\n",
              "    </div>\n",
              "  </div>\n"
            ],
            "application/vnd.google.colaboratory.intrinsic+json": {
              "type": "dataframe",
              "variable_name": "an",
              "summary": "{\n  \"name\": \"an\",\n  \"rows\": 4,\n  \"fields\": [\n    {\n      \"column\": \"sum_sq\",\n      \"properties\": {\n        \"dtype\": \"number\",\n        \"std\": 434.3391174130487,\n        \"min\": 2.33223062544028,\n        \"max\": 890.0297183551336,\n        \"num_unique_values\": 4,\n        \"samples\": [\n          7.9918570502482655,\n          890.0297183551336,\n          2.33223062544028\n        ],\n        \"semantic_type\": \"\",\n        \"description\": \"\"\n      }\n    },\n    {\n      \"column\": \"df\",\n      \"properties\": {\n        \"dtype\": \"number\",\n        \"std\": 1028.0620522776499,\n        \"min\": 6.0,\n        \"max\": 2096.0,\n        \"num_unique_values\": 4,\n        \"samples\": [\n          17.0,\n          2096.0,\n          6.0\n        ],\n        \"semantic_type\": \"\",\n        \"description\": \"\"\n      }\n    },\n    {\n      \"column\": \"F\",\n      \"properties\": {\n        \"dtype\": \"number\",\n        \"std\": 0.21297187556275338,\n        \"min\": 0.9153917916278516,\n        \"max\": 1.3406497411957796,\n        \"num_unique_values\": 3,\n        \"samples\": [\n          0.9153917916278516,\n          1.1070966991897893,\n          1.3406497411957796\n        ],\n        \"semantic_type\": \"\",\n        \"description\": \"\"\n      }\n    },\n    {\n      \"column\": \"PR(>F)\",\n      \"properties\": {\n        \"dtype\": \"number\",\n        \"std\": 0.21818432891020625,\n        \"min\": 0.04551586361527236,\n        \"max\": 0.46988021416130166,\n        \"num_unique_values\": 3,\n        \"samples\": [\n          0.46988021416130166,\n          0.345728588331229,\n          0.04551586361527236\n        ],\n        \"semantic_type\": \"\",\n        \"description\": \"\"\n      }\n    }\n  ]\n}"
            }
          },
          "metadata": {},
          "execution_count": 76
        }
      ]
    },
    {
      "cell_type": "markdown",
      "source": [
        "Since on performing ANOVA analysis we notice that our p-value is level than the level of significance i.e. 0.05 we will be rejecting our null hypothesis.\n",
        "\n",
        "Thus, we can conclude that there is a significant difference in mean GPA across different levels of CS courses with the passage of time"
      ],
      "metadata": {
        "id": "XtwewuvuG-Kh"
      },
      "id": "XtwewuvuG-Kh"
    },
    {
      "cell_type": "code",
      "source": [
        "mean_gpa_by_level_year = df_cmsc.groupby(['level', 'year'])['gpa_grade'].mean()\n",
        "mean_gpa_by_level_year = mean_gpa_by_level_year.unstack()\n",
        "\n",
        "plt.figure(figsize=(12, 6))\n",
        "mean_gpa_by_level_year.plot(kind='bar', width=0.8)\n",
        "plt.title('Mean GPA by Course Level and Year')\n",
        "plt.xlabel('Course Level')\n",
        "plt.ylabel('Mean GPA')\n",
        "plt.legend(title='Year', bbox_to_anchor=(1.05, 1), loc='upper left')\n",
        "plt.xticks(rotation=45, ha='right')\n",
        "plt.show()"
      ],
      "metadata": {
        "colab": {
          "base_uri": "https://localhost:8080/",
          "height": 503
        },
        "id": "6ZNdcYmBIPty",
        "outputId": "ac5bf2c0-991d-4580-8f5e-55a74426292d"
      },
      "id": "6ZNdcYmBIPty",
      "execution_count": 77,
      "outputs": [
        {
          "output_type": "display_data",
          "data": {
            "text/plain": [
              "<Figure size 1200x600 with 0 Axes>"
            ]
          },
          "metadata": {}
        },
        {
          "output_type": "display_data",
          "data": {
            "text/plain": [
              "<Figure size 640x480 with 1 Axes>"
            ],
            "image/png": "[encoded data removed]"
          },
          "metadata": {}
        }
      ]
    },
    {
      "cell_type": "markdown",
      "source": [
        "The chart depicts the variations in the mean GPA amongst the different CMSC department course levels with the passage of time. It may be necessary for us to perform a POST HOC analysis here since it is clearly visible from the visualization and previous findings that the data is scarce for courses starting level 600 which may be potentially affecting our results."
      ],
      "metadata": {
        "id": "PBmma4rhIjQ9"
      },
      "id": "PBmma4rhIjQ9"
    }
  ],
  "metadata": {
    "kernelspec": {
      "display_name": "Python 3 (ipykernel)",
      "language": "python",
      "name": "python3"
    },
    "language_info": {
      "codemirror_mode": {
        "name": "ipython",
        "version": 3
      },
      "file_extension": ".py",
      "mimetype": "text/x-python",
      "name": "python",
      "nbconvert_exporter": "python",
      "pygments_lexer": "ipython3",
      "version": "3.10.1"
    },
    "colab": {
      "provenance": []
    }
  },
  "nbformat": 4,
  "nbformat_minor": 5
}