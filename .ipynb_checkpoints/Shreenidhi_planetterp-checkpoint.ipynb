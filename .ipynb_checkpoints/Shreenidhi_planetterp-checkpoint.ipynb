{
 "cells": [
  {
   "cell_type": "code",
   "execution_count": 63,
   "id": "0735a9c7-1324-426a-9587-a1c688d0a1f3",
   "metadata": {},
   "outputs": [],
   "source": [
    "# importing necessary libraries\n",
    "import pandas as pd"
   ]
  },
  {
   "cell_type": "code",
   "execution_count": 64,
   "id": "5023509d-45e6-4023-8da2-787e934446a9",
   "metadata": {},
   "outputs": [],
   "source": [
    "# importing csv files\n",
    "course_reviews_data = pd.read_csv(\"2024_02_21_all_reviews\", index_col=0)\n",
    "df = pd.DataFrame(course_reviews_data)"
   ]
  },
  {
   "cell_type": "code",
   "execution_count": 65,
   "id": "0980db9b-a738-4c22-88db-3be3fc54733d",
   "metadata": {},
   "outputs": [
    {
     "data": {
      "text/html": [
       "<div>\n",
       "<style scoped>\n",
       "    .dataframe tbody tr th:only-of-type {\n",
       "        vertical-align: middle;\n",
       "    }\n",
       "\n",
       "    .dataframe tbody tr th {\n",
       "        vertical-align: top;\n",
       "    }\n",
       "\n",
       "    .dataframe thead th {\n",
       "        text-align: right;\n",
       "    }\n",
       "</style>\n",
       "<table border=\"1\" class=\"dataframe\">\n",
       "  <thead>\n",
       "    <tr style=\"text-align: right;\">\n",
       "      <th></th>\n",
       "      <th>course_code</th>\n",
       "      <th>status_code</th>\n",
       "      <th>star_count</th>\n",
       "      <th>prof_name</th>\n",
       "      <th>prof_slug</th>\n",
       "      <th>grade</th>\n",
       "      <th>reviewer_name</th>\n",
       "      <th>date</th>\n",
       "      <th>review_text</th>\n",
       "      <th>review_id</th>\n",
       "    </tr>\n",
       "  </thead>\n",
       "  <tbody>\n",
       "    <tr>\n",
       "      <th>0</th>\n",
       "      <td>NFSC112</td>\n",
       "      <td>200</td>\n",
       "      <td>4</td>\n",
       "      <td>Abani Pradhan</td>\n",
       "      <td>/professor/pradhan</td>\n",
       "      <td>Expecting an A</td>\n",
       "      <td>Anonymous</td>\n",
       "      <td>12/23/2023</td>\n",
       "      <td>Didn't learn anything, but didn't need to. Eas...</td>\n",
       "      <td>review-31256</td>\n",
       "    </tr>\n",
       "    <tr>\n",
       "      <th>1</th>\n",
       "      <td>NFSC112</td>\n",
       "      <td>200</td>\n",
       "      <td>5</td>\n",
       "      <td>Qin Wang</td>\n",
       "      <td>/professor/wang_qin</td>\n",
       "      <td>Expecting an A</td>\n",
       "      <td>Anonymous</td>\n",
       "      <td>12/18/2023</td>\n",
       "      <td>Easy class. The lectures are asynchronous but ...</td>\n",
       "      <td>review-30485</td>\n",
       "    </tr>\n",
       "    <tr>\n",
       "      <th>2</th>\n",
       "      <td>NFSC112</td>\n",
       "      <td>200</td>\n",
       "      <td>5</td>\n",
       "      <td>Xiaoxue Jia</td>\n",
       "      <td>/professor/jia_xiaoxue</td>\n",
       "      <td>Expecting an A</td>\n",
       "      <td>Anonymous</td>\n",
       "      <td>12/13/2023</td>\n",
       "      <td>She is amazing with ADS and helpful with answe...</td>\n",
       "      <td>review-29852</td>\n",
       "    </tr>\n",
       "    <tr>\n",
       "      <th>3</th>\n",
       "      <td>NFSC112</td>\n",
       "      <td>200</td>\n",
       "      <td>2</td>\n",
       "      <td>Abani Pradhan</td>\n",
       "      <td>/professor/pradhan</td>\n",
       "      <td>Expecting a B-</td>\n",
       "      <td>Anonymous</td>\n",
       "      <td>12/06/2023</td>\n",
       "      <td>Easy class as long as you actually watch the l...</td>\n",
       "      <td>review-28855</td>\n",
       "    </tr>\n",
       "    <tr>\n",
       "      <th>4</th>\n",
       "      <td>NFSC112</td>\n",
       "      <td>200</td>\n",
       "      <td>5</td>\n",
       "      <td>Qin Wang</td>\n",
       "      <td>/professor/wang_qin</td>\n",
       "      <td>Expecting an A</td>\n",
       "      <td>Anonymous</td>\n",
       "      <td>11/26/2023</td>\n",
       "      <td>she is a good lecturer, nfsc 112, is \"chill,\" ...</td>\n",
       "      <td>review-28192</td>\n",
       "    </tr>\n",
       "  </tbody>\n",
       "</table>\n",
       "</div>"
      ],
      "text/plain": [
       "  course_code  status_code  star_count      prof_name               prof_slug  \\\n",
       "0     NFSC112          200           4  Abani Pradhan      /professor/pradhan   \n",
       "1     NFSC112          200           5       Qin Wang     /professor/wang_qin   \n",
       "2     NFSC112          200           5    Xiaoxue Jia  /professor/jia_xiaoxue   \n",
       "3     NFSC112          200           2  Abani Pradhan      /professor/pradhan   \n",
       "4     NFSC112          200           5       Qin Wang     /professor/wang_qin   \n",
       "\n",
       "            grade reviewer_name        date  \\\n",
       "0  Expecting an A     Anonymous  12/23/2023   \n",
       "1  Expecting an A     Anonymous  12/18/2023   \n",
       "2  Expecting an A     Anonymous  12/13/2023   \n",
       "3  Expecting a B-     Anonymous  12/06/2023   \n",
       "4  Expecting an A     Anonymous  11/26/2023   \n",
       "\n",
       "                                         review_text     review_id  \n",
       "0  Didn't learn anything, but didn't need to. Eas...  review-31256  \n",
       "1  Easy class. The lectures are asynchronous but ...  review-30485  \n",
       "2  She is amazing with ADS and helpful with answe...  review-29852  \n",
       "3  Easy class as long as you actually watch the l...  review-28855  \n",
       "4  she is a good lecturer, nfsc 112, is \"chill,\" ...  review-28192  "
      ]
     },
     "execution_count": 65,
     "metadata": {},
     "output_type": "execute_result"
    }
   ],
   "source": [
    "df.head()"
   ]
  },
  {
   "cell_type": "code",
   "execution_count": 66,
   "id": "7f2eaf07-2815-4400-add8-c1f13e259234",
   "metadata": {},
   "outputs": [
    {
     "data": {
      "text/plain": [
       "array([4, 5, 2, 3, 1])"
      ]
     },
     "execution_count": 66,
     "metadata": {},
     "output_type": "execute_result"
    }
   ],
   "source": [
    "df.star_count.unique()"
   ]
  },
  {
   "cell_type": "code",
   "execution_count": 67,
   "id": "bb332078-d2d3-4c11-92e4-6801d9f1986e",
   "metadata": {},
   "outputs": [
    {
     "data": {
      "text/plain": [
       "array(['Expecting an A', 'Expecting a B-', 'Expecting an A+',\n",
       "       'Expecting a B+', 'Expecting an A-', 'Expecting a B', nan,\n",
       "       'Expecting a C', 'Expecting a b', 'Expecting a C+',\n",
       "       'Expecting an F', 'Expecting a D', 'Expecting a W',\n",
       "       'Expecting a P', 'Expecting a a', 'Expecting a B?',\n",
       "       'Expecting a c?', 'Expecting a c-', 'Expecting a C-',\n",
       "       'Expecting a D+', 'Expecting a 65', 'Expecting a b+',\n",
       "       'Expecting a c', 'Expecting an XF', 'Expecting a ?',\n",
       "       'Expecting a D-', 'Expecting a A?', 'Expecting a AA',\n",
       "       'Expecting a -A', 'Expecting a s', 'Expecting a b-',\n",
       "       'Expecting a C?', 'Expecting a d', 'Expecting a I',\n",
       "       'Expecting a ??', 'Expecting a a-', 'Expecting a -',\n",
       "       'Expecting a 74', 'Expecting a BC', 'Expecting a CD',\n",
       "       'Expecting a F+', 'Expecting a CB', 'Expecting a 85',\n",
       "       'Expecting a 95', 'Expecting a AU'], dtype=object)"
      ]
     },
     "execution_count": 67,
     "metadata": {},
     "output_type": "execute_result"
    }
   ],
   "source": [
    "df.grade.unique()"
   ]
  },
  {
   "cell_type": "code",
   "execution_count": 68,
   "id": "3eed0985",
   "metadata": {},
   "outputs": [
    {
     "data": {
      "text/plain": [
       "course_code         0\n",
       "status_code         0\n",
       "star_count          0\n",
       "prof_name           0\n",
       "prof_slug           0\n",
       "grade            4135\n",
       "reviewer_name       0\n",
       "date                0\n",
       "review_text         5\n",
       "review_id           0\n",
       "dtype: int64"
      ]
     },
     "execution_count": 68,
     "metadata": {},
     "output_type": "execute_result"
    }
   ],
   "source": [
    "df.isnull().sum()"
   ]
  },
  {
   "cell_type": "code",
   "execution_count": 69,
   "id": "65b4b335",
   "metadata": {},
   "outputs": [
    {
     "data": {
      "text/plain": [
       "19"
      ]
     },
     "execution_count": 69,
     "metadata": {},
     "output_type": "execute_result"
    }
   ],
   "source": [
    "df.duplicated().sum()"
   ]
  },
  {
   "cell_type": "code",
   "execution_count": 70,
   "id": "bcf7d104",
   "metadata": {},
   "outputs": [
    {
     "data": {
      "text/plain": [
       "Anonymous       22644\n",
       "akl2025            27\n",
       "zhangsta           25\n",
       "florm              22\n",
       "a778999            21\n",
       "                ...  \n",
       "wassupgirl          1\n",
       "Anonymous515        1\n",
       "sccerkid02          1\n",
       "iwilder             1\n",
       "BioBoy05            1\n",
       "Name: reviewer_name, Length: 1690, dtype: int64"
      ]
     },
     "execution_count": 70,
     "metadata": {},
     "output_type": "execute_result"
    }
   ],
   "source": [
    "df.reviewer_name.value_counts()"
   ]
  },
  {
   "cell_type": "code",
   "execution_count": 71,
   "id": "40d47221",
   "metadata": {},
   "outputs": [
    {
     "data": {
      "text/plain": [
       "review-31256    2\n",
       "review-27350    2\n",
       "review-30485    2\n",
       "review-2464     2\n",
       "review-2463     2\n",
       "               ..\n",
       "review-29341    1\n",
       "review-30428    1\n",
       "review-31267    1\n",
       "review-4301     1\n",
       "review-31530    1\n",
       "Name: review_id, Length: 26144, dtype: int64"
      ]
     },
     "execution_count": 71,
     "metadata": {},
     "output_type": "execute_result"
    }
   ],
   "source": [
    "df.review_id.value_counts()"
   ]
  },
  {
   "cell_type": "markdown",
   "id": "76afc8bb",
   "metadata": {},
   "source": [
    "### Data Preprocessing"
   ]
  },
  {
   "cell_type": "code",
   "execution_count": 72,
   "id": "1b99491c",
   "metadata": {},
   "outputs": [],
   "source": [
    "# dropping unnecessary columns\n",
    "df.drop(columns=['prof_slug'], inplace=True)\n",
    "df.drop(columns=['status_code'], inplace=True)"
   ]
  },
  {
   "cell_type": "code",
   "execution_count": 73,
   "id": "5fdb2d53",
   "metadata": {},
   "outputs": [
    {
     "data": {
      "text/plain": [
       "Index(['course_code', 'star_count', 'prof_name', 'grade', 'reviewer_name',\n",
       "       'date', 'review_text', 'review_id'],\n",
       "      dtype='object')"
      ]
     },
     "execution_count": 73,
     "metadata": {},
     "output_type": "execute_result"
    }
   ],
   "source": [
    "df.columns"
   ]
  },
  {
   "cell_type": "code",
   "execution_count": 74,
   "id": "e789f283",
   "metadata": {},
   "outputs": [
    {
     "data": {
      "text/plain": [
       "0"
      ]
     },
     "execution_count": 74,
     "metadata": {},
     "output_type": "execute_result"
    }
   ],
   "source": [
    "# dropping duplicates\n",
    "df.drop_duplicates(inplace=True)\n",
    "df.duplicated().sum()"
   ]
  },
  {
   "cell_type": "code",
   "execution_count": 75,
   "id": "c8b856d7",
   "metadata": {},
   "outputs": [
    {
     "data": {
      "text/plain": [
       "0"
      ]
     },
     "execution_count": 75,
     "metadata": {},
     "output_type": "execute_result"
    }
   ],
   "source": [
    "# handling null values in grade column with imputation of word \"None\"\n",
    "df[\"grade\"] = df[\"grade\"].fillna('None')\n",
    "df[\"grade\"].isnull().sum()"
   ]
  },
  {
   "cell_type": "code",
   "execution_count": 76,
   "id": "3aa88bec",
   "metadata": {},
   "outputs": [
    {
     "data": {
      "text/plain": [
       "0"
      ]
     },
     "execution_count": 76,
     "metadata": {},
     "output_type": "execute_result"
    }
   ],
   "source": [
    "# handling null values in review_text column with imputation of words \"No Review\"\n",
    "df[\"review_text\"] = df[\"review_text\"].fillna('No Review')\n",
    "df[\"review_text\"].isnull().sum()"
   ]
  },
  {
   "cell_type": "code",
   "execution_count": 96,
   "id": "462d9c8e",
   "metadata": {},
   "outputs": [
    {
     "data": {
      "text/plain": [
       "A       15804\n",
       "B        4630\n",
       "None     4135\n",
       "C        1145\n",
       "D         136\n",
       "W         113\n",
       "P          80\n",
       "F          71\n",
       "?           8\n",
       "XF          6\n",
       "BC          3\n",
       "??          2\n",
       "95          1\n",
       "85          1\n",
       "CB          1\n",
       "CD          1\n",
       "AA          1\n",
       "74          1\n",
       "-           1\n",
       "I           1\n",
       "s           1\n",
       "65          1\n",
       "AU          1\n",
       "Name: grade, dtype: int64"
      ]
     },
     "execution_count": 96,
     "metadata": {},
     "output_type": "execute_result"
    }
   ],
   "source": [
    "# cleaning up grade column by standardizing letter grades\n",
    "grades_to_standardize = ['A', 'B', 'C', 'D', 'F']\n",
    "\n",
    "for grade in grades_to_standardize:\n",
    "    df['grade'] = df['grade'].str.replace(f'(((\\+|-)?{grade}(\\+|-)?)|((\\+|-)?{grade.lower()}(\\+|-)?))(\\?)?', grade, regex=True)\n",
    "\n",
    "df[\"grade\"].value_counts()"
   ]
  },
  {
   "cell_type": "code",
   "execution_count": 99,
   "id": "847e22a8",
   "metadata": {},
   "outputs": [
    {
     "data": {
      "text/plain": [
       "A       15807\n",
       "B        4634\n",
       "None     4148\n",
       "C        1148\n",
       "F         190\n",
       "D         137\n",
       "P          80\n",
       "Name: grade, dtype: int64"
      ]
     },
     "execution_count": 99,
     "metadata": {},
     "output_type": "execute_result"
    }
   ],
   "source": [
    "# handling individual cases\n",
    "df['grade'] = df['grade'].str.replace('95', \"A\", regex=True)\n",
    "df['grade'] = df['grade'].str.replace('AA', \"A\", regex=True)\n",
    "df['grade'] = df['grade'].str.replace('AU', \"A\", regex=True)\n",
    "df['grade'] = df['grade'].str.replace('85', \"B\", regex=True)\n",
    "df['grade'] = df['grade'].str.replace('BC', \"B\", regex=True)\n",
    "df['grade'] = df['grade'].str.replace('74', \"C\", regex=True)\n",
    "df['grade'] = df['grade'].str.replace('CB', \"C\", regex=True)\n",
    "df['grade'] = df['grade'].str.replace('CD', \"C\", regex=True)\n",
    "df['grade'] = df['grade'].str.replace('65', \"D\", regex=True)\n",
    "df['grade'] = df['grade'].str.replace('XF', \"F\", regex=True)\n",
    "df['grade'] = df['grade'].str.replace('W', \"F\", regex=True)\n",
    "df['grade'] = df['grade'].str.replace('I', \"None\", regex=True)\n",
    "df['grade'] = df['grade'].str.replace('s', \"None\", regex=True)\n",
    "df['grade'] = df['grade'].str.replace('-', \"None\", regex=True)\n",
    "df['grade'] = df['grade'].str.replace('\\?+', \"None\", regex=True)\n",
    "df[\"grade\"].value_counts()"
   ]
  },
  {
   "cell_type": "code",
   "execution_count": null,
   "id": "2daa169d",
   "metadata": {},
   "outputs": [],
   "source": []
  }
 ],
 "metadata": {
  "kernelspec": {
   "display_name": "Python 3 (ipykernel)",
   "language": "python",
   "name": "python3"
  },
  "language_info": {
   "codemirror_mode": {
    "name": "ipython",
    "version": 3
   },
   "file_extension": ".py",
   "mimetype": "text/x-python",
   "name": "python",
   "nbconvert_exporter": "python",
   "pygments_lexer": "ipython3",
   "version": "3.9.13"
  }
 },
 "nbformat": 4,
 "nbformat_minor": 5
}
