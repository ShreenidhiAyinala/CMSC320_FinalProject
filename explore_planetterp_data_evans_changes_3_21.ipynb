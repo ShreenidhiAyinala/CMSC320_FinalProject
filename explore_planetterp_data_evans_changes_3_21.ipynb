{
 "cells": [
  {
   "cell_type": "code",
   "execution_count": 288,
   "id": "0735a9c7-1324-426a-9587-a1c688d0a1f3",
   "metadata": {},
   "outputs": [],
   "source": [
    "import pandas as pd\n",
    "import numpy as np\n",
    "from scipy import stats"
   ]
  },
  {
   "cell_type": "code",
   "execution_count": 79,
   "id": "5023509d-45e6-4023-8da2-787e934446a9",
   "metadata": {},
   "outputs": [],
   "source": [
    "course_reviews_data = pd.read_csv(\"2024_02_21_all_reviews\", index_col=0)\n",
    "df = pd.DataFrame(course_reviews_data)"
   ]
  },
  {
   "cell_type": "code",
   "execution_count": 80,
   "id": "0980db9b-a738-4c22-88db-3be3fc54733d",
   "metadata": {},
   "outputs": [
    {
     "data": {
      "text/html": [
       "<div>\n",
       "<style scoped>\n",
       "    .dataframe tbody tr th:only-of-type {\n",
       "        vertical-align: middle;\n",
       "    }\n",
       "\n",
       "    .dataframe tbody tr th {\n",
       "        vertical-align: top;\n",
       "    }\n",
       "\n",
       "    .dataframe thead th {\n",
       "        text-align: right;\n",
       "    }\n",
       "</style>\n",
       "<table border=\"1\" class=\"dataframe\">\n",
       "  <thead>\n",
       "    <tr style=\"text-align: right;\">\n",
       "      <th></th>\n",
       "      <th>course_code</th>\n",
       "      <th>status_code</th>\n",
       "      <th>star_count</th>\n",
       "      <th>prof_name</th>\n",
       "      <th>prof_slug</th>\n",
       "      <th>grade</th>\n",
       "      <th>reviewer_name</th>\n",
       "      <th>date</th>\n",
       "      <th>review_text</th>\n",
       "      <th>review_id</th>\n",
       "    </tr>\n",
       "  </thead>\n",
       "  <tbody>\n",
       "    <tr>\n",
       "      <th>0</th>\n",
       "      <td>NFSC112</td>\n",
       "      <td>200</td>\n",
       "      <td>4</td>\n",
       "      <td>Abani Pradhan</td>\n",
       "      <td>/professor/pradhan</td>\n",
       "      <td>Expecting an A</td>\n",
       "      <td>Anonymous</td>\n",
       "      <td>12/23/2023</td>\n",
       "      <td>Didn't learn anything, but didn't need to. Eas...</td>\n",
       "      <td>review-31256</td>\n",
       "    </tr>\n",
       "    <tr>\n",
       "      <th>1</th>\n",
       "      <td>NFSC112</td>\n",
       "      <td>200</td>\n",
       "      <td>5</td>\n",
       "      <td>Qin Wang</td>\n",
       "      <td>/professor/wang_qin</td>\n",
       "      <td>Expecting an A</td>\n",
       "      <td>Anonymous</td>\n",
       "      <td>12/18/2023</td>\n",
       "      <td>Easy class. The lectures are asynchronous but ...</td>\n",
       "      <td>review-30485</td>\n",
       "    </tr>\n",
       "    <tr>\n",
       "      <th>2</th>\n",
       "      <td>NFSC112</td>\n",
       "      <td>200</td>\n",
       "      <td>5</td>\n",
       "      <td>Xiaoxue Jia</td>\n",
       "      <td>/professor/jia_xiaoxue</td>\n",
       "      <td>Expecting an A</td>\n",
       "      <td>Anonymous</td>\n",
       "      <td>12/13/2023</td>\n",
       "      <td>She is amazing with ADS and helpful with answe...</td>\n",
       "      <td>review-29852</td>\n",
       "    </tr>\n",
       "    <tr>\n",
       "      <th>3</th>\n",
       "      <td>NFSC112</td>\n",
       "      <td>200</td>\n",
       "      <td>2</td>\n",
       "      <td>Abani Pradhan</td>\n",
       "      <td>/professor/pradhan</td>\n",
       "      <td>Expecting a B-</td>\n",
       "      <td>Anonymous</td>\n",
       "      <td>12/06/2023</td>\n",
       "      <td>Easy class as long as you actually watch the l...</td>\n",
       "      <td>review-28855</td>\n",
       "    </tr>\n",
       "    <tr>\n",
       "      <th>4</th>\n",
       "      <td>NFSC112</td>\n",
       "      <td>200</td>\n",
       "      <td>5</td>\n",
       "      <td>Qin Wang</td>\n",
       "      <td>/professor/wang_qin</td>\n",
       "      <td>Expecting an A</td>\n",
       "      <td>Anonymous</td>\n",
       "      <td>11/26/2023</td>\n",
       "      <td>she is a good lecturer, nfsc 112, is \"chill,\" ...</td>\n",
       "      <td>review-28192</td>\n",
       "    </tr>\n",
       "  </tbody>\n",
       "</table>\n",
       "</div>"
      ],
      "text/plain": [
       "  course_code  status_code  star_count      prof_name               prof_slug  \\\n",
       "0     NFSC112          200           4  Abani Pradhan      /professor/pradhan   \n",
       "1     NFSC112          200           5       Qin Wang     /professor/wang_qin   \n",
       "2     NFSC112          200           5    Xiaoxue Jia  /professor/jia_xiaoxue   \n",
       "3     NFSC112          200           2  Abani Pradhan      /professor/pradhan   \n",
       "4     NFSC112          200           5       Qin Wang     /professor/wang_qin   \n",
       "\n",
       "            grade reviewer_name        date  \\\n",
       "0  Expecting an A     Anonymous  12/23/2023   \n",
       "1  Expecting an A     Anonymous  12/18/2023   \n",
       "2  Expecting an A     Anonymous  12/13/2023   \n",
       "3  Expecting a B-     Anonymous  12/06/2023   \n",
       "4  Expecting an A     Anonymous  11/26/2023   \n",
       "\n",
       "                                         review_text     review_id  \n",
       "0  Didn't learn anything, but didn't need to. Eas...  review-31256  \n",
       "1  Easy class. The lectures are asynchronous but ...  review-30485  \n",
       "2  She is amazing with ADS and helpful with answe...  review-29852  \n",
       "3  Easy class as long as you actually watch the l...  review-28855  \n",
       "4  she is a good lecturer, nfsc 112, is \"chill,\" ...  review-28192  "
      ]
     },
     "execution_count": 80,
     "metadata": {},
     "output_type": "execute_result"
    }
   ],
   "source": [
    "df.head()"
   ]
  },
  {
   "cell_type": "code",
   "execution_count": 81,
   "id": "adcd3483-45bb-4610-a823-b77bd06b31eb",
   "metadata": {},
   "outputs": [
    {
     "data": {
      "text/html": [
       "<div>\n",
       "<style scoped>\n",
       "    .dataframe tbody tr th:only-of-type {\n",
       "        vertical-align: middle;\n",
       "    }\n",
       "\n",
       "    .dataframe tbody tr th {\n",
       "        vertical-align: top;\n",
       "    }\n",
       "\n",
       "    .dataframe thead th {\n",
       "        text-align: right;\n",
       "    }\n",
       "</style>\n",
       "<table border=\"1\" class=\"dataframe\">\n",
       "  <thead>\n",
       "    <tr style=\"text-align: right;\">\n",
       "      <th></th>\n",
       "      <th>star_count</th>\n",
       "      <th>prof_name</th>\n",
       "      <th>expected_grade</th>\n",
       "      <th>reviewer_name</th>\n",
       "      <th>date</th>\n",
       "      <th>review_text</th>\n",
       "      <th>dept</th>\n",
       "      <th>course_num</th>\n",
       "    </tr>\n",
       "  </thead>\n",
       "  <tbody>\n",
       "    <tr>\n",
       "      <th>0</th>\n",
       "      <td>4</td>\n",
       "      <td>Abani Pradhan</td>\n",
       "      <td>Expecting an A</td>\n",
       "      <td>Anonymous</td>\n",
       "      <td>2023-12-23</td>\n",
       "      <td>Didn't learn anything, but didn't need to. Eas...</td>\n",
       "      <td>NFSC</td>\n",
       "      <td>112</td>\n",
       "    </tr>\n",
       "    <tr>\n",
       "      <th>1</th>\n",
       "      <td>5</td>\n",
       "      <td>Qin Wang</td>\n",
       "      <td>Expecting an A</td>\n",
       "      <td>Anonymous</td>\n",
       "      <td>2023-12-18</td>\n",
       "      <td>Easy class. The lectures are asynchronous but ...</td>\n",
       "      <td>NFSC</td>\n",
       "      <td>112</td>\n",
       "    </tr>\n",
       "    <tr>\n",
       "      <th>2</th>\n",
       "      <td>5</td>\n",
       "      <td>Xiaoxue Jia</td>\n",
       "      <td>Expecting an A</td>\n",
       "      <td>Anonymous</td>\n",
       "      <td>2023-12-13</td>\n",
       "      <td>She is amazing with ADS and helpful with answe...</td>\n",
       "      <td>NFSC</td>\n",
       "      <td>112</td>\n",
       "    </tr>\n",
       "    <tr>\n",
       "      <th>3</th>\n",
       "      <td>2</td>\n",
       "      <td>Abani Pradhan</td>\n",
       "      <td>Expecting a B-</td>\n",
       "      <td>Anonymous</td>\n",
       "      <td>2023-12-06</td>\n",
       "      <td>Easy class as long as you actually watch the l...</td>\n",
       "      <td>NFSC</td>\n",
       "      <td>112</td>\n",
       "    </tr>\n",
       "    <tr>\n",
       "      <th>4</th>\n",
       "      <td>5</td>\n",
       "      <td>Qin Wang</td>\n",
       "      <td>Expecting an A</td>\n",
       "      <td>Anonymous</td>\n",
       "      <td>2023-11-26</td>\n",
       "      <td>she is a good lecturer, nfsc 112, is \"chill,\" ...</td>\n",
       "      <td>NFSC</td>\n",
       "      <td>112</td>\n",
       "    </tr>\n",
       "  </tbody>\n",
       "</table>\n",
       "</div>"
      ],
      "text/plain": [
       "   star_count      prof_name  expected_grade reviewer_name       date  \\\n",
       "0           4  Abani Pradhan  Expecting an A     Anonymous 2023-12-23   \n",
       "1           5       Qin Wang  Expecting an A     Anonymous 2023-12-18   \n",
       "2           5    Xiaoxue Jia  Expecting an A     Anonymous 2023-12-13   \n",
       "3           2  Abani Pradhan  Expecting a B-     Anonymous 2023-12-06   \n",
       "4           5       Qin Wang  Expecting an A     Anonymous 2023-11-26   \n",
       "\n",
       "                                         review_text  dept course_num  \n",
       "0  Didn't learn anything, but didn't need to. Eas...  NFSC        112  \n",
       "1  Easy class. The lectures are asynchronous but ...  NFSC        112  \n",
       "2  She is amazing with ADS and helpful with answe...  NFSC        112  \n",
       "3  Easy class as long as you actually watch the l...  NFSC        112  \n",
       "4  she is a good lecturer, nfsc 112, is \"chill,\" ...  NFSC        112  "
      ]
     },
     "execution_count": 81,
     "metadata": {},
     "output_type": "execute_result"
    }
   ],
   "source": [
    "# extract dept and course_num using a regular expression\n",
    "df[['dept', 'course_num']] = df['course_code'].str.extract('([A-Z]{4})([0-9]+[A-Z]*)', expand=True)\n",
    "\n",
    "# rename grade => expected_grade\n",
    "df = df.rename(columns={\"grade\": \"expected_grade\"})\n",
    "\n",
    "# convert date => datetime\n",
    "df['date'] = pd.to_datetime(df['date'])\n",
    "\n",
    "# drop status_code, prof_slug, review_id, and course_code\n",
    "df = df.loc[:, ~df.columns.isin(['status_code', 'prof_slug','review_id'])]\n",
    "\n",
    "df['star_count'] = pd.to_numeric(df['star_count'])\n",
    "\n",
    "df.head(5)"
   ]
  },
  {
   "cell_type": "code",
   "execution_count": 293,
   "id": "bb332078-d2d3-4c11-92e4-6801d9f1986e",
   "metadata": {},
   "outputs": [
    {
     "data": {
      "text/plain": [
       "expected_grade\n",
       "A     9189\n",
       "A+    4014\n",
       "A-    2613\n",
       "B     2415\n",
       "B+    1569\n",
       "B-     646\n",
       "C      636\n",
       "C+     290\n",
       "C-     217\n",
       "W      113\n",
       "D       82\n",
       "P       80\n",
       "F       70\n",
       "D+      44\n",
       "D-      10\n",
       "?        8\n",
       "XF       6\n",
       "B?       5\n",
       "BC       3\n",
       "??       2\n",
       "C?       2\n",
       "65       1\n",
       "95       1\n",
       "85       1\n",
       "CB       1\n",
       "F+       1\n",
       "CD       1\n",
       "-        1\n",
       "74       1\n",
       "I        1\n",
       "S        1\n",
       "-A       1\n",
       "AA       1\n",
       "A?       1\n",
       "AU       1\n",
       "Name: count, dtype: int64"
      ]
     },
     "execution_count": 293,
     "metadata": {},
     "output_type": "execute_result"
    }
   ],
   "source": [
    "# clean up expected grades\n",
    "df.expected_grade.value_counts()"
   ]
  },
  {
   "cell_type": "code",
   "execution_count": 87,
   "id": "920c3bf7-43e7-4854-9268-5e780ed51927",
   "metadata": {},
   "outputs": [
    {
     "data": {
      "text/plain": [
       "expected_grade\n",
       "A     9189\n",
       "A+    4014\n",
       "A-    2613\n",
       "B     2415\n",
       "B+    1569\n",
       "B-     646\n",
       "C      636\n",
       "C+     290\n",
       "C-     217\n",
       "W      113\n",
       "D       82\n",
       "P       80\n",
       "F       70\n",
       "D+      44\n",
       "D-      10\n",
       "?        8\n",
       "XF       6\n",
       "B?       5\n",
       "BC       3\n",
       "??       2\n",
       "C?       2\n",
       "65       1\n",
       "95       1\n",
       "85       1\n",
       "CB       1\n",
       "F+       1\n",
       "CD       1\n",
       "-        1\n",
       "74       1\n",
       "I        1\n",
       "S        1\n",
       "-A       1\n",
       "AA       1\n",
       "A?       1\n",
       "AU       1\n",
       "Name: count, dtype: int64"
      ]
     },
     "execution_count": 87,
     "metadata": {},
     "output_type": "execute_result"
    }
   ],
   "source": [
    "df['expected_grade'] = df['expected_grade'].str.extract('(Expecting a[n]? )([A-z0-9\\-?+]{1,2})', expand=True)[1]\n",
    "df.expected_grade = df.expected_grade.str.upper()\n",
    "df.expected_grade.value_counts()"
   ]
  },
  {
   "cell_type": "code",
   "execution_count": 89,
   "id": "08bfc5b6-e0ef-4671-bfc9-d2f29193665b",
   "metadata": {},
   "outputs": [],
   "source": [
    "# map letter grades to numeric\n",
    "grade_mapper = {\n",
    "    \"A+\":4.0,\n",
    "    \"A\":4.0,\n",
    "    \"AA\":4.0,\n",
    "    \"A?\":4.0,\n",
    "    \"A-\":3.7,\n",
    "    \"-A\":3.7,\n",
    "    \"B+\":3.3,\n",
    "    \"B\":3.0,\n",
    "    \"B?\":3.0,\n",
    "    \"B-\":2.7,\n",
    "    \"BC\":2.5,\n",
    "    \"CB\":2.5,\n",
    "    \"C+\":2.3,\n",
    "    \"C\":2.0,\n",
    "    \"C?\":2.0,\n",
    "    \"C-\":1.7,\n",
    "    \"CD\":1.5,\n",
    "    \"D+\":1.3,\n",
    "    \"D\":1.0,\n",
    "    \"D-\":0.7,\n",
    "    \"F\":0,\n",
    "    \"F+\":0,\n",
    "    \"XF\":0,\n",
    "    \"P\":None,\n",
    "    \"S\":None,\n",
    "    \"I\":None,\n",
    "    \"-\":None,\n",
    "    \"AU\":None,\n",
    "    \"??\":None,\n",
    "    \"?\":None,\n",
    "    \"W\":None\n",
    "}\n",
    "\n",
    "def map_grades_to_gpa(letter_grade):\n",
    "    if pd.isna(letter_grade) or letter_grade == np.nan :\n",
    "        return None\n",
    "    else:\n",
    "        if letter_grade.isnumeric():\n",
    "            return None\n",
    "        elif ( letter_grade in grade_mapper.keys()):\n",
    "            return grade_mapper[letter_grade]\n",
    "        else:\n",
    "            print(\"Not in mapper: \" +letter_grade)\n",
    "            return None\n",
    "\n",
    "df['gpa_grade'] = df['expected_grade'].apply(map_grades_to_gpa)\n",
    "        "
   ]
  },
  {
   "cell_type": "code",
   "execution_count": 90,
   "id": "0f24fae9-ba9d-4745-9776-ba284ff6b819",
   "metadata": {},
   "outputs": [
    {
     "data": {
      "text/html": [
       "<div>\n",
       "<style scoped>\n",
       "    .dataframe tbody tr th:only-of-type {\n",
       "        vertical-align: middle;\n",
       "    }\n",
       "\n",
       "    .dataframe tbody tr th {\n",
       "        vertical-align: top;\n",
       "    }\n",
       "\n",
       "    .dataframe thead th {\n",
       "        text-align: right;\n",
       "    }\n",
       "</style>\n",
       "<table border=\"1\" class=\"dataframe\">\n",
       "  <thead>\n",
       "    <tr style=\"text-align: right;\">\n",
       "      <th></th>\n",
       "      <th>star_count</th>\n",
       "      <th>prof_name</th>\n",
       "      <th>expected_grade</th>\n",
       "      <th>reviewer_name</th>\n",
       "      <th>date</th>\n",
       "      <th>review_text</th>\n",
       "      <th>dept</th>\n",
       "      <th>course_num</th>\n",
       "      <th>gpa_grade</th>\n",
       "    </tr>\n",
       "  </thead>\n",
       "  <tbody>\n",
       "    <tr>\n",
       "      <th>0</th>\n",
       "      <td>4</td>\n",
       "      <td>Abani Pradhan</td>\n",
       "      <td>A</td>\n",
       "      <td>Anonymous</td>\n",
       "      <td>2023-12-23</td>\n",
       "      <td>Didn't learn anything, but didn't need to. Eas...</td>\n",
       "      <td>NFSC</td>\n",
       "      <td>112</td>\n",
       "      <td>4.0</td>\n",
       "    </tr>\n",
       "    <tr>\n",
       "      <th>1</th>\n",
       "      <td>5</td>\n",
       "      <td>Qin Wang</td>\n",
       "      <td>A</td>\n",
       "      <td>Anonymous</td>\n",
       "      <td>2023-12-18</td>\n",
       "      <td>Easy class. The lectures are asynchronous but ...</td>\n",
       "      <td>NFSC</td>\n",
       "      <td>112</td>\n",
       "      <td>4.0</td>\n",
       "    </tr>\n",
       "    <tr>\n",
       "      <th>2</th>\n",
       "      <td>5</td>\n",
       "      <td>Xiaoxue Jia</td>\n",
       "      <td>A</td>\n",
       "      <td>Anonymous</td>\n",
       "      <td>2023-12-13</td>\n",
       "      <td>She is amazing with ADS and helpful with answe...</td>\n",
       "      <td>NFSC</td>\n",
       "      <td>112</td>\n",
       "      <td>4.0</td>\n",
       "    </tr>\n",
       "    <tr>\n",
       "      <th>3</th>\n",
       "      <td>2</td>\n",
       "      <td>Abani Pradhan</td>\n",
       "      <td>B-</td>\n",
       "      <td>Anonymous</td>\n",
       "      <td>2023-12-06</td>\n",
       "      <td>Easy class as long as you actually watch the l...</td>\n",
       "      <td>NFSC</td>\n",
       "      <td>112</td>\n",
       "      <td>2.7</td>\n",
       "    </tr>\n",
       "    <tr>\n",
       "      <th>4</th>\n",
       "      <td>5</td>\n",
       "      <td>Qin Wang</td>\n",
       "      <td>A</td>\n",
       "      <td>Anonymous</td>\n",
       "      <td>2023-11-26</td>\n",
       "      <td>she is a good lecturer, nfsc 112, is \"chill,\" ...</td>\n",
       "      <td>NFSC</td>\n",
       "      <td>112</td>\n",
       "      <td>4.0</td>\n",
       "    </tr>\n",
       "    <tr>\n",
       "      <th>5</th>\n",
       "      <td>5</td>\n",
       "      <td>Qin Wang</td>\n",
       "      <td>A+</td>\n",
       "      <td>Anonymous</td>\n",
       "      <td>2022-12-28</td>\n",
       "      <td>super chill and easy class... lectures are onl...</td>\n",
       "      <td>NFSC</td>\n",
       "      <td>112</td>\n",
       "      <td>4.0</td>\n",
       "    </tr>\n",
       "  </tbody>\n",
       "</table>\n",
       "</div>"
      ],
      "text/plain": [
       "   star_count      prof_name expected_grade reviewer_name       date  \\\n",
       "0           4  Abani Pradhan              A     Anonymous 2023-12-23   \n",
       "1           5       Qin Wang              A     Anonymous 2023-12-18   \n",
       "2           5    Xiaoxue Jia              A     Anonymous 2023-12-13   \n",
       "3           2  Abani Pradhan             B-     Anonymous 2023-12-06   \n",
       "4           5       Qin Wang              A     Anonymous 2023-11-26   \n",
       "5           5       Qin Wang             A+     Anonymous 2022-12-28   \n",
       "\n",
       "                                         review_text  dept course_num  \\\n",
       "0  Didn't learn anything, but didn't need to. Eas...  NFSC        112   \n",
       "1  Easy class. The lectures are asynchronous but ...  NFSC        112   \n",
       "2  She is amazing with ADS and helpful with answe...  NFSC        112   \n",
       "3  Easy class as long as you actually watch the l...  NFSC        112   \n",
       "4  she is a good lecturer, nfsc 112, is \"chill,\" ...  NFSC        112   \n",
       "5  super chill and easy class... lectures are onl...  NFSC        112   \n",
       "\n",
       "   gpa_grade  \n",
       "0        4.0  \n",
       "1        4.0  \n",
       "2        4.0  \n",
       "3        2.7  \n",
       "4        4.0  \n",
       "5        4.0  "
      ]
     },
     "execution_count": 90,
     "metadata": {},
     "output_type": "execute_result"
    }
   ],
   "source": [
    "df.head(6)"
   ]
  },
  {
   "cell_type": "code",
   "execution_count": 91,
   "id": "c1c9d93a-3321-435d-b6d1-1654c2af6535",
   "metadata": {},
   "outputs": [
    {
     "data": {
      "text/plain": [
       "gpa_grade\n",
       "4.0    13205\n",
       "3.7     2614\n",
       "3.0     2420\n",
       "3.3     1569\n",
       "2.7      646\n",
       "2.0      638\n",
       "2.3      290\n",
       "1.7      217\n",
       "1.0       82\n",
       "0.0       77\n",
       "1.3       44\n",
       "0.7       10\n",
       "2.5        4\n",
       "1.5        1\n",
       "Name: count, dtype: int64"
      ]
     },
     "execution_count": 91,
     "metadata": {},
     "output_type": "execute_result"
    }
   ],
   "source": [
    "df['gpa_grade'].value_counts()"
   ]
  },
  {
   "cell_type": "code",
   "execution_count": 93,
   "id": "8f8c623b-7f0c-42bf-b825-8ef236c22f0f",
   "metadata": {},
   "outputs": [
    {
     "data": {
      "text/plain": [
       "<Axes: xlabel='gpa_grade'>"
      ]
     },
     "execution_count": 93,
     "metadata": {},
     "output_type": "execute_result"
    },
    {
     "data": {
      "image/png": "[encoded data removed]",
      "text/plain": [
       "<Figure size 640x480 with 1 Axes>"
      ]
     },
     "metadata": {},
     "output_type": "display_data"
    }
   ],
   "source": [
    "df['gpa_grade'].value_counts().sort_index().plot(kind=\"bar\")"
   ]
  },
  {
   "cell_type": "code",
   "execution_count": 57,
   "id": "719d680a-f359-4280-911e-eb58bbbd0a05",
   "metadata": {},
   "outputs": [
    {
     "data": {
      "text/plain": [
       "expected_grade\n",
       "False    26163\n",
       "Name: count, dtype: int64"
      ]
     },
     "execution_count": 57,
     "metadata": {},
     "output_type": "execute_result"
    }
   ],
   "source": [
    "df.expected_grade.isnull().value_counts()"
   ]
  },
  {
   "cell_type": "code",
   "execution_count": 11,
   "id": "5517487f-df93-43f3-9cb7-dc9b77979115",
   "metadata": {},
   "outputs": [
    {
     "data": {
      "text/plain": [
       "<Axes: xlabel='star_count'>"
      ]
     },
     "execution_count": 11,
     "metadata": {},
     "output_type": "execute_result"
    },
    {
     "data": {
      "image/png": "[encoded data removed]",
      "text/plain": [
       "<Figure size 640x480 with 1 Axes>"
      ]
     },
     "metadata": {},
     "output_type": "display_data"
    }
   ],
   "source": [
    "df.star_count.value_counts().sort_index().plot(kind=\"bar\")"
   ]
  },
  {
   "cell_type": "code",
   "execution_count": 124,
   "id": "a28c9d32-32fc-4151-82f8-551404e7b7ac",
   "metadata": {},
   "outputs": [
    {
     "data": {
      "text/plain": [
       "<Axes: xlabel='year'>"
      ]
     },
     "execution_count": 124,
     "metadata": {},
     "output_type": "execute_result"
    },
    {
     "data": {
      "image/png": "[encoded data removed]",
      "text/plain": [
       "<Figure size 640x480 with 1 Axes>"
      ]
     },
     "metadata": {},
     "output_type": "display_data"
    }
   ],
   "source": [
    "df['month'] = df.date.dt.to_period('M')\n",
    "df['year'] = df.date.dt.to_period('Y')\n",
    "df\n",
    "df.groupby('year').size().plot(kind=\"bar\")"
   ]
  },
  {
   "cell_type": "code",
   "execution_count": 221,
   "id": "c190318c-11bc-4f36-b798-19a772b427e9",
   "metadata": {},
   "outputs": [
    {
     "data": {
      "text/plain": [
       "['MATH', 'CMSC', 'BSCI', 'BMGT', 'ENGL']"
      ]
     },
     "execution_count": 221,
     "metadata": {},
     "output_type": "execute_result"
    }
   ],
   "source": [
    "#5 most reviewed courses\n",
    "top_5_reviewed_departments = df.groupby('dept').size().nlargest(5).index.to_list()\n",
    "top_5_reviewed_departments"
   ]
  },
  {
   "cell_type": "code",
   "execution_count": 222,
   "id": "e72e7e02-2207-4e7f-92d1-54317145f956",
   "metadata": {},
   "outputs": [
    {
     "data": {
      "text/plain": [
       "<Axes: xlabel='year'>"
      ]
     },
     "execution_count": 222,
     "metadata": {},
     "output_type": "execute_result"
    },
    {
     "data": {
      "image/png": "[encoded data removed]",
      "text/plain": [
       "<Figure size 640x480 with 1 Axes>"
      ]
     },
     "metadata": {},
     "output_type": "display_data"
    }
   ],
   "source": [
    "top_5 = df[df['dept'].isin(top_5_reviewed_departments)]\n",
    "top_5 = top_5.set_index('year')\n",
    "top_5.groupby([\"year\",\"dept\"]).count().pivot_table(values=\"star_count\", index=\"year\", columns=\"dept\").plot(kind=\"bar\")"
   ]
  },
  {
   "cell_type": "code",
   "execution_count": 250,
   "id": "434abc7a-b1b8-46a3-abf3-42db55e01819",
   "metadata": {},
   "outputs": [
    {
     "data": {
      "text/plain": [
       "<Axes: xlabel='year'>"
      ]
     },
     "execution_count": 250,
     "metadata": {},
     "output_type": "execute_result"
    },
    {
     "data": {
      "image/png": "[encoded data removed]",
      "text/plain": [
       "<Figure size 640x480 with 1 Axes>"
      ]
     },
     "metadata": {},
     "output_type": "display_data"
    }
   ],
   "source": [
    "df[df[\"dept\"] == \"CMSC\"].groupby('year')[['gpa_grade','star_count']].mean().plot()"
   ]
  },
  {
   "cell_type": "code",
   "execution_count": 249,
   "id": "d13143d1-1024-478e-9de1-03801c036ebf",
   "metadata": {},
   "outputs": [
    {
     "data": {
      "text/plain": [
       "<Axes: >"
      ]
     },
     "execution_count": 249,
     "metadata": {},
     "output_type": "execute_result"
    },
    {
     "data": {
      "image/png": "[encoded data removed]",
      "text/plain": [
       "<Figure size 640x480 with 1 Axes>"
      ]
     },
     "metadata": {},
     "output_type": "display_data"
    }
   ],
   "source": [
    "# does someone who is expecting less than an A, on average have the same rating as someone who is expecting an A?\n",
    "df[df[\"gpa_grade\"] < 3.7]['star_count'].hist()"
   ]
  },
  {
   "cell_type": "code",
   "execution_count": 248,
   "id": "38cbca85-c899-4776-8828-c7efa97b56e3",
   "metadata": {},
   "outputs": [
    {
     "data": {
      "text/plain": [
       "<Axes: >"
      ]
     },
     "execution_count": 248,
     "metadata": {},
     "output_type": "execute_result"
    },
    {
     "data": {
      "image/png": "[encoded data removed]",
      "text/plain": [
       "<Figure size 640x480 with 1 Axes>"
      ]
     },
     "metadata": {},
     "output_type": "display_data"
    }
   ],
   "source": [
    "# this is not necessarily surprising, but can we show that there is a statistically significant variation in ratings between the A earners and less than A earners?\n",
    "df[df[\"gpa_grade\"] >= 3.7][\"star_count\"].hist()"
   ]
  },
  {
   "cell_type": "code",
   "execution_count": 291,
   "id": "81ae877a-a04f-4bf0-a157-f762bd97542a",
   "metadata": {},
   "outputs": [
    {
     "data": {
      "text/plain": [
       "star_count\n",
       "1     909\n",
       "2     885\n",
       "3    1361\n",
       "4    2796\n",
       "5    9868\n",
       "Name: ratings_from_As, dtype: int64"
      ]
     },
     "execution_count": 291,
     "metadata": {},
     "output_type": "execute_result"
    }
   ],
   "source": [
    "# does this change over time?\n",
    "# i.e. are people's ratings correlated with their expected grade moreso now than they have been in the past?\n",
    "# i.e. do people now expect to get good grades?\n",
    "greater_than_eq_3pt7 = pd.Series(df[df[\"gpa_grade\"] >= 3.7][\"star_count\"].value_counts().sort_index(),name=\"ratings_from_As\")\n",
    "greater_than_eq_3pt7"
   ]
  },
  {
   "cell_type": "code",
   "execution_count": 297,
   "id": "511e0f0e-8a49-4959-bcc5-140296769e77",
   "metadata": {},
   "outputs": [
    {
     "data": {
      "text/html": [
       "<div>\n",
       "<style scoped>\n",
       "    .dataframe tbody tr th:only-of-type {\n",
       "        vertical-align: middle;\n",
       "    }\n",
       "\n",
       "    .dataframe tbody tr th {\n",
       "        vertical-align: top;\n",
       "    }\n",
       "\n",
       "    .dataframe thead th {\n",
       "        text-align: right;\n",
       "    }\n",
       "</style>\n",
       "<table border=\"1\" class=\"dataframe\">\n",
       "  <thead>\n",
       "    <tr style=\"text-align: right;\">\n",
       "      <th></th>\n",
       "      <th>ratings_from_As</th>\n",
       "      <th>ratings_from_less_than_As</th>\n",
       "    </tr>\n",
       "    <tr>\n",
       "      <th>star_count</th>\n",
       "      <th></th>\n",
       "      <th></th>\n",
       "    </tr>\n",
       "  </thead>\n",
       "  <tbody>\n",
       "    <tr>\n",
       "      <th>1</th>\n",
       "      <td>909</td>\n",
       "      <td>1605</td>\n",
       "    </tr>\n",
       "    <tr>\n",
       "      <th>2</th>\n",
       "      <td>885</td>\n",
       "      <td>984</td>\n",
       "    </tr>\n",
       "    <tr>\n",
       "      <th>3</th>\n",
       "      <td>1361</td>\n",
       "      <td>925</td>\n",
       "    </tr>\n",
       "    <tr>\n",
       "      <th>4</th>\n",
       "      <td>2796</td>\n",
       "      <td>1129</td>\n",
       "    </tr>\n",
       "    <tr>\n",
       "      <th>5</th>\n",
       "      <td>9868</td>\n",
       "      <td>1355</td>\n",
       "    </tr>\n",
       "  </tbody>\n",
       "</table>\n",
       "</div>"
      ],
      "text/plain": [
       "            ratings_from_As  ratings_from_less_than_As\n",
       "star_count                                            \n",
       "1                       909                       1605\n",
       "2                       885                        984\n",
       "3                      1361                        925\n",
       "4                      2796                       1129\n",
       "5                      9868                       1355"
      ]
     },
     "execution_count": 297,
     "metadata": {},
     "output_type": "execute_result"
    }
   ],
   "source": [
    "less_than_3pt7 = pd.Series(df[df[\"gpa_grade\"] < 3.7][\"star_count\"].value_counts().sort_index(),name=\"ratings_from_less_than_As\")\n",
    "less_than_3pt7\n",
    "crosstab = pd.concat([greater_than_eq_3pt7,less_than_3pt7], axis=1)\n",
    "crosstab"
   ]
  },
  {
   "cell_type": "code",
   "execution_count": 298,
   "id": "9e5c970a-8a95-4b14-88c0-29b0b8d74aef",
   "metadata": {},
   "outputs": [
    {
     "data": {
      "text/plain": [
       "Chi2ContingencyResult(statistic=3794.396207520017, pvalue=0.0, dof=4, expected_freq=array([[1822.84301233,  691.15698767],\n",
       "       [1355.16849246,  513.83150754],\n",
       "       [1657.52550763,  628.47449237],\n",
       "       [2845.92634184, 1079.07365816],\n",
       "       [8137.53664573, 3085.46335427]]))"
      ]
     },
     "execution_count": 298,
     "metadata": {},
     "output_type": "execute_result"
    }
   ],
   "source": [
    "#H0: the distribution of course ratings (star count) is the same for the groups of:\n",
    "#       students who are expecting an A- or higher \n",
    "#       students who are expecting less than an A-\n",
    "# HA: the distribution of course ratings (star_count) is different for the two groups.\n",
    "# Assume alpha of .05\n",
    "stats.chi2_contingency(crosstab)"
   ]
  },
  {
   "cell_type": "code",
   "execution_count": null,
   "id": "e1ed4a54-83a0-4117-b023-0a65fd7e67c0",
   "metadata": {},
   "outputs": [],
   "source": [
    "# Our p-value is 0.0, indicating a statistically significant difference in the rating distributions between the two groups. \n",
    "# The conclusion is that we would reject the null hypothesis."
   ]
  },
  {
   "cell_type": "code",
   "execution_count": 299,
   "id": "8abda909-abf9-4c25-a3bd-3c00c35b8dd8",
   "metadata": {},
   "outputs": [],
   "source": [
    "# calculate correlation coefficient between expected grade and review rating for groupby on year and see if it's changed over years"
   ]
  }
 ],
 "metadata": {
  "kernelspec": {
   "display_name": "Python 3 (ipykernel)",
   "language": "python",
   "name": "python3"
  },
  "language_info": {
   "codemirror_mode": {
    "name": "ipython",
    "version": 3
   },
   "file_extension": ".py",
   "mimetype": "text/x-python",
   "name": "python",
   "nbconvert_exporter": "python",
   "pygments_lexer": "ipython3",
   "version": "3.10.1"
  }
 },
 "nbformat": 4,
 "nbformat_minor": 5
}
