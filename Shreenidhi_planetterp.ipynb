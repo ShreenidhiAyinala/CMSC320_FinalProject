{
 "cells": [
  {
   "cell_type": "code",
   "execution_count": 124,
   "id": "0735a9c7-1324-426a-9587-a1c688d0a1f3",
   "metadata": {},
   "outputs": [],
   "source": [
    "# importing necessary libraries\n",
    "import pandas as pd\n",
    "import matplotlib.pyplot as plt"
   ]
  },
  {
   "cell_type": "code",
   "execution_count": 125,
   "id": "5023509d-45e6-4023-8da2-787e934446a9",
   "metadata": {},
   "outputs": [],
   "source": [
    "# importing csv files\n",
    "course_reviews_data = pd.read_csv(\"2024_02_21_all_reviews\", index_col=0)\n",
    "df = pd.DataFrame(course_reviews_data)"
   ]
  },
  {
   "cell_type": "code",
   "execution_count": 126,
   "id": "0980db9b-a738-4c22-88db-3be3fc54733d",
   "metadata": {},
   "outputs": [
    {
     "data": {
      "text/html": [
       "<div>\n",
       "<style scoped>\n",
       "    .dataframe tbody tr th:only-of-type {\n",
       "        vertical-align: middle;\n",
       "    }\n",
       "\n",
       "    .dataframe tbody tr th {\n",
       "        vertical-align: top;\n",
       "    }\n",
       "\n",
       "    .dataframe thead th {\n",
       "        text-align: right;\n",
       "    }\n",
       "</style>\n",
       "<table border=\"1\" class=\"dataframe\">\n",
       "  <thead>\n",
       "    <tr style=\"text-align: right;\">\n",
       "      <th></th>\n",
       "      <th>course_code</th>\n",
       "      <th>status_code</th>\n",
       "      <th>star_count</th>\n",
       "      <th>prof_name</th>\n",
       "      <th>prof_slug</th>\n",
       "      <th>grade</th>\n",
       "      <th>reviewer_name</th>\n",
       "      <th>date</th>\n",
       "      <th>review_text</th>\n",
       "      <th>review_id</th>\n",
       "    </tr>\n",
       "  </thead>\n",
       "  <tbody>\n",
       "    <tr>\n",
       "      <th>0</th>\n",
       "      <td>NFSC112</td>\n",
       "      <td>200</td>\n",
       "      <td>4</td>\n",
       "      <td>Abani Pradhan</td>\n",
       "      <td>/professor/pradhan</td>\n",
       "      <td>Expecting an A</td>\n",
       "      <td>Anonymous</td>\n",
       "      <td>12/23/2023</td>\n",
       "      <td>Didn't learn anything, but didn't need to. Eas...</td>\n",
       "      <td>review-31256</td>\n",
       "    </tr>\n",
       "    <tr>\n",
       "      <th>1</th>\n",
       "      <td>NFSC112</td>\n",
       "      <td>200</td>\n",
       "      <td>5</td>\n",
       "      <td>Qin Wang</td>\n",
       "      <td>/professor/wang_qin</td>\n",
       "      <td>Expecting an A</td>\n",
       "      <td>Anonymous</td>\n",
       "      <td>12/18/2023</td>\n",
       "      <td>Easy class. The lectures are asynchronous but ...</td>\n",
       "      <td>review-30485</td>\n",
       "    </tr>\n",
       "    <tr>\n",
       "      <th>2</th>\n",
       "      <td>NFSC112</td>\n",
       "      <td>200</td>\n",
       "      <td>5</td>\n",
       "      <td>Xiaoxue Jia</td>\n",
       "      <td>/professor/jia_xiaoxue</td>\n",
       "      <td>Expecting an A</td>\n",
       "      <td>Anonymous</td>\n",
       "      <td>12/13/2023</td>\n",
       "      <td>She is amazing with ADS and helpful with answe...</td>\n",
       "      <td>review-29852</td>\n",
       "    </tr>\n",
       "    <tr>\n",
       "      <th>3</th>\n",
       "      <td>NFSC112</td>\n",
       "      <td>200</td>\n",
       "      <td>2</td>\n",
       "      <td>Abani Pradhan</td>\n",
       "      <td>/professor/pradhan</td>\n",
       "      <td>Expecting a B-</td>\n",
       "      <td>Anonymous</td>\n",
       "      <td>12/06/2023</td>\n",
       "      <td>Easy class as long as you actually watch the l...</td>\n",
       "      <td>review-28855</td>\n",
       "    </tr>\n",
       "    <tr>\n",
       "      <th>4</th>\n",
       "      <td>NFSC112</td>\n",
       "      <td>200</td>\n",
       "      <td>5</td>\n",
       "      <td>Qin Wang</td>\n",
       "      <td>/professor/wang_qin</td>\n",
       "      <td>Expecting an A</td>\n",
       "      <td>Anonymous</td>\n",
       "      <td>11/26/2023</td>\n",
       "      <td>she is a good lecturer, nfsc 112, is \"chill,\" ...</td>\n",
       "      <td>review-28192</td>\n",
       "    </tr>\n",
       "  </tbody>\n",
       "</table>\n",
       "</div>"
      ],
      "text/plain": [
       "  course_code  status_code  star_count      prof_name               prof_slug  \\\n",
       "0     NFSC112          200           4  Abani Pradhan      /professor/pradhan   \n",
       "1     NFSC112          200           5       Qin Wang     /professor/wang_qin   \n",
       "2     NFSC112          200           5    Xiaoxue Jia  /professor/jia_xiaoxue   \n",
       "3     NFSC112          200           2  Abani Pradhan      /professor/pradhan   \n",
       "4     NFSC112          200           5       Qin Wang     /professor/wang_qin   \n",
       "\n",
       "            grade reviewer_name        date  \\\n",
       "0  Expecting an A     Anonymous  12/23/2023   \n",
       "1  Expecting an A     Anonymous  12/18/2023   \n",
       "2  Expecting an A     Anonymous  12/13/2023   \n",
       "3  Expecting a B-     Anonymous  12/06/2023   \n",
       "4  Expecting an A     Anonymous  11/26/2023   \n",
       "\n",
       "                                         review_text     review_id  \n",
       "0  Didn't learn anything, but didn't need to. Eas...  review-31256  \n",
       "1  Easy class. The lectures are asynchronous but ...  review-30485  \n",
       "2  She is amazing with ADS and helpful with answe...  review-29852  \n",
       "3  Easy class as long as you actually watch the l...  review-28855  \n",
       "4  she is a good lecturer, nfsc 112, is \"chill,\" ...  review-28192  "
      ]
     },
     "execution_count": 126,
     "metadata": {},
     "output_type": "execute_result"
    }
   ],
   "source": [
    "df.head()"
   ]
  },
  {
   "cell_type": "code",
   "execution_count": 127,
   "id": "7f2eaf07-2815-4400-add8-c1f13e259234",
   "metadata": {},
   "outputs": [
    {
     "data": {
      "text/plain": [
       "array([4, 5, 2, 3, 1])"
      ]
     },
     "execution_count": 127,
     "metadata": {},
     "output_type": "execute_result"
    }
   ],
   "source": [
    "df.star_count.unique()"
   ]
  },
  {
   "cell_type": "code",
   "execution_count": 128,
   "id": "bb332078-d2d3-4c11-92e4-6801d9f1986e",
   "metadata": {},
   "outputs": [
    {
     "data": {
      "text/plain": [
       "array(['Expecting an A', 'Expecting a B-', 'Expecting an A+',\n",
       "       'Expecting a B+', 'Expecting an A-', 'Expecting a B', nan,\n",
       "       'Expecting a C', 'Expecting a b', 'Expecting a C+',\n",
       "       'Expecting an F', 'Expecting a D', 'Expecting a W',\n",
       "       'Expecting a P', 'Expecting a a', 'Expecting a B?',\n",
       "       'Expecting a c?', 'Expecting a c-', 'Expecting a C-',\n",
       "       'Expecting a D+', 'Expecting a 65', 'Expecting a b+',\n",
       "       'Expecting a c', 'Expecting an XF', 'Expecting a ?',\n",
       "       'Expecting a D-', 'Expecting a A?', 'Expecting a AA',\n",
       "       'Expecting a -A', 'Expecting a s', 'Expecting a b-',\n",
       "       'Expecting a C?', 'Expecting a d', 'Expecting a I',\n",
       "       'Expecting a ??', 'Expecting a a-', 'Expecting a -',\n",
       "       'Expecting a 74', 'Expecting a BC', 'Expecting a CD',\n",
       "       'Expecting a F+', 'Expecting a CB', 'Expecting a 85',\n",
       "       'Expecting a 95', 'Expecting a AU'], dtype=object)"
      ]
     },
     "execution_count": 128,
     "metadata": {},
     "output_type": "execute_result"
    }
   ],
   "source": [
    "df.grade.unique()"
   ]
  },
  {
   "cell_type": "code",
   "execution_count": 129,
   "id": "3eed0985",
   "metadata": {},
   "outputs": [
    {
     "data": {
      "text/plain": [
       "course_code         0\n",
       "status_code         0\n",
       "star_count          0\n",
       "prof_name           0\n",
       "prof_slug           0\n",
       "grade            4135\n",
       "reviewer_name       0\n",
       "date                0\n",
       "review_text         5\n",
       "review_id           0\n",
       "dtype: int64"
      ]
     },
     "execution_count": 129,
     "metadata": {},
     "output_type": "execute_result"
    }
   ],
   "source": [
    "df.isnull().sum()"
   ]
  },
  {
   "cell_type": "code",
   "execution_count": 130,
   "id": "65b4b335",
   "metadata": {},
   "outputs": [
    {
     "data": {
      "text/plain": [
       "19"
      ]
     },
     "execution_count": 130,
     "metadata": {},
     "output_type": "execute_result"
    }
   ],
   "source": [
    "df.duplicated().sum()"
   ]
  },
  {
   "cell_type": "code",
   "execution_count": 131,
   "id": "bcf7d104",
   "metadata": {},
   "outputs": [
    {
     "data": {
      "text/plain": [
       "Anonymous       22644\n",
       "akl2025            27\n",
       "zhangsta           25\n",
       "florm              22\n",
       "a778999            21\n",
       "                ...  \n",
       "wassupgirl          1\n",
       "Anonymous515        1\n",
       "sccerkid02          1\n",
       "iwilder             1\n",
       "BioBoy05            1\n",
       "Name: reviewer_name, Length: 1690, dtype: int64"
      ]
     },
     "execution_count": 131,
     "metadata": {},
     "output_type": "execute_result"
    }
   ],
   "source": [
    "df.reviewer_name.value_counts()"
   ]
  },
  {
   "cell_type": "code",
   "execution_count": 132,
   "id": "40d47221",
   "metadata": {},
   "outputs": [
    {
     "data": {
      "text/plain": [
       "review-31256    2\n",
       "review-27350    2\n",
       "review-30485    2\n",
       "review-2464     2\n",
       "review-2463     2\n",
       "               ..\n",
       "review-29341    1\n",
       "review-30428    1\n",
       "review-31267    1\n",
       "review-4301     1\n",
       "review-31530    1\n",
       "Name: review_id, Length: 26144, dtype: int64"
      ]
     },
     "execution_count": 132,
     "metadata": {},
     "output_type": "execute_result"
    }
   ],
   "source": [
    "df.review_id.value_counts()"
   ]
  },
  {
   "cell_type": "markdown",
   "id": "76afc8bb",
   "metadata": {},
   "source": [
    "## Data Preprocessing"
   ]
  },
  {
   "cell_type": "code",
   "execution_count": 133,
   "id": "1b99491c",
   "metadata": {},
   "outputs": [],
   "source": [
    "# dropping unnecessary columns\n",
    "df.drop(columns=['prof_slug'], inplace=True)\n",
    "df.drop(columns=['status_code'], inplace=True)"
   ]
  },
  {
   "cell_type": "code",
   "execution_count": 134,
   "id": "5fdb2d53",
   "metadata": {},
   "outputs": [
    {
     "data": {
      "text/plain": [
       "Index(['course_code', 'star_count', 'prof_name', 'grade', 'reviewer_name',\n",
       "       'date', 'review_text', 'review_id'],\n",
       "      dtype='object')"
      ]
     },
     "execution_count": 134,
     "metadata": {},
     "output_type": "execute_result"
    }
   ],
   "source": [
    "df.columns"
   ]
  },
  {
   "cell_type": "code",
   "execution_count": 135,
   "id": "e4cfddd1",
   "metadata": {},
   "outputs": [
    {
     "data": {
      "text/plain": [
       "course_code              object\n",
       "star_count                int64\n",
       "prof_name                object\n",
       "grade                    object\n",
       "reviewer_name            object\n",
       "date             datetime64[ns]\n",
       "review_text              object\n",
       "review_id                object\n",
       "dtype: object"
      ]
     },
     "execution_count": 135,
     "metadata": {},
     "output_type": "execute_result"
    }
   ],
   "source": [
    "# converting the date column to datetime type\n",
    "df['date'] = pd.to_datetime(df['date'])\n",
    "df.dtypes"
   ]
  },
  {
   "cell_type": "code",
   "execution_count": 136,
   "id": "e789f283",
   "metadata": {},
   "outputs": [
    {
     "data": {
      "text/plain": [
       "0"
      ]
     },
     "execution_count": 136,
     "metadata": {},
     "output_type": "execute_result"
    }
   ],
   "source": [
    "# dropping duplicates\n",
    "df.drop_duplicates(inplace=True)\n",
    "df.duplicated().sum()"
   ]
  },
  {
   "cell_type": "code",
   "execution_count": 137,
   "id": "c8b856d7",
   "metadata": {},
   "outputs": [
    {
     "data": {
      "text/plain": [
       "0"
      ]
     },
     "execution_count": 137,
     "metadata": {},
     "output_type": "execute_result"
    }
   ],
   "source": [
    "# handling null values in grade column with imputation of word \"None\"\n",
    "df[\"grade\"] = df[\"grade\"].fillna('None')\n",
    "df[\"grade\"].isnull().sum()"
   ]
  },
  {
   "cell_type": "code",
   "execution_count": 138,
   "id": "3aa88bec",
   "metadata": {},
   "outputs": [
    {
     "data": {
      "text/plain": [
       "0"
      ]
     },
     "execution_count": 138,
     "metadata": {},
     "output_type": "execute_result"
    }
   ],
   "source": [
    "# handling null values in review_text column with imputation of words \"No Review\"\n",
    "df[\"review_text\"] = df[\"review_text\"].fillna('No Review')\n",
    "df[\"review_text\"].isnull().sum()"
   ]
  },
  {
   "cell_type": "code",
   "execution_count": 139,
   "id": "462d9c8e",
   "metadata": {},
   "outputs": [
    {
     "data": {
      "text/plain": [
       "A       15804\n",
       "B        4630\n",
       "None     4135\n",
       "C        1145\n",
       "D         136\n",
       "W         113\n",
       "P          80\n",
       "F          71\n",
       "?           8\n",
       "XF          6\n",
       "BC          3\n",
       "??          2\n",
       "95          1\n",
       "85          1\n",
       "CB          1\n",
       "CD          1\n",
       "AA          1\n",
       "74          1\n",
       "-           1\n",
       "I           1\n",
       "s           1\n",
       "65          1\n",
       "AU          1\n",
       "Name: grade, dtype: int64"
      ]
     },
     "execution_count": 139,
     "metadata": {},
     "output_type": "execute_result"
    }
   ],
   "source": [
    "# cleaning up grade column by standardizing letter grades\n",
    "df['grade'] = df['grade'].str.replace('Expecting an? ', '', regex=True).str.strip()\n",
    "\n",
    "grades_to_standardize = ['A', 'B', 'C', 'D', 'F']\n",
    "\n",
    "for grade in grades_to_standardize:\n",
    "    df['grade'] = df['grade'].str.replace(f'(((\\+|-)?{grade}(\\+|-)?)|((\\+|-)?{grade.lower()}(\\+|-)?))(\\?)?', grade, regex=True)\n",
    "\n",
    "df[\"grade\"].value_counts()"
   ]
  },
  {
   "cell_type": "code",
   "execution_count": 140,
   "id": "847e22a8",
   "metadata": {},
   "outputs": [
    {
     "data": {
      "text/plain": [
       "A       15807\n",
       "B        4634\n",
       "None     4148\n",
       "C        1148\n",
       "F         190\n",
       "D         137\n",
       "P          80\n",
       "Name: grade, dtype: int64"
      ]
     },
     "execution_count": 140,
     "metadata": {},
     "output_type": "execute_result"
    }
   ],
   "source": [
    "# handling individual cases\n",
    "df['grade'] = df['grade'].str.replace('95', \"A\", regex=True)\n",
    "df['grade'] = df['grade'].str.replace('AA', \"A\", regex=True)\n",
    "df['grade'] = df['grade'].str.replace('AU', \"A\", regex=True)\n",
    "df['grade'] = df['grade'].str.replace('85', \"B\", regex=True)\n",
    "df['grade'] = df['grade'].str.replace('BC', \"B\", regex=True)\n",
    "df['grade'] = df['grade'].str.replace('74', \"C\", regex=True)\n",
    "df['grade'] = df['grade'].str.replace('CB', \"C\", regex=True)\n",
    "df['grade'] = df['grade'].str.replace('CD', \"C\", regex=True)\n",
    "df['grade'] = df['grade'].str.replace('65', \"D\", regex=True)\n",
    "df['grade'] = df['grade'].str.replace('XF', \"F\", regex=True)\n",
    "df['grade'] = df['grade'].str.replace('W', \"F\", regex=True)\n",
    "df['grade'] = df['grade'].str.replace('I', \"None\", regex=True)\n",
    "df['grade'] = df['grade'].str.replace('s', \"None\", regex=True)\n",
    "df['grade'] = df['grade'].str.replace('-', \"None\", regex=True)\n",
    "df['grade'] = df['grade'].str.replace('\\?+', \"None\", regex=True)\n",
    "df[\"grade\"].value_counts()"
   ]
  },
  {
   "cell_type": "code",
   "execution_count": 141,
   "id": "5ff9cc66",
   "metadata": {},
   "outputs": [
    {
     "data": {
      "text/plain": [
       "<AxesSubplot:>"
      ]
     },
     "execution_count": 141,
     "metadata": {},
     "output_type": "execute_result"
    },
    {
     "data": {
      "image/png": "[encoded data removed]",
      "text/plain": [
       "<Figure size 640x480 with 1 Axes>"
      ]
     },
     "metadata": {},
     "output_type": "display_data"
    }
   ],
   "source": [
    "df[\"grade\"].value_counts().sort_index().plot(kind=\"bar\")"
   ]
  },
  {
   "cell_type": "code",
   "execution_count": 142,
   "id": "2daa169d",
   "metadata": {},
   "outputs": [
    {
     "data": {
      "text/plain": [
       "ENGL101     424\n",
       "MATH141     387\n",
       "COMM107     386\n",
       "BSCI160     378\n",
       "MATH140     334\n",
       "           ... \n",
       "HIST419B      1\n",
       "CMSC773       1\n",
       "AMST418N      1\n",
       "AAST498M      1\n",
       "HIST226       1\n",
       "Name: course_code, Length: 2815, dtype: int64"
      ]
     },
     "execution_count": 142,
     "metadata": {},
     "output_type": "execute_result"
    }
   ],
   "source": [
    "# formatting course codes\n",
    "df['course_code'].value_counts()"
   ]
  },
  {
   "cell_type": "code",
   "execution_count": 143,
   "id": "284a610d",
   "metadata": {},
   "outputs": [
    {
     "data": {
      "text/html": [
       "<div>\n",
       "<style scoped>\n",
       "    .dataframe tbody tr th:only-of-type {\n",
       "        vertical-align: middle;\n",
       "    }\n",
       "\n",
       "    .dataframe tbody tr th {\n",
       "        vertical-align: top;\n",
       "    }\n",
       "\n",
       "    .dataframe thead th {\n",
       "        text-align: right;\n",
       "    }\n",
       "</style>\n",
       "<table border=\"1\" class=\"dataframe\">\n",
       "  <thead>\n",
       "    <tr style=\"text-align: right;\">\n",
       "      <th></th>\n",
       "      <th>department</th>\n",
       "      <th>course_number</th>\n",
       "    </tr>\n",
       "  </thead>\n",
       "  <tbody>\n",
       "    <tr>\n",
       "      <th>0</th>\n",
       "      <td>NFSC</td>\n",
       "      <td>112</td>\n",
       "    </tr>\n",
       "    <tr>\n",
       "      <th>1</th>\n",
       "      <td>NFSC</td>\n",
       "      <td>112</td>\n",
       "    </tr>\n",
       "    <tr>\n",
       "      <th>2</th>\n",
       "      <td>NFSC</td>\n",
       "      <td>112</td>\n",
       "    </tr>\n",
       "    <tr>\n",
       "      <th>3</th>\n",
       "      <td>NFSC</td>\n",
       "      <td>112</td>\n",
       "    </tr>\n",
       "    <tr>\n",
       "      <th>4</th>\n",
       "      <td>NFSC</td>\n",
       "      <td>112</td>\n",
       "    </tr>\n",
       "    <tr>\n",
       "      <th>...</th>\n",
       "      <td>...</td>\n",
       "      <td>...</td>\n",
       "    </tr>\n",
       "    <tr>\n",
       "      <th>26158</th>\n",
       "      <td>HNUH</td>\n",
       "      <td>288W</td>\n",
       "    </tr>\n",
       "    <tr>\n",
       "      <th>26159</th>\n",
       "      <td>HNUH</td>\n",
       "      <td>288W</td>\n",
       "    </tr>\n",
       "    <tr>\n",
       "      <th>26160</th>\n",
       "      <td>HNUH</td>\n",
       "      <td>288W</td>\n",
       "    </tr>\n",
       "    <tr>\n",
       "      <th>26161</th>\n",
       "      <td>PHSC</td>\n",
       "      <td>450</td>\n",
       "    </tr>\n",
       "    <tr>\n",
       "      <th>26162</th>\n",
       "      <td>HIST</td>\n",
       "      <td>226</td>\n",
       "    </tr>\n",
       "  </tbody>\n",
       "</table>\n",
       "<p>26144 rows × 2 columns</p>\n",
       "</div>"
      ],
      "text/plain": [
       "      department course_number\n",
       "0           NFSC           112\n",
       "1           NFSC           112\n",
       "2           NFSC           112\n",
       "3           NFSC           112\n",
       "4           NFSC           112\n",
       "...          ...           ...\n",
       "26158       HNUH          288W\n",
       "26159       HNUH          288W\n",
       "26160       HNUH          288W\n",
       "26161       PHSC           450\n",
       "26162       HIST           226\n",
       "\n",
       "[26144 rows x 2 columns]"
      ]
     },
     "execution_count": 143,
     "metadata": {},
     "output_type": "execute_result"
    }
   ],
   "source": [
    "df['department'] = df['course_code'].str.slice(0, 4)\n",
    "df['course_number'] = df['course_code'].str.slice(4)\n",
    "\n",
    "df[['department', 'course_number']]"
   ]
  },
  {
   "cell_type": "code",
   "execution_count": 144,
   "id": "3e3c77a1",
   "metadata": {},
   "outputs": [
    {
     "data": {
      "text/html": [
       "<div>\n",
       "<style scoped>\n",
       "    .dataframe tbody tr th:only-of-type {\n",
       "        vertical-align: middle;\n",
       "    }\n",
       "\n",
       "    .dataframe tbody tr th {\n",
       "        vertical-align: top;\n",
       "    }\n",
       "\n",
       "    .dataframe thead th {\n",
       "        text-align: right;\n",
       "    }\n",
       "</style>\n",
       "<table border=\"1\" class=\"dataframe\">\n",
       "  <thead>\n",
       "    <tr style=\"text-align: right;\">\n",
       "      <th></th>\n",
       "      <th>star_count</th>\n",
       "      <th>prof_name</th>\n",
       "      <th>grade</th>\n",
       "      <th>reviewer_name</th>\n",
       "      <th>date</th>\n",
       "      <th>review_text</th>\n",
       "      <th>review_id</th>\n",
       "      <th>department</th>\n",
       "      <th>course_number</th>\n",
       "    </tr>\n",
       "  </thead>\n",
       "  <tbody>\n",
       "    <tr>\n",
       "      <th>0</th>\n",
       "      <td>4</td>\n",
       "      <td>Abani Pradhan</td>\n",
       "      <td>A</td>\n",
       "      <td>Anonymous</td>\n",
       "      <td>2023-12-23</td>\n",
       "      <td>Didn't learn anything, but didn't need to. Eas...</td>\n",
       "      <td>review-31256</td>\n",
       "      <td>NFSC</td>\n",
       "      <td>112</td>\n",
       "    </tr>\n",
       "    <tr>\n",
       "      <th>1</th>\n",
       "      <td>5</td>\n",
       "      <td>Qin Wang</td>\n",
       "      <td>A</td>\n",
       "      <td>Anonymous</td>\n",
       "      <td>2023-12-18</td>\n",
       "      <td>Easy class. The lectures are asynchronous but ...</td>\n",
       "      <td>review-30485</td>\n",
       "      <td>NFSC</td>\n",
       "      <td>112</td>\n",
       "    </tr>\n",
       "    <tr>\n",
       "      <th>2</th>\n",
       "      <td>5</td>\n",
       "      <td>Xiaoxue Jia</td>\n",
       "      <td>A</td>\n",
       "      <td>Anonymous</td>\n",
       "      <td>2023-12-13</td>\n",
       "      <td>She is amazing with ADS and helpful with answe...</td>\n",
       "      <td>review-29852</td>\n",
       "      <td>NFSC</td>\n",
       "      <td>112</td>\n",
       "    </tr>\n",
       "    <tr>\n",
       "      <th>3</th>\n",
       "      <td>2</td>\n",
       "      <td>Abani Pradhan</td>\n",
       "      <td>B</td>\n",
       "      <td>Anonymous</td>\n",
       "      <td>2023-12-06</td>\n",
       "      <td>Easy class as long as you actually watch the l...</td>\n",
       "      <td>review-28855</td>\n",
       "      <td>NFSC</td>\n",
       "      <td>112</td>\n",
       "    </tr>\n",
       "    <tr>\n",
       "      <th>4</th>\n",
       "      <td>5</td>\n",
       "      <td>Qin Wang</td>\n",
       "      <td>A</td>\n",
       "      <td>Anonymous</td>\n",
       "      <td>2023-11-26</td>\n",
       "      <td>she is a good lecturer, nfsc 112, is \"chill,\" ...</td>\n",
       "      <td>review-28192</td>\n",
       "      <td>NFSC</td>\n",
       "      <td>112</td>\n",
       "    </tr>\n",
       "    <tr>\n",
       "      <th>...</th>\n",
       "      <td>...</td>\n",
       "      <td>...</td>\n",
       "      <td>...</td>\n",
       "      <td>...</td>\n",
       "      <td>...</td>\n",
       "      <td>...</td>\n",
       "      <td>...</td>\n",
       "      <td>...</td>\n",
       "      <td>...</td>\n",
       "    </tr>\n",
       "    <tr>\n",
       "      <th>26158</th>\n",
       "      <td>5</td>\n",
       "      <td>Kerry Tripp</td>\n",
       "      <td>A</td>\n",
       "      <td>Anonymous</td>\n",
       "      <td>2024-02-01</td>\n",
       "      <td>Professor Tripp's class was super engaging and...</td>\n",
       "      <td>review-32199</td>\n",
       "      <td>HNUH</td>\n",
       "      <td>288W</td>\n",
       "    </tr>\n",
       "    <tr>\n",
       "      <th>26159</th>\n",
       "      <td>5</td>\n",
       "      <td>Kerry Tripp</td>\n",
       "      <td>A</td>\n",
       "      <td>Anonymous</td>\n",
       "      <td>2023-12-22</td>\n",
       "      <td>Undoubtedly the standout among all clusters at...</td>\n",
       "      <td>review-31130</td>\n",
       "      <td>HNUH</td>\n",
       "      <td>288W</td>\n",
       "    </tr>\n",
       "    <tr>\n",
       "      <th>26160</th>\n",
       "      <td>5</td>\n",
       "      <td>Kerry Tripp</td>\n",
       "      <td>A</td>\n",
       "      <td>Anonymous</td>\n",
       "      <td>2023-11-01</td>\n",
       "      <td>Definitely suggest taking a class with Profess...</td>\n",
       "      <td>review-27811</td>\n",
       "      <td>HNUH</td>\n",
       "      <td>288W</td>\n",
       "    </tr>\n",
       "    <tr>\n",
       "      <th>26161</th>\n",
       "      <td>5</td>\n",
       "      <td>Kendall Bustad</td>\n",
       "      <td>A</td>\n",
       "      <td>Anonymous</td>\n",
       "      <td>2023-12-17</td>\n",
       "      <td>Phsc450 is honestly not a hard class! A lot of...</td>\n",
       "      <td>review-30424</td>\n",
       "      <td>PHSC</td>\n",
       "      <td>450</td>\n",
       "    </tr>\n",
       "    <tr>\n",
       "      <th>26162</th>\n",
       "      <td>5</td>\n",
       "      <td>Robert Chiles</td>\n",
       "      <td>A</td>\n",
       "      <td>Anonymous</td>\n",
       "      <td>2023-12-30</td>\n",
       "      <td>(****took HIST226 but it won't let me put the ...</td>\n",
       "      <td>review-31530</td>\n",
       "      <td>HIST</td>\n",
       "      <td>226</td>\n",
       "    </tr>\n",
       "  </tbody>\n",
       "</table>\n",
       "<p>26144 rows × 9 columns</p>\n",
       "</div>"
      ],
      "text/plain": [
       "       star_count       prof_name grade reviewer_name       date  \\\n",
       "0               4   Abani Pradhan     A     Anonymous 2023-12-23   \n",
       "1               5        Qin Wang     A     Anonymous 2023-12-18   \n",
       "2               5     Xiaoxue Jia     A     Anonymous 2023-12-13   \n",
       "3               2   Abani Pradhan     B     Anonymous 2023-12-06   \n",
       "4               5        Qin Wang     A     Anonymous 2023-11-26   \n",
       "...           ...             ...   ...           ...        ...   \n",
       "26158           5     Kerry Tripp     A     Anonymous 2024-02-01   \n",
       "26159           5     Kerry Tripp     A     Anonymous 2023-12-22   \n",
       "26160           5     Kerry Tripp     A     Anonymous 2023-11-01   \n",
       "26161           5  Kendall Bustad     A     Anonymous 2023-12-17   \n",
       "26162           5   Robert Chiles     A     Anonymous 2023-12-30   \n",
       "\n",
       "                                             review_text     review_id  \\\n",
       "0      Didn't learn anything, but didn't need to. Eas...  review-31256   \n",
       "1      Easy class. The lectures are asynchronous but ...  review-30485   \n",
       "2      She is amazing with ADS and helpful with answe...  review-29852   \n",
       "3      Easy class as long as you actually watch the l...  review-28855   \n",
       "4      she is a good lecturer, nfsc 112, is \"chill,\" ...  review-28192   \n",
       "...                                                  ...           ...   \n",
       "26158  Professor Tripp's class was super engaging and...  review-32199   \n",
       "26159  Undoubtedly the standout among all clusters at...  review-31130   \n",
       "26160  Definitely suggest taking a class with Profess...  review-27811   \n",
       "26161  Phsc450 is honestly not a hard class! A lot of...  review-30424   \n",
       "26162  (****took HIST226 but it won't let me put the ...  review-31530   \n",
       "\n",
       "      department course_number  \n",
       "0           NFSC           112  \n",
       "1           NFSC           112  \n",
       "2           NFSC           112  \n",
       "3           NFSC           112  \n",
       "4           NFSC           112  \n",
       "...          ...           ...  \n",
       "26158       HNUH          288W  \n",
       "26159       HNUH          288W  \n",
       "26160       HNUH          288W  \n",
       "26161       PHSC           450  \n",
       "26162       HIST           226  \n",
       "\n",
       "[26144 rows x 9 columns]"
      ]
     },
     "execution_count": 144,
     "metadata": {},
     "output_type": "execute_result"
    }
   ],
   "source": [
    "df = df.drop(\"course_code\", axis=1)\n",
    "df"
   ]
  },
  {
   "cell_type": "markdown",
   "id": "baeac503",
   "metadata": {},
   "source": [
    "## Data Visualization"
   ]
  },
  {
   "cell_type": "code",
   "execution_count": null,
   "id": "70325648",
   "metadata": {},
   "outputs": [],
   "source": []
  },
  {
   "cell_type": "markdown",
   "id": "b4e11ce3",
   "metadata": {},
   "source": [
    "## Hypothesis Testing"
   ]
  },
  {
   "cell_type": "markdown",
   "id": "294d973f",
   "metadata": {},
   "source": [
    "#### Test 1"
   ]
  },
  {
   "cell_type": "markdown",
   "id": "2e14f911",
   "metadata": {},
   "source": [
    "Does reviewing on plannetterp as an anonymous user encourage worse reviews/lower number of stars? Assume the significance level is 0.05.\n",
    "\n",
    "    - H0: The average star count is the same for anonymous and non-anonymous reviewers.\n",
    "    - Ha: The average star count is not the same for anonymous and non-anonymous reviewers."
   ]
  },
  {
   "cell_type": "code",
   "execution_count": 145,
   "id": "742b9395",
   "metadata": {},
   "outputs": [
    {
     "name": "stdout",
     "output_type": "stream",
     "text": [
      "t-statistic: -10.718341887139474\n",
      "p-value: 9.488975795507464e-27\n"
     ]
    }
   ],
   "source": [
    "import scipy.stats as stats\n",
    "\n",
    "anonymous_scores = df[df['reviewer_name'] == 'Anonymous']['star_count']\n",
    "non_anonymous_scores = df[df['reviewer_name'] != 'Anonymous']['star_count']\n",
    "\n",
    "t_stat, p_value = stats.ttest_ind(anonymous_scores, non_anonymous_scores)\n",
    "\n",
    "print(f\"t-statistic: {t_stat}\")\n",
    "print(f\"p-value: {p_value}\")"
   ]
  },
  {
   "cell_type": "markdown",
   "id": "0e9339c5",
   "metadata": {},
   "source": [
    "We reject the null hypothesis because the p-value of 9.49e-27 is less than the significance 0.05. We can conclude that there is a difference between the means of the two groups.\n",
    "\n",
    "The negative ttest that indicates that the anonymous_scores has a lower mean than the non_anonymous scores, indicating that the average star count is higher for non_anonymous_scores."
   ]
  },
  {
   "cell_type": "code",
   "execution_count": 146,
   "id": "150f266c",
   "metadata": {},
   "outputs": [
    {
     "data": {
      "image/png": "[encoded data removed]",
      "text/plain": [
       "<Figure size 640x480 with 1 Axes>"
      ]
     },
     "metadata": {},
     "output_type": "display_data"
    }
   ],
   "source": [
    "df['reviewer_type'] = df['reviewer_name'].apply(lambda x: 'Anonymous' if x == 'Anonymous' else 'Non Anonymous')\n",
    "df.groupby(['star_count', 'reviewer_type']).size().unstack().plot(kind='bar', stacked=True)\n",
    "plt.title('Number of Anonymous and Non Anonymous Reviewers for Each Star Count')\n",
    "plt.xlabel('Star Count')\n",
    "plt.ylabel('Number of Reviewers')\n",
    "plt.show()"
   ]
  },
  {
   "cell_type": "markdown",
   "id": "d94a4a90",
   "metadata": {},
   "source": [
    "#### Test 2"
   ]
  },
  {
   "cell_type": "markdown",
   "id": "019a49e4",
   "metadata": {},
   "source": [
    "Are people with better grade more inclined to give a professor more stars?\n",
    "\n",
    "    - H0: \n",
    "    - Ha: "
   ]
  },
  {
   "cell_type": "code",
   "execution_count": null,
   "id": "ae346661",
   "metadata": {},
   "outputs": [],
   "source": []
  },
  {
   "cell_type": "code",
   "execution_count": null,
   "id": "0e4665a0",
   "metadata": {},
   "outputs": [],
   "source": []
  }
 ],
 "metadata": {
  "kernelspec": {
   "display_name": "Python 3 (ipykernel)",
   "language": "python",
   "name": "python3"
  },
  "language_info": {
   "codemirror_mode": {
    "name": "ipython",
    "version": 3
   },
   "file_extension": ".py",
   "mimetype": "text/x-python",
   "name": "python",
   "nbconvert_exporter": "python",
   "pygments_lexer": "ipython3",
   "version": "3.9.13"
  }
 },
 "nbformat": 4,
 "nbformat_minor": 5
}
